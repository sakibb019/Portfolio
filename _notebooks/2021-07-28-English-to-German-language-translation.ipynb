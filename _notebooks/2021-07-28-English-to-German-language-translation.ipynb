{
  "nbformat": 4,
  "nbformat_minor": 0,
  "metadata": {
    "colab": {
      "name": "2021-07-28-English_to_German_language_translation.ipynb",
      "provenance": [],
      "collapsed_sections": []
    },
    "kernelspec": {
      "name": "python3",
      "display_name": "Python 3"
    },
    "language_info": {
      "name": "python"
    },
    "accelerator": "GPU",
    "widgets": {
      "application/vnd.jupyter.widget-state+json": {
        "b0e8104bf3ee4d8c9f560b633a8fcc60": {
          "model_module": "@jupyter-widgets/controls",
          "model_name": "HBoxModel",
          "state": {
            "_view_name": "HBoxView",
            "_dom_classes": [],
            "_model_name": "HBoxModel",
            "_view_module": "@jupyter-widgets/controls",
            "_model_module_version": "1.5.0",
            "_view_count": null,
            "_view_module_version": "1.5.0",
            "box_style": "",
            "layout": "IPY_MODEL_f3370ae6a41e4f19895dcecdd16fe860",
            "_model_module": "@jupyter-widgets/controls",
            "children": [
              "IPY_MODEL_b3d16724686e4e06800fe34efb52b15f",
              "IPY_MODEL_3cd605933c7c460f86b4a0f213d579c5"
            ]
          }
        },
        "f3370ae6a41e4f19895dcecdd16fe860": {
          "model_module": "@jupyter-widgets/base",
          "model_name": "LayoutModel",
          "state": {
            "_view_name": "LayoutView",
            "grid_template_rows": null,
            "right": null,
            "justify_content": null,
            "_view_module": "@jupyter-widgets/base",
            "overflow": null,
            "_model_module_version": "1.2.0",
            "_view_count": null,
            "flex_flow": null,
            "width": null,
            "min_width": null,
            "border": null,
            "align_items": null,
            "bottom": null,
            "_model_module": "@jupyter-widgets/base",
            "top": null,
            "grid_column": null,
            "overflow_y": null,
            "overflow_x": null,
            "grid_auto_flow": null,
            "grid_area": null,
            "grid_template_columns": null,
            "flex": null,
            "_model_name": "LayoutModel",
            "justify_items": null,
            "grid_row": null,
            "max_height": null,
            "align_content": null,
            "visibility": null,
            "align_self": null,
            "height": null,
            "min_height": null,
            "padding": null,
            "grid_auto_rows": null,
            "grid_gap": null,
            "max_width": null,
            "order": null,
            "_view_module_version": "1.2.0",
            "grid_template_areas": null,
            "object_position": null,
            "object_fit": null,
            "grid_auto_columns": null,
            "margin": null,
            "display": null,
            "left": null
          }
        },
        "b3d16724686e4e06800fe34efb52b15f": {
          "model_module": "@jupyter-widgets/controls",
          "model_name": "FloatProgressModel",
          "state": {
            "_view_name": "ProgressView",
            "style": "IPY_MODEL_c1e29eb65de44376866ea77c444fd293",
            "_dom_classes": [],
            "description": "Downloading: 100%",
            "_model_name": "FloatProgressModel",
            "bar_style": "success",
            "max": 1199,
            "_view_module": "@jupyter-widgets/controls",
            "_model_module_version": "1.5.0",
            "value": 1199,
            "_view_count": null,
            "_view_module_version": "1.5.0",
            "orientation": "horizontal",
            "min": 0,
            "description_tooltip": null,
            "_model_module": "@jupyter-widgets/controls",
            "layout": "IPY_MODEL_58fbc25ee1fc418cac5172d7a1e91585"
          }
        },
        "3cd605933c7c460f86b4a0f213d579c5": {
          "model_module": "@jupyter-widgets/controls",
          "model_name": "HTMLModel",
          "state": {
            "_view_name": "HTMLView",
            "style": "IPY_MODEL_73aace4eb08d45af8ad249ed469988a1",
            "_dom_classes": [],
            "description": "",
            "_model_name": "HTMLModel",
            "placeholder": "​",
            "_view_module": "@jupyter-widgets/controls",
            "_model_module_version": "1.5.0",
            "value": " 1.20k/1.20k [00:29&lt;00:00, 40.8B/s]",
            "_view_count": null,
            "_view_module_version": "1.5.0",
            "description_tooltip": null,
            "_model_module": "@jupyter-widgets/controls",
            "layout": "IPY_MODEL_dee27d12336d4ede9bebb97d92a11922"
          }
        },
        "c1e29eb65de44376866ea77c444fd293": {
          "model_module": "@jupyter-widgets/controls",
          "model_name": "ProgressStyleModel",
          "state": {
            "_view_name": "StyleView",
            "_model_name": "ProgressStyleModel",
            "description_width": "initial",
            "_view_module": "@jupyter-widgets/base",
            "_model_module_version": "1.5.0",
            "_view_count": null,
            "_view_module_version": "1.2.0",
            "bar_color": null,
            "_model_module": "@jupyter-widgets/controls"
          }
        },
        "58fbc25ee1fc418cac5172d7a1e91585": {
          "model_module": "@jupyter-widgets/base",
          "model_name": "LayoutModel",
          "state": {
            "_view_name": "LayoutView",
            "grid_template_rows": null,
            "right": null,
            "justify_content": null,
            "_view_module": "@jupyter-widgets/base",
            "overflow": null,
            "_model_module_version": "1.2.0",
            "_view_count": null,
            "flex_flow": null,
            "width": null,
            "min_width": null,
            "border": null,
            "align_items": null,
            "bottom": null,
            "_model_module": "@jupyter-widgets/base",
            "top": null,
            "grid_column": null,
            "overflow_y": null,
            "overflow_x": null,
            "grid_auto_flow": null,
            "grid_area": null,
            "grid_template_columns": null,
            "flex": null,
            "_model_name": "LayoutModel",
            "justify_items": null,
            "grid_row": null,
            "max_height": null,
            "align_content": null,
            "visibility": null,
            "align_self": null,
            "height": null,
            "min_height": null,
            "padding": null,
            "grid_auto_rows": null,
            "grid_gap": null,
            "max_width": null,
            "order": null,
            "_view_module_version": "1.2.0",
            "grid_template_areas": null,
            "object_position": null,
            "object_fit": null,
            "grid_auto_columns": null,
            "margin": null,
            "display": null,
            "left": null
          }
        },
        "73aace4eb08d45af8ad249ed469988a1": {
          "model_module": "@jupyter-widgets/controls",
          "model_name": "DescriptionStyleModel",
          "state": {
            "_view_name": "StyleView",
            "_model_name": "DescriptionStyleModel",
            "description_width": "",
            "_view_module": "@jupyter-widgets/base",
            "_model_module_version": "1.5.0",
            "_view_count": null,
            "_view_module_version": "1.2.0",
            "_model_module": "@jupyter-widgets/controls"
          }
        },
        "dee27d12336d4ede9bebb97d92a11922": {
          "model_module": "@jupyter-widgets/base",
          "model_name": "LayoutModel",
          "state": {
            "_view_name": "LayoutView",
            "grid_template_rows": null,
            "right": null,
            "justify_content": null,
            "_view_module": "@jupyter-widgets/base",
            "overflow": null,
            "_model_module_version": "1.2.0",
            "_view_count": null,
            "flex_flow": null,
            "width": null,
            "min_width": null,
            "border": null,
            "align_items": null,
            "bottom": null,
            "_model_module": "@jupyter-widgets/base",
            "top": null,
            "grid_column": null,
            "overflow_y": null,
            "overflow_x": null,
            "grid_auto_flow": null,
            "grid_area": null,
            "grid_template_columns": null,
            "flex": null,
            "_model_name": "LayoutModel",
            "justify_items": null,
            "grid_row": null,
            "max_height": null,
            "align_content": null,
            "visibility": null,
            "align_self": null,
            "height": null,
            "min_height": null,
            "padding": null,
            "grid_auto_rows": null,
            "grid_gap": null,
            "max_width": null,
            "order": null,
            "_view_module_version": "1.2.0",
            "grid_template_areas": null,
            "object_position": null,
            "object_fit": null,
            "grid_auto_columns": null,
            "margin": null,
            "display": null,
            "left": null
          }
        },
        "134cb3ef7ffe49af8f62495432f16d5e": {
          "model_module": "@jupyter-widgets/controls",
          "model_name": "HBoxModel",
          "state": {
            "_view_name": "HBoxView",
            "_dom_classes": [],
            "_model_name": "HBoxModel",
            "_view_module": "@jupyter-widgets/controls",
            "_model_module_version": "1.5.0",
            "_view_count": null,
            "_view_module_version": "1.5.0",
            "box_style": "",
            "layout": "IPY_MODEL_5802215792a348379e51da8869a05a55",
            "_model_module": "@jupyter-widgets/controls",
            "children": [
              "IPY_MODEL_00592b6e7b434a95b885953a159bc3b1",
              "IPY_MODEL_320289fa626341f49467cf07a5d6e506"
            ]
          }
        },
        "5802215792a348379e51da8869a05a55": {
          "model_module": "@jupyter-widgets/base",
          "model_name": "LayoutModel",
          "state": {
            "_view_name": "LayoutView",
            "grid_template_rows": null,
            "right": null,
            "justify_content": null,
            "_view_module": "@jupyter-widgets/base",
            "overflow": null,
            "_model_module_version": "1.2.0",
            "_view_count": null,
            "flex_flow": null,
            "width": null,
            "min_width": null,
            "border": null,
            "align_items": null,
            "bottom": null,
            "_model_module": "@jupyter-widgets/base",
            "top": null,
            "grid_column": null,
            "overflow_y": null,
            "overflow_x": null,
            "grid_auto_flow": null,
            "grid_area": null,
            "grid_template_columns": null,
            "flex": null,
            "_model_name": "LayoutModel",
            "justify_items": null,
            "grid_row": null,
            "max_height": null,
            "align_content": null,
            "visibility": null,
            "align_self": null,
            "height": null,
            "min_height": null,
            "padding": null,
            "grid_auto_rows": null,
            "grid_gap": null,
            "max_width": null,
            "order": null,
            "_view_module_version": "1.2.0",
            "grid_template_areas": null,
            "object_position": null,
            "object_fit": null,
            "grid_auto_columns": null,
            "margin": null,
            "display": null,
            "left": null
          }
        },
        "00592b6e7b434a95b885953a159bc3b1": {
          "model_module": "@jupyter-widgets/controls",
          "model_name": "FloatProgressModel",
          "state": {
            "_view_name": "ProgressView",
            "style": "IPY_MODEL_cc2fa09ec1414593b1a189336fa496e0",
            "_dom_classes": [],
            "description": "Downloading: 100%",
            "_model_name": "FloatProgressModel",
            "bar_style": "success",
            "max": 891691430,
            "_view_module": "@jupyter-widgets/controls",
            "_model_module_version": "1.5.0",
            "value": 891691430,
            "_view_count": null,
            "_view_module_version": "1.5.0",
            "orientation": "horizontal",
            "min": 0,
            "description_tooltip": null,
            "_model_module": "@jupyter-widgets/controls",
            "layout": "IPY_MODEL_1872ab8de17149b383978fb5eae1df3f"
          }
        },
        "320289fa626341f49467cf07a5d6e506": {
          "model_module": "@jupyter-widgets/controls",
          "model_name": "HTMLModel",
          "state": {
            "_view_name": "HTMLView",
            "style": "IPY_MODEL_3bb83ec815fe456784269912ac124291",
            "_dom_classes": [],
            "description": "",
            "_model_name": "HTMLModel",
            "placeholder": "​",
            "_view_module": "@jupyter-widgets/controls",
            "_model_module_version": "1.5.0",
            "value": " 892M/892M [00:28&lt;00:00, 31.2MB/s]",
            "_view_count": null,
            "_view_module_version": "1.5.0",
            "description_tooltip": null,
            "_model_module": "@jupyter-widgets/controls",
            "layout": "IPY_MODEL_ab8682e7d4554badaea24210121df6c6"
          }
        },
        "cc2fa09ec1414593b1a189336fa496e0": {
          "model_module": "@jupyter-widgets/controls",
          "model_name": "ProgressStyleModel",
          "state": {
            "_view_name": "StyleView",
            "_model_name": "ProgressStyleModel",
            "description_width": "initial",
            "_view_module": "@jupyter-widgets/base",
            "_model_module_version": "1.5.0",
            "_view_count": null,
            "_view_module_version": "1.2.0",
            "bar_color": null,
            "_model_module": "@jupyter-widgets/controls"
          }
        },
        "1872ab8de17149b383978fb5eae1df3f": {
          "model_module": "@jupyter-widgets/base",
          "model_name": "LayoutModel",
          "state": {
            "_view_name": "LayoutView",
            "grid_template_rows": null,
            "right": null,
            "justify_content": null,
            "_view_module": "@jupyter-widgets/base",
            "overflow": null,
            "_model_module_version": "1.2.0",
            "_view_count": null,
            "flex_flow": null,
            "width": null,
            "min_width": null,
            "border": null,
            "align_items": null,
            "bottom": null,
            "_model_module": "@jupyter-widgets/base",
            "top": null,
            "grid_column": null,
            "overflow_y": null,
            "overflow_x": null,
            "grid_auto_flow": null,
            "grid_area": null,
            "grid_template_columns": null,
            "flex": null,
            "_model_name": "LayoutModel",
            "justify_items": null,
            "grid_row": null,
            "max_height": null,
            "align_content": null,
            "visibility": null,
            "align_self": null,
            "height": null,
            "min_height": null,
            "padding": null,
            "grid_auto_rows": null,
            "grid_gap": null,
            "max_width": null,
            "order": null,
            "_view_module_version": "1.2.0",
            "grid_template_areas": null,
            "object_position": null,
            "object_fit": null,
            "grid_auto_columns": null,
            "margin": null,
            "display": null,
            "left": null
          }
        },
        "3bb83ec815fe456784269912ac124291": {
          "model_module": "@jupyter-widgets/controls",
          "model_name": "DescriptionStyleModel",
          "state": {
            "_view_name": "StyleView",
            "_model_name": "DescriptionStyleModel",
            "description_width": "",
            "_view_module": "@jupyter-widgets/base",
            "_model_module_version": "1.5.0",
            "_view_count": null,
            "_view_module_version": "1.2.0",
            "_model_module": "@jupyter-widgets/controls"
          }
        },
        "ab8682e7d4554badaea24210121df6c6": {
          "model_module": "@jupyter-widgets/base",
          "model_name": "LayoutModel",
          "state": {
            "_view_name": "LayoutView",
            "grid_template_rows": null,
            "right": null,
            "justify_content": null,
            "_view_module": "@jupyter-widgets/base",
            "overflow": null,
            "_model_module_version": "1.2.0",
            "_view_count": null,
            "flex_flow": null,
            "width": null,
            "min_width": null,
            "border": null,
            "align_items": null,
            "bottom": null,
            "_model_module": "@jupyter-widgets/base",
            "top": null,
            "grid_column": null,
            "overflow_y": null,
            "overflow_x": null,
            "grid_auto_flow": null,
            "grid_area": null,
            "grid_template_columns": null,
            "flex": null,
            "_model_name": "LayoutModel",
            "justify_items": null,
            "grid_row": null,
            "max_height": null,
            "align_content": null,
            "visibility": null,
            "align_self": null,
            "height": null,
            "min_height": null,
            "padding": null,
            "grid_auto_rows": null,
            "grid_gap": null,
            "max_width": null,
            "order": null,
            "_view_module_version": "1.2.0",
            "grid_template_areas": null,
            "object_position": null,
            "object_fit": null,
            "grid_auto_columns": null,
            "margin": null,
            "display": null,
            "left": null
          }
        },
        "13444f5ec58d4ad7b221634ee8d10650": {
          "model_module": "@jupyter-widgets/controls",
          "model_name": "HBoxModel",
          "state": {
            "_view_name": "HBoxView",
            "_dom_classes": [],
            "_model_name": "HBoxModel",
            "_view_module": "@jupyter-widgets/controls",
            "_model_module_version": "1.5.0",
            "_view_count": null,
            "_view_module_version": "1.5.0",
            "box_style": "",
            "layout": "IPY_MODEL_0228309f91b8456e9d2ed58051fe0951",
            "_model_module": "@jupyter-widgets/controls",
            "children": [
              "IPY_MODEL_edc6bd3aecfc44a3af1d256c829d5f1b",
              "IPY_MODEL_6e94cf2db5064d8584b51192a78cd0c7"
            ]
          }
        },
        "0228309f91b8456e9d2ed58051fe0951": {
          "model_module": "@jupyter-widgets/base",
          "model_name": "LayoutModel",
          "state": {
            "_view_name": "LayoutView",
            "grid_template_rows": null,
            "right": null,
            "justify_content": null,
            "_view_module": "@jupyter-widgets/base",
            "overflow": null,
            "_model_module_version": "1.2.0",
            "_view_count": null,
            "flex_flow": null,
            "width": null,
            "min_width": null,
            "border": null,
            "align_items": null,
            "bottom": null,
            "_model_module": "@jupyter-widgets/base",
            "top": null,
            "grid_column": null,
            "overflow_y": null,
            "overflow_x": null,
            "grid_auto_flow": null,
            "grid_area": null,
            "grid_template_columns": null,
            "flex": null,
            "_model_name": "LayoutModel",
            "justify_items": null,
            "grid_row": null,
            "max_height": null,
            "align_content": null,
            "visibility": null,
            "align_self": null,
            "height": null,
            "min_height": null,
            "padding": null,
            "grid_auto_rows": null,
            "grid_gap": null,
            "max_width": null,
            "order": null,
            "_view_module_version": "1.2.0",
            "grid_template_areas": null,
            "object_position": null,
            "object_fit": null,
            "grid_auto_columns": null,
            "margin": null,
            "display": null,
            "left": null
          }
        },
        "edc6bd3aecfc44a3af1d256c829d5f1b": {
          "model_module": "@jupyter-widgets/controls",
          "model_name": "FloatProgressModel",
          "state": {
            "_view_name": "ProgressView",
            "style": "IPY_MODEL_87f9db9b93a146879975276b9bba3eae",
            "_dom_classes": [],
            "description": "Downloading: 100%",
            "_model_name": "FloatProgressModel",
            "bar_style": "success",
            "max": 791656,
            "_view_module": "@jupyter-widgets/controls",
            "_model_module_version": "1.5.0",
            "value": 791656,
            "_view_count": null,
            "_view_module_version": "1.5.0",
            "orientation": "horizontal",
            "min": 0,
            "description_tooltip": null,
            "_model_module": "@jupyter-widgets/controls",
            "layout": "IPY_MODEL_25462397a9c345d295b7c7abbba65995"
          }
        },
        "6e94cf2db5064d8584b51192a78cd0c7": {
          "model_module": "@jupyter-widgets/controls",
          "model_name": "HTMLModel",
          "state": {
            "_view_name": "HTMLView",
            "style": "IPY_MODEL_82467769f8f94a1d822b36712ea3fe96",
            "_dom_classes": [],
            "description": "",
            "_model_name": "HTMLModel",
            "placeholder": "​",
            "_view_module": "@jupyter-widgets/controls",
            "_model_module_version": "1.5.0",
            "value": " 792k/792k [00:01&lt;00:00, 596kB/s]",
            "_view_count": null,
            "_view_module_version": "1.5.0",
            "description_tooltip": null,
            "_model_module": "@jupyter-widgets/controls",
            "layout": "IPY_MODEL_8aa849ea2dbc498099f5f691b2d2c0ec"
          }
        },
        "87f9db9b93a146879975276b9bba3eae": {
          "model_module": "@jupyter-widgets/controls",
          "model_name": "ProgressStyleModel",
          "state": {
            "_view_name": "StyleView",
            "_model_name": "ProgressStyleModel",
            "description_width": "initial",
            "_view_module": "@jupyter-widgets/base",
            "_model_module_version": "1.5.0",
            "_view_count": null,
            "_view_module_version": "1.2.0",
            "bar_color": null,
            "_model_module": "@jupyter-widgets/controls"
          }
        },
        "25462397a9c345d295b7c7abbba65995": {
          "model_module": "@jupyter-widgets/base",
          "model_name": "LayoutModel",
          "state": {
            "_view_name": "LayoutView",
            "grid_template_rows": null,
            "right": null,
            "justify_content": null,
            "_view_module": "@jupyter-widgets/base",
            "overflow": null,
            "_model_module_version": "1.2.0",
            "_view_count": null,
            "flex_flow": null,
            "width": null,
            "min_width": null,
            "border": null,
            "align_items": null,
            "bottom": null,
            "_model_module": "@jupyter-widgets/base",
            "top": null,
            "grid_column": null,
            "overflow_y": null,
            "overflow_x": null,
            "grid_auto_flow": null,
            "grid_area": null,
            "grid_template_columns": null,
            "flex": null,
            "_model_name": "LayoutModel",
            "justify_items": null,
            "grid_row": null,
            "max_height": null,
            "align_content": null,
            "visibility": null,
            "align_self": null,
            "height": null,
            "min_height": null,
            "padding": null,
            "grid_auto_rows": null,
            "grid_gap": null,
            "max_width": null,
            "order": null,
            "_view_module_version": "1.2.0",
            "grid_template_areas": null,
            "object_position": null,
            "object_fit": null,
            "grid_auto_columns": null,
            "margin": null,
            "display": null,
            "left": null
          }
        },
        "82467769f8f94a1d822b36712ea3fe96": {
          "model_module": "@jupyter-widgets/controls",
          "model_name": "DescriptionStyleModel",
          "state": {
            "_view_name": "StyleView",
            "_model_name": "DescriptionStyleModel",
            "description_width": "",
            "_view_module": "@jupyter-widgets/base",
            "_model_module_version": "1.5.0",
            "_view_count": null,
            "_view_module_version": "1.2.0",
            "_model_module": "@jupyter-widgets/controls"
          }
        },
        "8aa849ea2dbc498099f5f691b2d2c0ec": {
          "model_module": "@jupyter-widgets/base",
          "model_name": "LayoutModel",
          "state": {
            "_view_name": "LayoutView",
            "grid_template_rows": null,
            "right": null,
            "justify_content": null,
            "_view_module": "@jupyter-widgets/base",
            "overflow": null,
            "_model_module_version": "1.2.0",
            "_view_count": null,
            "flex_flow": null,
            "width": null,
            "min_width": null,
            "border": null,
            "align_items": null,
            "bottom": null,
            "_model_module": "@jupyter-widgets/base",
            "top": null,
            "grid_column": null,
            "overflow_y": null,
            "overflow_x": null,
            "grid_auto_flow": null,
            "grid_area": null,
            "grid_template_columns": null,
            "flex": null,
            "_model_name": "LayoutModel",
            "justify_items": null,
            "grid_row": null,
            "max_height": null,
            "align_content": null,
            "visibility": null,
            "align_self": null,
            "height": null,
            "min_height": null,
            "padding": null,
            "grid_auto_rows": null,
            "grid_gap": null,
            "max_width": null,
            "order": null,
            "_view_module_version": "1.2.0",
            "grid_template_areas": null,
            "object_position": null,
            "object_fit": null,
            "grid_auto_columns": null,
            "margin": null,
            "display": null,
            "left": null
          }
        },
        "e83e0d79288b4bafa2a165db0c0cca88": {
          "model_module": "@jupyter-widgets/controls",
          "model_name": "HBoxModel",
          "state": {
            "_view_name": "HBoxView",
            "_dom_classes": [],
            "_model_name": "HBoxModel",
            "_view_module": "@jupyter-widgets/controls",
            "_model_module_version": "1.5.0",
            "_view_count": null,
            "_view_module_version": "1.5.0",
            "box_style": "",
            "layout": "IPY_MODEL_78d8ff6aa39443c09a2d2edaa008eff9",
            "_model_module": "@jupyter-widgets/controls",
            "children": [
              "IPY_MODEL_4b8976f819a74c728b692e287f01fb54",
              "IPY_MODEL_1fa4470e760745118fa3513f0d486e7e"
            ]
          }
        },
        "78d8ff6aa39443c09a2d2edaa008eff9": {
          "model_module": "@jupyter-widgets/base",
          "model_name": "LayoutModel",
          "state": {
            "_view_name": "LayoutView",
            "grid_template_rows": null,
            "right": null,
            "justify_content": null,
            "_view_module": "@jupyter-widgets/base",
            "overflow": null,
            "_model_module_version": "1.2.0",
            "_view_count": null,
            "flex_flow": null,
            "width": null,
            "min_width": null,
            "border": null,
            "align_items": null,
            "bottom": null,
            "_model_module": "@jupyter-widgets/base",
            "top": null,
            "grid_column": null,
            "overflow_y": null,
            "overflow_x": null,
            "grid_auto_flow": null,
            "grid_area": null,
            "grid_template_columns": null,
            "flex": null,
            "_model_name": "LayoutModel",
            "justify_items": null,
            "grid_row": null,
            "max_height": null,
            "align_content": null,
            "visibility": null,
            "align_self": null,
            "height": null,
            "min_height": null,
            "padding": null,
            "grid_auto_rows": null,
            "grid_gap": null,
            "max_width": null,
            "order": null,
            "_view_module_version": "1.2.0",
            "grid_template_areas": null,
            "object_position": null,
            "object_fit": null,
            "grid_auto_columns": null,
            "margin": null,
            "display": null,
            "left": null
          }
        },
        "4b8976f819a74c728b692e287f01fb54": {
          "model_module": "@jupyter-widgets/controls",
          "model_name": "FloatProgressModel",
          "state": {
            "_view_name": "ProgressView",
            "style": "IPY_MODEL_8701fa2231ee4eaf86d9309ff273392b",
            "_dom_classes": [],
            "description": "Downloading: 100%",
            "_model_name": "FloatProgressModel",
            "bar_style": "success",
            "max": 1389353,
            "_view_module": "@jupyter-widgets/controls",
            "_model_module_version": "1.5.0",
            "value": 1389353,
            "_view_count": null,
            "_view_module_version": "1.5.0",
            "orientation": "horizontal",
            "min": 0,
            "description_tooltip": null,
            "_model_module": "@jupyter-widgets/controls",
            "layout": "IPY_MODEL_6851843df43c440c9172aa709299f982"
          }
        },
        "1fa4470e760745118fa3513f0d486e7e": {
          "model_module": "@jupyter-widgets/controls",
          "model_name": "HTMLModel",
          "state": {
            "_view_name": "HTMLView",
            "style": "IPY_MODEL_279224f19a11469dad55c789cf1c2a9c",
            "_dom_classes": [],
            "description": "",
            "_model_name": "HTMLModel",
            "placeholder": "​",
            "_view_module": "@jupyter-widgets/controls",
            "_model_module_version": "1.5.0",
            "value": " 1.39M/1.39M [00:25&lt;00:00, 55.3kB/s]",
            "_view_count": null,
            "_view_module_version": "1.5.0",
            "description_tooltip": null,
            "_model_module": "@jupyter-widgets/controls",
            "layout": "IPY_MODEL_d15dfd3ccde2466a9852caa3345ead4e"
          }
        },
        "8701fa2231ee4eaf86d9309ff273392b": {
          "model_module": "@jupyter-widgets/controls",
          "model_name": "ProgressStyleModel",
          "state": {
            "_view_name": "StyleView",
            "_model_name": "ProgressStyleModel",
            "description_width": "initial",
            "_view_module": "@jupyter-widgets/base",
            "_model_module_version": "1.5.0",
            "_view_count": null,
            "_view_module_version": "1.2.0",
            "bar_color": null,
            "_model_module": "@jupyter-widgets/controls"
          }
        },
        "6851843df43c440c9172aa709299f982": {
          "model_module": "@jupyter-widgets/base",
          "model_name": "LayoutModel",
          "state": {
            "_view_name": "LayoutView",
            "grid_template_rows": null,
            "right": null,
            "justify_content": null,
            "_view_module": "@jupyter-widgets/base",
            "overflow": null,
            "_model_module_version": "1.2.0",
            "_view_count": null,
            "flex_flow": null,
            "width": null,
            "min_width": null,
            "border": null,
            "align_items": null,
            "bottom": null,
            "_model_module": "@jupyter-widgets/base",
            "top": null,
            "grid_column": null,
            "overflow_y": null,
            "overflow_x": null,
            "grid_auto_flow": null,
            "grid_area": null,
            "grid_template_columns": null,
            "flex": null,
            "_model_name": "LayoutModel",
            "justify_items": null,
            "grid_row": null,
            "max_height": null,
            "align_content": null,
            "visibility": null,
            "align_self": null,
            "height": null,
            "min_height": null,
            "padding": null,
            "grid_auto_rows": null,
            "grid_gap": null,
            "max_width": null,
            "order": null,
            "_view_module_version": "1.2.0",
            "grid_template_areas": null,
            "object_position": null,
            "object_fit": null,
            "grid_auto_columns": null,
            "margin": null,
            "display": null,
            "left": null
          }
        },
        "279224f19a11469dad55c789cf1c2a9c": {
          "model_module": "@jupyter-widgets/controls",
          "model_name": "DescriptionStyleModel",
          "state": {
            "_view_name": "StyleView",
            "_model_name": "DescriptionStyleModel",
            "description_width": "",
            "_view_module": "@jupyter-widgets/base",
            "_model_module_version": "1.5.0",
            "_view_count": null,
            "_view_module_version": "1.2.0",
            "_model_module": "@jupyter-widgets/controls"
          }
        },
        "d15dfd3ccde2466a9852caa3345ead4e": {
          "model_module": "@jupyter-widgets/base",
          "model_name": "LayoutModel",
          "state": {
            "_view_name": "LayoutView",
            "grid_template_rows": null,
            "right": null,
            "justify_content": null,
            "_view_module": "@jupyter-widgets/base",
            "overflow": null,
            "_model_module_version": "1.2.0",
            "_view_count": null,
            "flex_flow": null,
            "width": null,
            "min_width": null,
            "border": null,
            "align_items": null,
            "bottom": null,
            "_model_module": "@jupyter-widgets/base",
            "top": null,
            "grid_column": null,
            "overflow_y": null,
            "overflow_x": null,
            "grid_auto_flow": null,
            "grid_area": null,
            "grid_template_columns": null,
            "flex": null,
            "_model_name": "LayoutModel",
            "justify_items": null,
            "grid_row": null,
            "max_height": null,
            "align_content": null,
            "visibility": null,
            "align_self": null,
            "height": null,
            "min_height": null,
            "padding": null,
            "grid_auto_rows": null,
            "grid_gap": null,
            "max_width": null,
            "order": null,
            "_view_module_version": "1.2.0",
            "grid_template_areas": null,
            "object_position": null,
            "object_fit": null,
            "grid_auto_columns": null,
            "margin": null,
            "display": null,
            "left": null
          }
        }
      }
    }
  },
  "cells": [
    {
      "cell_type": "markdown",
      "metadata": {
        "id": "tiVTKZqH4NfM"
      },
      "source": [
        "![Python-Web-App-696x500.jpg](data:image/jpeg;base64,/9j/4AAQSkZJRgABAQAAAQABAAD/2wBDAAUDBAQEAwUEBAQFBQUGBwwIBwcHBw8LCwkMEQ8SEhEPERETFhwXExQaFRERGCEYGh0dHx8fExciJCIeJBweHx7/2wBDAQUFBQcGBw4ICA4eFBEUHh4eHh4eHh4eHh4eHh4eHh4eHh4eHh4eHh4eHh4eHh4eHh4eHh4eHh4eHh4eHh4eHh7/wgARCAH0ArgDASIAAhEBAxEB/8QAHAAAAwEAAwEBAAAAAAAAAAAAAAECAwUGBwQI/8QAGgEBAQEBAQEBAAAAAAAAAAAAAAECAwQFBv/aAAwDAQACEAMQAAAB6E6n6HkGxAuZJApuWjARiaMTkYnYADqWjASrypLJEGhKaaNlpLYgymQYg05KaEpppTTmaaaUwRschabLpaJLtpFOzM0iRDAGCGUlSEqQlRbkrlc42zazjWW8c9om8M9s3TAsm+KEb91EuqJaMQlCYxNGJo3IlCaMTQaCmqZQwYxkGI2mhSaDGjFTLY5Ck0bVIMbLY5GykGqRtOSmqZdS0bHIUmjBjVAmCCYCZUqhJVJYVzbE6SuU6xd5Z7RN4Z75zfzljpwzg19KiQtw7KJaU4aU5Ro82mjyaXDlKE0YmlVFWNpyUgsbRM6KWlORNCWlVDZty5KaEtxTNOaSxOSqipLcUy2mU1Uy2mjY5G07G1QmNExklCJUhDKkaJVzUKlbEaTNZRrDeWe2d3gWTp1ssv1pYAwQbLE2CZSSJo2hG5aNoShNHU0gwZtAjE00SGXU0jachU0jpNG1UyUmjpOR0my6TkdJo2qZdKkKTkdTSNglABSaANAYJMEmUlSqVSIm1pE3DURrDWUaw3iUN9YrIfatwGhAambZusmmjydMBG5aNoRtCOpaOpbNNCUwQaaWmmbc1IxtkaaO05BhMu5pKapAHJTGy2VINUjaplsaNpw6TQqaQYIDAAsABKkJMqVSslNWwri2YtNZRrDWRQ31MKn3YaKZTRJyNoZoTG5djE5G5djaaMTR1NMuoaU2pG00oaZdTTLaqQY5G1TLY5G1SNqkbTkpps000dTUlVNTLapG00ppyNp0waACAFAOxJhI1STVJNEzc6TFy1EaSuRQ30thP0DEDaaMCxsQ2hKAQqaQGIMaDQzTmkbTSipSmnMlNI6VMlDkG3IUNkpVINtChsqgkdFSJsRttCiplUVYqVSDKRUUktiJtADslsSRmkqghVNJUqlaZ1M2rc51lcShrpVZVP0dJCaqA1MqTacxNjJmpm0qs3ZbgTQhpSCZdTVjc1JRUs000bamapNHScy6VI2nI6VSDKQqamShoVNwNjJciXU0jqXJTTZppo2mjYWAqRDQAWCZUgrEqVJNUpuBKp0mbS5jGuiNGf0rYwFaTTdkssh02ZExtNG5pkaaDGjqWlAJYEzTTShjNNOSmnM1cUlA5G1chSqQpNltEjpMdTSNpsupclVLspqkbTZpxSUIR1LoAQEIxKwQrXIaiCactIS1aRU2oA6DUvP6dtCVUM0IE0M2luQYDNCoGmywEdTSOtddZ+V/TnMyBFNOSxNmrhyW0TN1FSWKpHcUjqXJVS5KE0tISqhyXWfKVx757r8aEtzq86s0edJVQ2bJZakubIChKypFY0ihCpyFCEiTVogqQK6DUVj9Q2yxXnoDGiY0TVoJiJpo2mjAT6u4de9b6+fpPy996B14qHHXn8nEc/wvm7w0/P11lNmqmpKBzLuakdTSNqsx1NI2nI2hKF98fE/RfOG67r0juU6fZ0Xu3RzVy9eO3LSqimacuyhNG5EoRYySwAoTQIVggpILECoEUgDoAGf1DpMGmhU1YNMGqQapBpo2rkS53brw+Pn+Gx6cebz4c1nl4cdOa4bl583fiK9N+H4/u6LNx7/JVTSU1yMnxvv/AC2Ovlj9V6tM9VE7wqu89Um/ictypczzE6dQ5TivSmuQ8h9n69n1ef8AcOq9o15vp6T3jjZrrr79leXR39Py68tuOxLwNegXn0eenZ+r68tqbvJHY+Unp6Qd74tesFZ78bJLHIqaRZUCoTVNCACvP2GP1DqXY9M2avGk1WbTV5M1mRKBodn6v3rt5agn1eJQSqgiUglV9nx8t831+ppT+B/Q9B6P6z5J+p+TpU19TxHufg/vvP0eQ9X5KXOfbvD/AEHPTiuuemeX3j7f5T6p5Tnt8ojfh7L2fqvZ8e7zLluK5TXm9K8X9m8ez327r03uN49s885roDtff+i/TeXpvmvrnjJ23s2vQs9uv5fbe/B6BPRPXs+/yn0Dzv0W+Xr/AEbtPEXPH+jdI51ft692fqmuOiS35GhajSABWNCppFoITolS8fp2yhNapDpkuhJdyiqaQqaS+6dH7r6fGQR6PKcYvTfk+/yifeT5Xs8FXvSzfGvWPuXx/YJT831fN4n7R4r+j+Z9NTX6D5mPvfgfvXL0+JzS15p7d1PuM32nx71vyTO/bvKvU/LJr5U1vw9i7P1jsuPd5ty3Ecvry+i+R+teSTrv2/p/brz+npPdelGmuO94eseJ+1eJ59nt/l3o3QmuNpHT5Pz+x+S+sc/p+W98839GTq/Fcpxe/Eud4HnreR6f3Lps3Yn18KTSITpKopgUJOgQdFeb5/pdCGXWbrR5tNKyaarOi3m0uoEnt/UOR6efsebj2+Dk/T/NPSvwP6Zyl8z0OVPPTknntyoxrrXmnK8Z+1+Hqw+l48fefBvd+fo8Yz9P49joHqedTfAdHNbx9h6Fn6Jnv5Gd8115+B7J9fx49Pm/J8Znvxev+ReqcNn09K7f1XtGuH09J7r0o03+fe8fWPFPaPHM+ru/1+c+nNdCrumOvHxvZK80z68PUvM/Sry6vxXJ8XvynYOvc/Ly3Se6dJb1QdPEgNQlyjVK1CqxJyMkOitHP9LTllVLsbTKE0bTG07HUVIYfQSY6CZ9B9M809I/H/Ufz6r5no8/Xf8A6fdy83697D5D7OXH/Llf3vnx9TXp4VSpMPdvCfdOffwv7ZyvLfjPs0ZWpV5/EfbnnW3xbNeX7hxNZ79PVXvxcXykQ6Xh9Ix831xpc18+4x8f01a58fy03OekE6fD9+t3jHx/dKY/ZD1g+P7JPi+6bUBa5sCxBNUSxAUIAEV0Zp8v0jctKaZTTRtMGnZTljaclCaUhp2j1v8AOnbfgez1yetct+b9/wB3Kda4T0Y7n4fpw/6L5/0uX9fx2AluSTL3Twzs2OnDTFa5US2KciXWYc1zWPC479+8t+D62d6zvfnaTSiHZTQlEtmyWlklzo4aU4dlOGjciU4LKSKYklEOqUlMkKSKaSKIK6W5rj+iGnTcsty0qpY2hKc0Ny0pzSNwSPKpjFbEY7PRNNsaudnnaaJCaOHMvHVhpDTQhyW82mkITCtmLSBKcCWRVjqBLrMZtw7NHm2dCGlkOzR5Nm3AaKGzooVaGbstQVZBVKUaTJVEBTzRRBb0+pfD77aKbTKAqnLSyaG5aU0FOWgqJM52IxNqMNbaJ00dJs6zLTQhyaPNpbzaaeg9Y7r2z9L6mfY8nbDqYdsOph2zq0dt8fXypaYfN3VZuzR5NLcDN1lVmlYtNXk2dFIlkuxuRKcCWSUxFMkGIpkookpiQ0kMkXqTT4/coTG5dU5ZTmhgFNFjqXFCaUISnLKaaOpZchI3LZ1lBTlo6hyU57ona+qcrxP6H54B7fOdn692Xw+jqhlr7fOfR84c55t6r59+Y+nxhJylku5pyJZIluRmnDstw0pwJZLRuVZZIUkUySyiUUSVSkVkoqUKEi9Xcvh9p1LptA6l1TllOWlOWNoLJaU5Y2hKqWlVFRSTZYmU0JZIlOUn0eu8H8/r4fKB+h+YcrxvffF6DPz37/P17l0qO9R0Iw2+t477N1fm/B38zrtHVfheynPMXPE12/qRL5PjmZr7s0+YjuqdNfPcSmByvEWU+U49Mz7tDjTa7PmX2fDVEllEhSkGJU0kNKVZBNdccvj9d1LG5qhoKcspoqnLKc0g0FOWU5aU5aVUXDCUpvVMjUTJ6tMp3zT2fp/Y+u/Z8E+i+dfV35dj+Piez+Tvw3H8r2tflw4zm/L14f6enae/zZvHkPf5ua8o9C6D+X+rHfOlc3J2XrXE9vjgPu3+CzlPm5biZesd26d2u8+M+xYrx/ZundgueL53H6peO+7jHZ9PKcF9MvJdI5/hNYzWpvnkaoyNQyWqtyWoYyJQgXr7l8Pqtpq3LKAG5dOpY6kSmgpyxtFlOQty5KqNEFUG8uEKYidCTOsJyHqPjXqHTHGG+H6X5GfcepZ8OncON+DkvJ35vguI+TeQR7PO+48Lw3y/b0/VafO7yW7iOQ+NFQO55HjqcSWXMliTvkzsXDfOlltXMlAkOxIQxKmSLUiHrjcsQSoSLwTRw+k6lq3LqnLGANy6sljqQpoSnIU0WU5obm0HWaby5AQlCEplJnZjHtfU45T6vh44D6nizz+jLNgDNGuzc9b+M89w/wCf+pbl6xTkSnIlktKcNLIaUIRiCknTJEokLlFMQNCpkg0kr0x0lzioUJJeFafH3ty1YA3LqnLGANy6pyFVDKctHUlVUtKqKRoDaXKBLShCWQFpFmftviqj1ldEPX5u9nRUd3XS1L3hdG4Hj0rYeaA0TQlA2QGgDBjRA7ENwiXTGkByBUUwBJAyRWkh6ZWsQRNMkXiKl8fY2hW0DAptBTljAG5dU4obllCaOoqqqKSkJNpbM3QiKLEUElCJUGa2ExNhcbsSNZdjEJTloA0Blg00YgGmlCEbkJ0kGgGICaQmKkqCCggaWdIuXGSVCSXjAOXqbQNoVtA2im5Y2goCmJlE0Ny0py6q86LlCXeLTYydaGYmpkzQzE1WYamQmplVWZhqZiaEFmjyE1eYmjyDUzE1eRJqZlaEJNTINTINTINVmjUyDQyDWcw0WaXWc0aLNSuSZQkX4AOfoGgoTBoVtA2im0DaYxOmJlEsqodlXnRakRsK3MWa5kpaTNKwabGQbLNWWQFVmJdZFXeSTYzZZAlvMTaYE1MmW82lySUSDEQxKqUhRKKSBpJakQ0TLUpQ5JVkkvxieOoAo0FCYNCtoptA2gdSxgUxMpzVFxSXKKblowBgjREpZIMcpo83VOQszE0IK0kSaTKS5cjchTkkoljEIxAxAyQpJLSQjQikkrJBpIZKlaJBClZJHzCeegAoADQUJg0K2im0DaY3LpgDqap1LKlylOXVzaE5tAAAaIFVCAGipqLG0DaSUIGAg0DEQxCMQMQMQAKGSFJIYkMkGkK0kNChoQIUoSGDkztsAAUAGJjEwaFbToaYxOm0wqWWKqRUU2hKEwaEYmNBTEDEIwKABiaMQNoGJoySKJCiQokGJSsQjSBpA0gaSKSRSRAIARKIQ5FDEGAE1SAYAAKADYAArApgDYUMAoBgUwBgUMEGAAIMKAAAAAYFgAACMAYAAQAAACCAAQAkAACQQACAEBCAEAJBCQABL//EADQQAAAFAgQDBwMEAwEBAAAAAAABAgMEBREGEBIxICFBExQwMjVAUBU0YBYiM0IjJCVwNv/aAAgBAQABBQLOxixgi9mRXCtkgyt76xiwsLCx+NbjMGDBgx0Lb+qt+pc/aXBHbiLIvYFx3BWFyz/r4hn4BgwYPK55XPK5/hxgwYP8UPIweZghYWFsrELFkndILzFkXEXB04OnCXB1+JMGDBi4vncXyIxcXB5EYuLi5i/4IeR+76fNGDBZGCFsrCwsLHkRfhRgwRi4MELkLi45C/PkLi/j9PclmXvz9/fjIF45ZF8DbIvxQsjBC4uD9py/8gLO2djFj9gXEQLi6Zlxl7M/DMEOQ6Huds7ZECy24T/A7i/sufsS8O3CWRDrmXsOp8fTp+FX9keVuVhYFtYWBb+yt4lvkrgzBmCMEYuCP3JZdQQL2XXxOvwiWXTHd3h2DoNCy95AhPTBUqemFG+BIX4bCxix5WFvAitds7Fi3N5pxlWbzSVe7wqf7cUn/pp+BIFbO4vzuOQuOlxysfM+Kk+bDam+wxMpvsOB/wDm9rT2SkzHqfEjwSB7YT8uK/s07fJ0kyI0u6TW7qPUngkfz+AWwLw6Gf8A16l6e3se2FPLir7NG3i9C99seaCNSm4B27g0FU9kx9MYH01gJgMpVnT4yJlW/T0MSsPFoWlTa+CFDflrjUBoi+nUxoKpdPcKpUdTCcodFZ0VFKW5+VHjNy5FTpkeNCSdzi0qNHkPIS6ymiQyExJNycKeXE5KVGh0d9RJo8Ug7R2DKUw5GdFxBprj6UU6GgjgQ1lLpRkR3IwglKVHpTiiKDCaLusRRSKe2HCU2v2N+ItwYMK3zprRIa8Gg/8A0OWKYxEeZmGGm2GqvVprso9RnCmSYTsKQiVFrsUostZ8o329VP8A6uWGD/38Qek9KC68qs1IzKnNvyBczGFPLMksRGptfkOmcyZqw7VFyhVmCfhEYokQn3KtOTBiyZUmUpp19hVCqXfW63FJTdxRm20wsQ1CQy+etRtuPMrpkvvkaroLs/bl4CS0o8HCrRvVLKut9pS05rylp/3ySFo5YPcPuuI29dNXtG+2qvquWF/UMQ+kJ2oRf9mpenNJ5HthXy4uK8JtsdmQpV26s55En+2mt9jBxMs3akhsrKQQpizjVNREopBdm7RvTMRFepkggtBWw4VnK3yiJ2961/PwPTGGz+oNDv7Q782O+tiJBn1E4MVqHGyllqjIzc2En74GMJfzVfnTFeWN9tVfVQYwx9/iH0lG1E9YqPp7ex7YV8uKftEZQPU1+QvKny1j1gslfyCq+o0b0yv+pED2w7/NXvsk7ey5ZWB2HS3Ek9LubvbSpVNo0KE3oQNCBpQNKS4Zq9ERvNzKT98DGE0itr0Uo/LG+3qnqgMYZ+/xB6Sjaier1H09rY9sLbYo+0TlB9SX5P6w3O1iV1GmqZNJ1yhLcJ2XRvTK/wCpdFDDn81f+wRt7a5guJYYXrYyweglT/BxK/2VNRtk5lLI0zyyosY4sHFcktJ+WCsnIVfjqan5YYJXfcQeko2op2q88jVBa2PbCvlxR9onYQPUl+QvLhmUSmK/HNxksqHHNyVWJRRYSS/bRvTK/wCpED2w3/PiH7BG3vVCnSCRngv+fwDMiKtTSmzUgsl7DXT6ga6GwZw6ZGjKqdSYgtqcckSFFyoVVTFC0tSGXKLHM2qRFQGJMTtcQeko27RTLtPnMzWZFGSa5CDacwttij7RGwgepL8jeyXHI79NqTE1EiksrU3R03kSIlPYmSnJ8kysmjemV/1Itj2w3/PiH7BG2XUdPcrSEvvoLvUkYIvqyf19j2WKB2WJx2WJhNqNaiP/AFqqiROnSibTwOZTLlPaqdQaJ2q1JwkpUpSCycRcMPyow+q1Ew9IkvDCqT+qYjVamI2WVxZSFt1GekGtSzNbqAS3lhOS9RGT0q7ey03C0GRtVCc0S6lUFlZS1NpsFbG5ISEGtRgwpTiDJb6wn4DSNIwV5uBtlSycSaFYkK9W0gkgi4F7CUX+7oIEgWBZmkaBpGGWDI8Uu/40bdLDSC5CwsCz0gsjIGgaCBJLOwIrZmQ08HXh6e4wrLSxP4GHUaJTiVHU5BSqjwXyXlJ+94Li4TdRt06asRaNzlSo1PjyZLkyUW3g34L8N/BuLi+d/dLIU3EL8dMeuU14JlRlByZEQJNfp7QqVYkziQXGvaLiCSg1q7R/i1GhS8QoIpNdmOErtHVoTb500jQNA0AkEEkCzvkWekJ4zBpBIBEXg34b+OfDfK/uLi41C4uLi4uLi/4fYWFhYWGnlYF4JAh1o1Kjoid5o471Rx3qjjvVHHeqOO9UcE/RnBX6YULwCy68B/P0KCc+fW5PaPcdNUibBksrjSPn+niRGvo9G4KhTUR4Gcd1TL2J4qZMT5+/iYUg94l1ST3mVmwtDbzlbacQk7cFEfK9WhnBnfgfThZbW+9L0U2mZ0+C5MUZUynF9YgGHIMCe3JYdivZJM0qqrJVakfgl+HCUNLTUt5Uh/JpBuuVB9NNgfuWtUKYlDDj8ZcxCKlSkqzo8ru8nE0Duc7KjxilVCuqROjNIW64xTpz6FpU2tqFLdXKiyIqh3uREoP1mpiz0lxVNnpaDdNnuNONOITMW8pLVPmuqfZdYcjR35K5UWRFP5ExWf8ABBB7RqXEbJBF+p8Sn/vUv/FFZmSW38QtpVTsMmfdKC2hb1Vp0ZmLlV/82FCypMN36LS6Y+hmhEaa3Upr8iZPV3qk1mW6mJS3FSYo7whigvTmXGsOumy81Nkold3Z/VD02S7Jrr6pEGs7Yikvd4cWqRQXGFlTY7XZwvh+mSCuelIsgWQLIFkCyAskijvpq9FMjIx3qWRRJKkVDEkc1N4fURSWqbCZdr05DpQEfT6Q0880HJMh1JHYRGTkP4umIbQkkgkovV5DD7rSuydZcjP4llJpMmRUZLLqKh3B2Op2FEi2QG105+l92o4iORY7lkCbLT9aUdGdcrziHY1RdZeFWdZkS0PMlSW3ocmI8mmssWQLIFkCyBZAsgWQLIFkCyBpSYPf3zfmPzcJijTlU2o1tgr5KIUaooNuZROf0qpKEGltRRWKh3tWcQ0UqkrccffLbOnSO6zXD1LE6R3jjZcWy99QhqVMkuyn+Aufht7nv7vpk35lbjoQIJyVthKYmXCkNKZeyUQjT5ccjrc20mTIk8FJi96l4un96mo2LbPc+pbjrkYPbnbqQIFkWV+Z+c9/Ab3Pf3zfmV5uOM+5Dl1Em50DNRcJcxPeKiUNBe3I/Db3Pf3fTJvzK83AWRWuvmMFz+zfqEc4snNRcFBjE49iCofUqkXwTe57+7uL5N+Y/NwXFx0FzQqM63XaV9LnD6XOH0ucPpc4HSp4+lVAN0mcpeKJjdPpqNvgm9z3950DXmV5vAMrhh1+M9+oq2P1HWx+oq2P1HWx+oq2P1FWwuv1pSbKWokiwtyIs7Aty3Fge/IztysD26WzsLAtyH9ut+Z78be57+75Zt+ZXm8Asrc9IsLFe3M7DlY7ELkL8yOwJXIEYuCF+dxfmrctyMGoXK1ytcsri5C4IyFyF+eSj58be57++b8xpO+lQ0mNJjSY0qGlQ0qGlQ0qGlQ0mNJjSY0mNJjSY0mNKhpUNKhpUNJjSY0qGkxpMaVDSY0mNKhpUNJjSY0qGkxpUNKhpUNJjSY0mNKhpUNJjSoaVDSoaVDSY0qGkxpUNJhBGRnv74jsNZjUoajGtQ1qGtQ1qGtQ1qGtQ1qGtQ1qGtQ1qGtQ1qGtQ1GNahrUNahrUNahrUNZjUoa1DWoajGoxrUNShrUNahrUNahrUNahrUNahrUNahrUNahrUNahrMa1DWoazGtQ1mNahrP4/nw2PhL5zpnbkC4C5ll16kOh7Fvl1/qQLIt0ggQ/sOo6K3Vv8tcGYvy4bnkRgj53HPhueVxflw3PguDP5Lp04y2IEL88kiwMrA/NYrgy5WIFYgXlJI5WLf5u/gll0BWvkR2FxcXFxqFxqBHyuOhcvwHlp8K2Z/gnLh/rb9ouQvlcbg9x1LIwe3/AI2f/in/xAAuEQABBAAEAwgCAgMAAAAAAAABAAIDEQQQEiExMkATFCAwM0FQURUiQmAFI2H/2gAIAQMBAT8B6s+YCrQKBV/EgoFAq/iQggVfSHpx8YFfxYV/3+uhsKxkfKrIMLtgnxlho514K6QjtJNClZodWUTvbywLNKWIx8VhR/sWL5+qM7E4sc67VM+8oBqdSOEkCOVWu7uKdA4ZOic0WchC4t1KCMudaxETpOCwwqRYiNz37LukiLSDRTI3PNBdxf8AakhdHzKk3Byu/wCJ2CeERXQYl1CvDgm3KFSxrNMl5QBPduoXeylZT1Py5R+koj+yxJpYfnU8pbsopf2WMbuCgOxiRl3TanjorBMp5tYmT9ysNJbqWMbT+gxXEZYfBmQWV+OZ9r8a37UOGbFwVL/IcRlCncVDzKfip+XJnpKPnCxXssPzrFcyj5gsV7LE+nlguUrD+o5Yr1CsJ6gWO5+gxDNTcsN6YVIBVljJNb9soU6Ingo49G5UjrciO0auwcg3SykzZymYX7hQc6xPMo+YLFeyY4SM0lHCSWtoI691g+YrFeoVhPUCx3P0Ja36WH9MKk6MNFlxU40M1NcUZnn3zhRdRRfkHUi9D08tauinG0Nk51oOpdsU59prtKcbTTpT3auiw8waKcmuaeCm7NwpxWIlBaGN4eCM0ncfAGxhSPvboK6I+Tfl1lWVZVlSrpXuEbdS73Iu9yLvcihn7Q6XKvMrKlSrKukAWIk1u24ZQiPSdeQ2Qd2jdfl1lSrKlSpV0eIk0Nr3OUEYdbncAu8P/gNlTZhsKdlhpNLqPAoiiqTm0UQVpKa20QPZFpHFFpC0/So3SqlSrwUq6PFtOu1C9jD+wtXridX2o4nPaC0oEGfUPZCVnZ6SFps0nCqCGy2NI+9o8Uxb3ZTT9qtjuieKCeqVKlSrKujkj7RtKqUchjNhXAd+CfKNOlgoZYWP+ZR8B38BJKpVnSpUqVdLi499Y8DGa3UqAFDyKVKlWVKsqypV0hAcKK7nGu5xrujPtMibHw8ulSpUqVKlWVdVXgrOlSpUqVZ0q+Dryq+AryK+MpV8XX9e/8QAMxEAAQMCBAQFAQcFAAAAAAAAAQACAwQRBRASMRMhQEEVIDJQUSIGJDBDUoCRFnGBofD/2gAIAQIBAT8B/cvYqx/Hv1erhx61E/W2+UzQOf4l7opu3VcJybraLWV3/GVU8Mj1Hsm4rTE2ur3z1hasr5XRQKKC1Z6kDfLUFq6GAXPlxV4bTOuiVhE3Egse2T1ZOQPJDI7ooIoBEJq3KstinIBOCZ0FP3yr8UZS/TuV/ULv0o/aF36VW4jLVH6tkSsB9L8noJyCGXdFBFN2yam75OR2Tdk7ZM6CF9nZYofvTkSiUSiVhVMYKcatzzyetSJugtlfMIpqKajyWoLcpybsnbJnQ3d8rFD95d/3ZarKOpkmdpZG0/4WHv41QYpY2/wm0kLTdrB/GblZWzsu+VvJZWVlZWzAt0WKYc+V3FjUkMrPU1UJqYn6om3WH0cjJHTzeo+RwQ8nNAe129hsreengM8mleGQLwyBeGQKsoBE3XH7RQ0/Bj57nKqM+pvDHLugUQHCxU8JhkLPZqGDiyXOwyq53MtHH6ijRR/mv5/3Qc+kcLm7D/pXVfT8WO43CHPIHM+S/WYY9pi09wqqKSUAMdZW4VRHq+LKaoZFI4PF7otc2kDDuTyRgl42truSLwBcq+okhFbZdk5dkQu+beqhlMMgegQRcKeBszbFaatnK4Kipna+JKbnLEJvygh5LeS3WlYdPy4RyIylkEbC4q5cdR9nDnMdqbuvEpvgLxKb4C8Qm+ApZ5JvV7Xb9j3/xABHEAABAwEEAwkNBgYCAwEAAAABAAIDEQQQITESQWETICIyUXGBscEFIzAzNEJQUmByc5HRFDVAgqGicJKTo+HwYoBDU3Tx/9oACAEBAAY/AvTOW8y/FFG/aqH0p0LouPOhiq/is/4d8iAVAfwI9On/AKBhC8fx/Kx5P+ghWWpVRu6ViLskEMLqJyCoFQKn8c6bzNZ3jFD2Ur7S4Ru+S4hXEKxaR0fjHbmWgNzqmP3QvcXUyoPQw8Po5DWtCzxVOwLRlYWHbvKjB34u0c47VF8TsPojp3tPASdCkaKaeljzKNv/AJNKo5t6fwzICSA76Kctjq4Ru4TsTlfaedvaovidh9Ky1NMlVslDsK0nSVO0rjDeH8NB09RVp+E7qvtPOO1RfE7D6SDWipXfH02BcZ640i40nzC40iDg5+B3ggkLg0jzc8l42f5j6ImzTGvI9FjwWuGBG9pCyvK7UF3+ZzjyNwCxiZ+ZywhHO0lGWzkyMGY1i9sk0jn1FaDAKWNgo0HC98cpdQNrgnzMMlW0zO1AJs7DJpNyqU+J1aPaWlYOl+YUsTcmuICtPO3tULWtJJlwA5iqzOEY5MysTI7pXenvYfmFoSjmOo3h8p3NmrlKxj0trivFDoKLrO6v/EqhFDcGsBJVZnaGwYlcP9zlwY2EbFWIlp/RFrhQ/hdq6FjdTkRR3u6HjO8Ez3T1Xx2toz4LuzeiKJoa0KWFshijY8tozD9VU4oPheQNbdRUdojyeFpMFI5MRs5bo/cCtHvXyfD7Qpvy9YuhDpXkcLzthVpINDuTupeOk/mKqTUq087e1btO4NGrlqiLMNxZy5laX2mavvlGzWg1lAq13rJ+HCYNJtxmkFY2ZDlK3SlXnBgWlNI52zUtOKRzDsKLJKCZme3avtLBwm8baLmSNaNJ2ZQs8LtAFtSRmtIkkrTjeWnYtJ2D24OTZNYNPx9EGjUPBS2unAY3RHPfNytGl8t9aPiu675oT5j6jp//ABF+uNwPZdH7gVo9++X4faFN+XrF0H5uoq0/Cd1X2nnHaofi9hvs5Hr0+adzXRN16NTzoRao2fqf9F8LxkXaJ5iiDiCpI/VdRQ83ah8Mdt841UC/MPx8Y/5De00qnYuI9cV64r1xHIBsZgg1vd/uKbBCOCP123yt5WEfpvp/iO677SNje1Wj3DdH7gVo96+T4faFN+XrF0PT1FWn4Tuq+0c47VF8TsN9n+IEea4Kfo6hewj1hdP7yh5u1D4Y7b5+YL84/CZal0IorLftdyOG8ZYbNx38Y8iFImySa3vFT/hcUfJcUfJcUfJYNG9medTCf030/wAR3XfaX+6OtTnlbT53R+4FaPfvk+H2hTdHWLoOnqKtPwndV9o5x2qL4nYb7P74R5ropPWYEXeu0Hs7L4mcrxdM8ZF5ooebtQ9wdt8/MF+cegGO2X22Y8ZuA6Sfp4IsHGlOj9d9OHAg7oeu9rXCj3cJyjsjTiTpO7LoXtyLAjNTgS9d8rqGmhn0qb8vWLoK7eoqdozMbuq+0c47VF8TsN9n98I81zrI48KPFvMmztFTHnzX7uRwY+tOdXhu4LLoebtQ+GO2+fmC/OPQG4vNAeKb7fzt7fAkk0C4BrFHg3bt3zonaD3sJaQcHBcGWRo+a0wC9/K5cIh0vmsGadNKavecbvs1pNIieC71VRwbJG75KrJJG/qqvLpOc0CFlgfHpU4rFL0dYuZKzjMNQtKNw0vOZrCLoJNAHzSME+M0Ja6itHOO1RfE7DfB74R5rmzxGjmlAVDJdbD2LSidueylQu+TFw2CiAcQwDitGZW6vwaOK3kuh5u1D4Y7b5+YL849A0bIafNeM/QK2E58HtvfuRo/ROjzryqL5N+i8qi+TfovKovk36Iwy2oaQ5GN+i8q/Y36LRntD3N5Mh+m/nI/9rutUbaX9OPWqG1PHu0HUtJxJJ3neZpGDYcF5S79F32aR/O5E8kZ6wnDlcL9JhLSNYVPtMnSaoucak5o7nI9lfVdRUkle8f8nVvqCQQvKJv5zfUKjbRJTbiqG0P6MFpOJJPLfRs0gHIHFVe5zjtNbyY3ubXkNFR8sjhtdX0Ha/ydu9rWioU/3R1eBn+I7r8FLaCMDwW9qhg1l2kfTjoZDQTCgO3VvQ1xpRVrwRrUsreLWjejwM/xHde/DQKk5LxBHvGiraZKj1WoaZDQBwWDMozya8hyD06I7U3d2DzvO/yvKNzPI8UXBtER5nhcO1Qt53hcF7pjyMCMYG5Q+qNfOfA0tEbZRyjAqSQYBzid+HDMFcGzOP5lSIMiGzErTkcXuOsn+Pwt3dDEHFrNi+72/wBFq+72/wBFq+72f0Wr7vb/AEWr7uZ/Ravu9v8ARatA2JjQde5BNns5Js7/ANp9jmsI70zhSfRCBnEj6/ASdz5+TD/difBKKOYaH2Nx8olz5/8AG93ZukXtpp4/PeNlZm0pndOAZDh83sZ9qkHeoctrkSOI3Bu8ZJINJrTWnKnMksr9BwoeEs6jeOscuLJMqp8Hm5sPKPYDLwTIYhV7zQKOwQnhEYnrO8wOjGM3LhaOnt4TitEh9NrEZLOWtd60faFuUo5jqIvBGBCE8Y7/AA406x7FP7qT4AAiPtKdK7XeyNmbzQJscA4R4LPqqmr3uPSVpus0lEy0R1bXLkehMzjU0m7DyIX6LjwH4Fbowd6m4Q2HWL443eLHCf7oUfdKFtKOMTx1fohHG0uccgFpxWZ5b8kWPaWuGYKDY7O8kt0hhqK0bRE6M6q3WM2eTQ0nPrhtXlR/lCkeGl7sXvoP1W6myyaPN2Xbq2yyFqa57C0OrSo5FAJYmspGNCgppDlWiyzPqNi3OaNzHchC0YInPOxUnicyvL6Ts9mi8XSnyvBczdHcr/otGlA1uA/KoxqEfarXbGgGWMUZs2oSiaRxriCeMtPWwghSN1CRWuJ7GvZXWNpT54QWFuquF+6SYubSn81L5pIyxstp4DS51OBrVpskz4DHOzCj60cMirO1woQ/FOeXuAa7gAHiqz2yTxzXmJzvXwrVWKyscWs+zMc6nnYK02KY6bBEZGV8xwusZfZop6ufx9WKcwdz7MwkcYVqFaphmyzOI/RC0iV5kriSc0+Mt4DSX6PLhVfaHTO064GuS7nzPFHOa6qsP/yM6ymWfTIjbG3Acy05TpPhm0WuOdCMlZoYbVZrO17N0fpy6Lnk9itFntFvsckRjqxomrRwy9GZrNZrNZrNZrcHEbvBh9CiDgbsLTKByVUVoleXY0c48mSZam+Zg7mT2ula1r28R3nLdmxUIyqcAvs0LtJoNXuHUjJLg6mm4diJjlcwu42iVoyTyPbyE3NibrUfcqE0DaGTsCzQq6ijjgd3iFgYxNkY7hMNQoLRZ3eMOk4cjqYp0xtL7K4nhs0NLHYorNZ6ts8PFrm7lJVjgtT3QvbZmFsoFdWRUkNjkM0ko0XykU4PIFmrPZrRanROiLjgyuZX3lJ/SVsAlJY+F0bDTNZp1tsr68IFvyW7OFojJxMTaUVhOgIuAdFlcm6lZtB9dzs7WO51ukb6jQaP0Uln0uG6UOA6Eyz2yR0bovFygVw5CE5kUjrTK7J9NENWazWazWazWazWazWfoE79lo8ziyDlam2yLFkmZG8FktJHIxxycORaVleAPUd9VommjtlwW72l7XubiNTWrcovEt1+sfpvJO6E44RHBHUE+eU1e81O9jtGhp6BrSqLqUqa3Q8DR3OFseedNe/ZLGaOaahbrJ3LjMusiQhtfdRmlOPVs9IlbLtm9k7l2g4sHA93/CdE/Np3lI5uD6rsVSkI20Xf5S7Zq3gB4jcXL7HGe8wZ01u/3tuwWCNEaXUuCCFVjvMsrgsEbibsPRZ8BHaYsHsNQou6VnyLcf8AdngaBYeVTYN5/wDCqfYM+Bd3OmPe5sWe9ydKczzc2+A+0SeLj606QHvTODHzcvT6EPoA+BD2ktcDUFMka5otMeDxyH6FeJ/cF4j9wXiP3BeI/cFhB+4LxH7gqGMMHKXBN7l2Z/fXjh7G6/n7CnwW62eV0b+VpXlv9tv0Xlv9tn0Xln9tn0Xlv9pn0Xlv9tn0Xlv9pn0RabaehjR2Iue4uccSScbs1nv87xeN7ndT0cfwGu7aq0xQWta99hvda1rWq0vxvoq+jMlkslkslkslkslkslkslkslkslkslkslkslksrslkslkslldldldkslkslkslldkslkslkslkslksUfQGazWazWe9zWazWazvzWazWazWazWazWazWazWazWazWazWazWazWazWazWazWazWazWazWazWfpXL2GGGpDDe8yNAuhZakKhDChVEN7RDBZI73K4YewWd9bsa+xxN9d5Ra0F0o4ha7tqK1rFU1H2FpvMd5kFkLjtWq+lAsgbq+x9fYkqtw8GB/0w//EACoQAAIBAwMCBgMBAQEAAAAAAAABERAhMSBBUTBhQHGBkaHwscHR4fFQ/9oACAEBAAE/IdhJvBDRArnaGPwkRK0WZ0TesEURBDotaohIiBae4JTEC80kllC5BD46iUjYijRA0NCCUIIOilhPJDYbo2FhIY7PwcmjYDvTauQqPU/ZIngYtO9FRFlFRCosL8BrBczwSmrsiyT7CfMx04PMkVWhoY0NCUJQm1udwSdxkvMnc6a0rQtCqugtKotOwqLXnwMDGMQQQQhvoLorSiCCCCCERqVIFrWiPHtDQ0INCCCxTMSZnYu8ok7Rw38hJXl44PMiJMEzcasrlkLDWs4cmRTacFiV5MVnyZLlYOi0Za29WwgjYWZMGbi3ODI3EYp6HcWBbC2sKiqtC8Kx0IJoEySSE0yiW0lwQIS/QnQ1ksicOSATLgTqkocakTWaTrXVVVRC8O6ujHQxPCqi6CKqi0Ki0qqqsUXSWp9NjGh1MCKEkTdiI4uK89BsiMHkCTaL141LozOyqibCouotC0oVFVa103oYx5oQRBAaR4e5JtvsZWYPOsSyi9jA+0EpLeBW74EkzDmKroqsZX0QIsJEUgSuISINxEEEFqJCQkJUJVROCCKKi8Axjox5GPxBaJhb6lhRRVbqcURNySdCFAhWG0E9K6b6DHRjGJI8w1AkzVq0pz1VXfRFp0RVa1pWlCohaFVVVF1WMdWMZhTMePQJHCbNw0azmxhCiKrq703pg6okVFTboLStKqvCPI6PSxj0rw60Ki0IVEKi6KFVVWheCehjp6ntoaijTVEIucCzFGyyiGldEEGx2BprNFVGd2Ku2wjZCwLFFiLiRY4oQV6Qi1PILYUV4IIEJXplosWNiEbUyjuWuWNzksPBuYUe4x4HjBwQhipgfEi7zSIXofJBoj1EQy2go4LkFnbIkpSw5MrTLJI4vyf6DlXDlrmfmOCwQQqolirIhNoliE6S9MukvQnRComJkkkkzSSWSTSSSbapJJHSZ6DJEiZq3ZIkl8kk9ySSSbZpL5ZNJfLJ5Mmd6IVERGwqpCIEiKIRciiUiRA4pBEVWg4EJTI8xuRLIiiCCCCC1NiNEEGBjIggY1Rqiwiw+quktE9hVkRhCYnRMTFRWEyTNJJsTRE3QmJ0QiexN6Ikkkkkmk9iaTYmiSRk7jdGxuknpTfShtTcIXWRCYyEkK/LEvmC3E96LUqrOiFyLSSEqpCWhK9EQQQQIgQkJCVUJUVyL0iuxBBAhXHSOo6rTPsZIg4SD9CHgTW7EEdumsirsKs2osCxTcYUGalmjbJzSwq7CvRE3VNxQEyaPzLRmkk4ExMYieuXQ3ohaVpV6CS/3kNZfO8IYhCIoqLAhVWnai1vbJpOXwz+wYheCfRdd6ZEiZTo1bAholGKw00eQTGBUWhqpwXbsPkPnz9TtW1BsbGxa0rk5MOHlUWSaIQsCF0F0G7EpqIY0r/wciDgbV6JJXkR5RAv3Cac3EijImoog1D4J3A1wWrN4X7HMh8rLfsmKPULb/obGxsbLTQtC0LqT60lrNpCE713ANPQgDJdeSdG3VQs6loVXghA7nqYPe8LJOVbys/7A2NjY3tIWKLFELQKzMhRo7CRBFIsWIzfb3j7tPNYWFDrIy1LG1VQxO4mTkbg3G+56jdHv0YsRR0aiNCo1YrsNwNwkXyQL/1l/D+tL+D+kfg/6S/hK5TZX8GxsbGT1ueAInIsteK/qh985G1VSTdFkt6whMkixI+7+2SFOcIi5NBv2ZMkxctFEMt67TgkkUgZPG6GW1pFF0XBIm7gY/TWEXUcGFBBmGoEMfTdifC/WRgEKpiEtglvoiq/dy2eaQze5RgE6JYhhH/I94gFq+e4an9/6MkHkWaauiRmV4SUsSF0I3Y7lfOUMMJ8JO4hjJJJI3NGxsnobk3HKk5h7Inh4E3zcSp4Fl29jDuDbHwNOZlFmsZv0obGxsbGxsbG6N93fSSIh797vyKiIDAJdITLBXDhxfIuQ2e7J0gufOjfwkcPdGyUblsIA33Nj7HijLSRo8wUsNPO5Nmic6Q9NbXj5ylNMy3QCOsuOTgjuJRd/h794NfKiD+nOiHkTIkICGGzPK96/wCDP51WeSImLvEWflhtDR2V9wwEAS533cg6rmud/Qd5pZbYpJfdiwyajX5P8AAT8PJMvW9YbcNxGKRDY2NjY2NjdHY3nMct/k+5I2QXgvkNYVHtST6FwgQGn2DykC/oB/Yc/a8H1uxsPB8iHyBXmAF9/wAxASKIoMCwOA5v+zYXK7qZcHg85clFbW9QKBpDzI+AgguBDQ1zve0afNfkfemRAoHcY/kS6Taz1rrKl/I/MNjY2Nkgsra8f+Sj7SH/AM44vhGsRibdhF8yt5fkNkkiFHsRoPpuQjEeOQRIHeofS8H0e1MD58PlVT993z0RVccwqBvdDCxCxAksfJsKJGQoPCUPnvyPvORhSu+lkWF1k7G1NtKq2qRh3CFZwGnsEwLArTuuRlpbMfbT3SHyNjY2J+CAf8FJ3Gh20DGtIlH0JGxskUY5gITwYU+m5CpbOzZCmX+lAw+84PqdjgbI/vwf3K5Wf7e/SDzm03zTXyVCkbmR8UKMm1I62/zRx0tPJNh/ffkcn/sEw1j6vvSG+AmSSPGaMbzem2ScUkb1SyXyS+SS1uNCfL1JY7s3eY2Nl5ODyv4FZGxskkkklNYJ5Z+u9JZFgwpPJTDVB8IlbCLhvb2EvZG19fAoeN/DNggafkuqPBwjdlpgfOolHkksAhL3dAinAXyQsi+ivOf/AH802TWsSdoyfJW7Znfn0Ij8l+R9ByGtQ+37mCPtPXJJrOqdVyGDlCWfgbGz7LmmRskbGyRsWmRdt7GIQn+X1wYGwWK27w4gnsSXiDgLqmxt+SHadK6u8+EXwkCQMMwOdw+xDpHmxAG8WDe2tvxAi6lZ7CXpYb3aZ2QglZZG4xTPYm6QYGxO1jU04O+SFlS4CxFuI/eyOTLsBWXDDJYV/GEccTi0D5L8j6Dmia4+n7mH7ZrYip0Pew968UnSugqKsh5WU/6E7P1eQ7ZxNlsbJ1obJe0LaLNnTD2ybmK9CnI6FhnoIBUka1J2NP8AYLMfylAsdgmi4Bt7kI70jTy1+EQofppBDZOHNUCR2EvzP6GEQjMWmQ0LrpfRcd2blnuzubEkiHSl4YLESOhjk07oygCQIFEHqQn9iMF6fwJ7LRtLIQoQR/hEkbO6mYJ2GHQfKeR5Zk4SSJJGySa3pJNySfBRRYWitkjZJbMm1fYklEIgVU81lfWyHAITVhQoQ1LVhLGvYapYI3iPO+oFpZ3SuyUfuj6Bq+CIkBzIplgnuQmJEYDYhiHFhcQgbWo14O0ohLEidESTRMqk1Wg4Eqb6VoQqLW8CNC5jj/pjZI2SRoMhbMk3Yy5/MKyRUmpMe1G+tuJE6JxUVknoRZbMAj2AyCnuPqWoGfFEWlMPhhoEkkkkkicEk0SSTRJJNU0kkm9JJ0BsmiewmSSTRaFoXR2qNy2ClChCrPJX1x8i+V/cCeQkjf3JuyTpZfckSoiLU2EhJCF96vYSrNGp92KqzR5E++Ui9j7xGzkpPyDP58SmQqLQtCzq2Nq7dKK7EEG1Z07dFUWlonHTVKStlqGQmO6HeLBJJImWJFWxKIEETSbEkkiZNEiE7kxRYlEloJVE0JomjJJlkwxhZGSSMN0SoJujYfTVVpnUtGwXcIoJipsLFEKi8BPTkkkknoT0J0KixVdFVipkTpkMLwIJCJosCwJ2NzhRIsFmVjg3zPBHafU313x3ssNJpj1VzDAkTP8AgJk4oibC3G70KZoWbk3RNiTDRJJJJOqSaSTbRJJPVXRgggggii6W4SDt/X9FMK3ow/8AHQu6LP2/rHr3EO5JPTms6ZJVZJpJNZpJJNJFVaF196tyg+L6PbXlwrsUhIlefy49HyNtuW5bq52u9kIEJtOxrs0M4iZ59iRU1KO/P0f2xNJ6M0nRJJOuSSehPiEKkiXzonXKXzMsbHtn2J5fgedDXMjTgLKmLTDIkeY0PpUs4Yd16jsS85u4/np0Z6Mk6JJ0SSSSSTWSdC6q6LiDbDSjuRRKkcGV9zgwdl/0ehxcniP4XcSVHDaLFf0J7GGTBjjPKPVKrQ5EpiTTmRMv+mROk0nTOmdEk0mkk9KSSfFSuCdE2xRJJNiYECXAcfRe5unLLhVd1auEHVaXty42wy8G7tI+WbtLXoTs97tWN13QqG2/yjP6CFlZ1iPgY9mTcOaHH0PevMi7wrj/AJ6nl7CUOXFmS+UxsR28XeU5LcL04aFzPe0mILI2LPydG/10mSOfUfbf0ZVOu5f5EJ6M8v2ogNFSnF36ZLnfmCZQxaJW8iW5G1yhN4JT3PLySHBR5hgRdung/XoSSSSSToXh2oI79F4Rt5tN0iilgbVimSf4LAWyCsvpjWzwPX/Bv7XKbs/XBF5eTa7IHBkl7sx+x5rheqRsfjm2CN7DjJrxirWeW78PL7MaaStRiVP3wYIYG2yCXo6Thwx9tShEqxA3YZS6KBuYwP7PDJcu1h0hr/aXsqKxwdTCMOpJ9AKVTm7lM3GIewn2HF194WP3GBDeRDyrg2Ei8S5Sn1zRA0k200Jt5MSm0dw/qBA8ae5DsJUmJb7YSTrkmk0mqqvCW3E/8oiJn1s+1n2s+1n2s+1kP+h0gJT3/wBlb0YpuBw1SOS56I7KJcjIKFlYfLD9/wAkb6D3vb7uRl3cl+SheQ24G9k5II3DmzePwRPV02Ek147M9Ab/ALu+EQQBCePpPsQ/7HVQpzwOYcEzyxUGovndDhFiDG0feRqErnpybr9iMEjuXmJoAMaw8D0LbW5a4Hc+1kRFo4n/AHY5qs8rai22D7WNzFIc2KIHxyLqn2fBDwTo3H6oV+WAhG/6buCMXSId/wBNxC1MYbliwzGT7LLZ9rPtZ9rPtZ9rPtZ9rPtZ9LPpZshYxPg1pQqQQ6fiPmU2nQlhUpb2G5n++hPlLp4E7P1r/wASRmj3kO/5JXat9teQhe+b9g/Sp/kAtDXNL+VobgjuX/Rk6H392JlSSSAuxKfUka5QEPd/PlVTSTuRQEbG491fZLkEK29klZJw7EkZ7EklyKTSdb3+Q93mSN6VRaF1FWGOW1T8R8ocpWEOJJQJx+yUfuimZrNd7yx6vthGERK2cW4ExxpizQ5E53f6NLH6V9NEQvxfAtN2xsbntgJEkmShAX5F8G52JI/YOXYLfIZfAyhov6h7JZjEMl2DcJKtCVuBsCVhmwx7k7BJpyN7hkrOmTKZvMnxC1fiPka2Pn9TuV64LnMjnHfu1tG6tKNkiW9hqml6A+/o+fMY9xsVZtBNo1TZaJpJNJ7kukDnp5/IzeelVXgVWdx2p+I+RpRWnciXP7LjsJ3eonm+dt3ofjub4VzlaNxaHtSyqcP/ABkcwsf9PpCxrnXPgJJJJM/kfMo3VeBVVWXYlT8R8zSmQmJ9TGJKYk8poWGz6HuIc+/78n1f3Pq/ufV/c+4/yfb/AHEhsZcR7MSksnWeR3/CRIh4CetOiTP5D3eZI34q0FsKfgPkdGAJye4hBCQ10VrrqKtkFKOnznuhuqsJixlTwLtXFKUESbpGGQeYSM0JNxHYZLuPs2FBEpSvIcN5ISRA4vhHmU8UhnkIwykWSJMSd4LRWxPoIKZb2E62v8h7vOjYqrwzfcSoi9PxHyOiy7lpIXEW7Id5aQiNwjIRZh+pIssKQV5whaCKHwJUuZZAhykZJ3IKSEieRid7cllmGNEiCSRB2AwR5xRRixwMDmvWRTMigcHFFIr2JOzVJJl8jN5k9JaF1Y7kd6fiHXfiU2wAgGS2SEgyHZ1obQdmi7FF2ugBkgOz0gAEEEwQ0RC8RtlG2VRjStSmA7nwdz4O58Hc1AADuHc/8cDAAAKAbCAAAAAAAIBBDujYx9RdeNE9CJntpaTKMukNbEOJg7jQk2i7TisQpGms6p0zWSSSSdM+IVbpCyzo2HGOBbIRkzZjdXehVcElfnsLeUwRwW5kIlz7iw7syLQW/kJKQiEx3l3Q8s9i/uMFJH9AsKJXNgZRButLMm4XsY8xLn+DyivcHeUbmc/ATonoTWdE0nUvBLRL5J0SxLGOw3gtMvM3LkyJczNxqcjFJclmWNtkJ7kjbayS8Sdwm5hBsEtYkl8kuZE3ySdwl8kkjkkIe16zpnTNJrJNJ8Uq+Qi63Qt3GBoLmKqheR2LuLQXIl3NhLgQlmEM/kO4pcxIjN7Bm1cEy7iEkzzB57xRNZrPQWldRZr5BN6r0bLYdE4ajpINyxPPcaHOMCL2ngFD3kQGzTtcZt9oJRhcSQAK2ATgOu5t1JJpOuSSaSTSaTV6UMXgFW0DUc6MlrqqUkXsJOGQQxpijeSLwiQkNQQsm/j50T45ZrhYlRlvQi9RRZGwrCVF5IPJuyMJJyGhkpRA32CzcZ8ROuf/AAlmsEaJ/wDDknxj6a0LNYhHo/8AInxy1LXvReKXR26Tpvq36X//2gAMAwEAAgADAAAAEBAT1CECW+fowdcRQUAGUQhPPx9Ep1lQA/xjFBzDEaCjAX2GFYEGBUWbo0kwyYMHQxEMckaDuDEbcEIkgOwtYwAH/NRoQaYOCNWWUIkA0VGAQtOTdOiwACMzWKIOU5JoKU0kcHQJuSBGALJUIMSUBaS6BEfNp5/PcJ/ZRZCQCpoIuRMIMIBNIazEAAJJJRYCEQAUZdwgEcdimcTAq5/CAEkszJGMQCzDLEWjAiEGMTaijKWs+96GFHDPK/3fxEnPOGIBKtFIQMzq0IEFLkJDfcVAvOdjhqxAYcsNI8a8Qj/rKqcnuogIgaUd+10kwJGM6C9QFzAyTwmAYYh7DBgwvhO9rSDUhFhWwp5moCI2qiwcQdPwkfJ6cOIgf8uAZ7cMTRYIAg8kZE+HDbN2lz4t2r16iM1QoZp+2qMIiRb5S86SyWhXh0SXWC/iPSsSAAew1MReUsd+lSk5vPiExA6wi9BC0UDhjcMA+m+yc1YDraKGVKlbpAgPN6A2t0y030ciLlsAK+0uMsqcq6Uxw9PUKDcFEC++PuNYULmQi2k0PxVwhaCGsRSxsSRtToQSP6IAyio66xDHhFu5ICXKpItFVcATfUedIVnkkYgE81IlMAUoISSDZX0XCg8iIxzRAYJQemcxcAiQC/giCzyrH0oQz5noflwgDowDCknP4YGIfcZxT5WNgE51FBNiaaNKYQM2w2Ddk3uTOn0bfQzzkBs4DcWE46WDYE1lXKBNzUOy2D21zSuPEYLaDCC45cZSAA1TGihKdruCp5K7sLdm5iSUTUa5zJxf1RWDdCR3mLdFVU+6/wCKJJd+gwfiwfcGE0BCzgTjLILks32taWptWyFTBkQC6FT5rO0FZVZYegizLXPCEWkiZrIeEeAiU3xgzTFJFjRySPOomdxeOOyq5+cSE8Jbyo6L/c6uunX+XRnxAhUoRgzT25/mScqAqK9jAphFkH650etw0n0XJ9IySXZKUQqNYbg4IlPKiI95ZNLmJ0MBAAiVGHxQdvGeI0JKwCSUSVCyQBAAGygIYIetkTZIopf5hw5zBCkjLTEMpb45KgWyWSUFwl0U6GQ8KIZQrZ/9arnIwE30HspVUwC8IZn6JIgixvhlHid0A1xFCbj6p4XgSgESzgCIRDmyAgHUMaZi7ZBhhkEB38DwxFoPjIbkWXzQvT000hEDtvBmYbAD0uJKCbJhhi0E3ECRB+JWYOw0gEWVykUnNF0VlR1RsEIlH8OIAaaJBgDUi3XSdrdYYsxBWDyd7/8A7rWzXA4Qu1+OBA0/LCE76MQgEXJ0RST9K2EklUwsu/8A/ad718+WFFkUjRYQN+y5s+nALkLNcIy0Uh0dOTIMTn7Sdu0SWVRSeakHggQQXP4wgPoPPnAwIYQwQwggfPPAAggHgoHAPgAIoIInwv/EACgRAQEBAAEDAQcFAQAAAAAAAAEAERAgITFBMFFhcYGR8KGxwdHhQP/aAAgBAwEBPxCeMs4eM6GTvwz2mZ8zwzwvJtl522222HgOQHDOc5yeMntbbw8PDw9pnzMts9W9Gww9ABU4zoel4eHh8cMzyk+Znh4esYZS4DhlnCc5wyTwzJMnHhw8JwzPD7IiGUPQnKcJtkzyzMzMzJw7NknaR4eE6jgYuyIknSyTPDwlkzwnCTwk8JMnDNk+wJRwyzlOMkkk4ZN4TtMkzMycJZPDPiZePM9e5DDZPCWcM8tkzMzJMnCSSSTJMkklnDxl23qGHtZwnSknCScJtkySWTJwm2SbJZJJJJJZxnGFnBOAs4zhOHrT9bbw2cEkk5STeM4JNYa2Ue8nDEsk78Ms5z2LwkzJLqcP8hcu8I6pJkmZOEksnIeWxj1XYPz/AGj5/A4SSTZnoyyyzpzqSfEBzZs0fSff/tw+LywW5BOzMJYQLXCP3zwT9SyZDxEB4ElD3Zcn42DO+Jy3t97JHexTtueH59JrBCexGah80fpjKsbLLLLLLOh5eEEevSjD0/P4idkepsl5mXW2rC7Xhjpshj+tkT43ZT3fzmMOTYNjweWPteX97y/W2b7Cdw/mQJdyf3Fh7PrZ0ZxnGcszJB4N14cQ/F/sXlIT6L/Fl4t5rx3hvHZeb6w+5eU8XCfvEd+/+Lv0e8m1D1j4/vD7nG8PyOMksskss4zoyZNDycDMo4BAyB/QdpIdme3u4h3KDE8xvlo6lixp3Yphj+2P3p5+PhbeuwB9dtwWLW+HI3g+RwllkmWWex8SnUfYhv1P3bvMsch82c2NfexGK+7LrJeDIkzPeeK+WWJZcYYeYekr1lrSfznnY8s1fwt+yrSVa2c5xnOcZ05ZeiqE7hh2IvDm9ffZwkIdvJJZB3u6ebFiSyySSSSSSyzjLLOGWWWcZxnRlnHe7zsGySS2bLLJU2TJJskySScMmZwzhnJnXnCScsycJJZOV59PnfI+18j7XyPtJ2vXw/GUOSTJJMnCWWWcM6BnAOvOEssk4zlONXLt/g7HDRQL2Ph8bJKE8kAD6/OZmSTbJJJJOGcmchDrZJ0JZwknCXY3+HH+s74R4jB8H9cltwO/zPz8ZIPnB/DPkwlwuwHeF3SQNSDeviV5b9P9vAMgNS2ud16R3lLEzkyyzgdbOMk604Nr4fH9Th+C+EfUT6WDjN37+ZV4B3fz87N5CvfH9vjCAeWwJ5AJmlh7D0YZ3N2KbXt/ni7Nx9IwUP090Aerufza7+t/uyMvnJD690I7h7vr06TOhnGWc50vQkSvz6fOdEb86M96Fe48XzyHveMN+hd7ZGjpJJWtlkGdyMx5Ms6AQmc7050Zy85HaxHgfPz4GyYD6yF4iSySSyyzpDOTOARD2rOhOGceJviP6f1fEf0/qx9X6f1bT5s8JJJZZZZZ1AOAgR7I9ScZPS2TwTbOCWdYGWcCBlns3rzjOM5yySSyyyzhlkllkFllkTP+BOUsss5zjOEs4ZZZZZZZwyyCyz/gzozjOMs6Msssssssss5As4z2B7J4zpSyzjLLLLLLOMs4ZZBZZ7bOvLOnLLLLLLLLLLLLOM63k6yep4f+R4//xAApEQADAAEDAgUFAQEBAAAAAAAAAREQICExMEFRYXGBkUDB0eHwsaHx/9oACAECAQE/EOih/RzDzSnYRSE0LpIhCE0zrTFzziExOvS6Lm4uLm6aXK0Ma6iL1LoutC1zTda413RS4pSlLrWLv1bqpcXNLppcUbxcXFwmLC+mpS4pSwuh6U8eeFhbYnRpS4ubilw2NlLilLilKXFysIWiaKXVSlw9NLilKUuKUpdSwnhMuL079hq5WLhsbGyjY3mlZYKhMuiiF0KXNLmlKRAqx63UwgnLeKNlLij2EHEYQWeNKwnsLC6aerBNrP3F4f5w/wDHufsIVF6oSJUUbg+wJXhI3MOHBtiA9Q6SIORtLkkRww1CVidELXdaWvw025ymvnb74W1t3ntyvxh+BbBCg55OApxLbmwP2GCDth9jaIIarCFpuKUpS4bbBpC8g/m/0J/v+jsKnbC7bu1X3/Q2dhwOBxOeGOGPHA+MNmHMXYcGLjhC0TN1Ik++Huvl/iehdj2QpEm49+P+T3xyEi5OIhIi0SWsfA0e5xOBwwSriVscRNmLiJCETVdFw1RK2TfJL2/8Dsn4Foz0iFCibkp1NfkXlDXdIn/miqRsxBYJhBKEooHQig6EoNXAWhdC6eTr7r07oexi9UypNKPZz57DQl4K4S2/C/PI8sZwHltiBCaJ0EtCxNFKUpcUcIhJCa0NXRMJomZnjpUvR5JkmpAXZct+X7PIfyeS/k8l/Jvei5T328TkmITEJmYWhdC6L0HhuKm8J3n9l7FFnuaO7lv5blBwRUxiOOV5omITqLXevtt3/V9l9yj5TwfJeJt2xv3aL4ogryV8t/f4+IKjYPvr07r8DRRuKlFSoTXAzQr3E0+BNPhkTcqlE6qsLCy83N6jGheTf34f29jbpbed/g2http+aq/79ym9E27STfz8Lz4iEeyd/wC/Jxt2Vb7xK+W4xuiW41Tom20vBMVvZDTq9xRyIXYkboONkkUe3gbREJbqrxGn/wBE5eKUpc3p8DFmEFo44foLTKme/NPun4oW0orhvn++fUQ2H48F6Y203nd+nZCRYauzIJEoiYglW/QfH0qVFWbuuPTw9incRTt5FPlbpCdd8fTKDoh/4j/J/I/yN37PyTVCS7ISnQ513D4xemtM0QiIQRaITHOq6KPF0rK1zXMzSh9C5o3lfRro3NFqpc3UvoV16XFwy9Zap1KXTS6b0lhdJdClxS6bi63oWhYWVhdN9F6v/8QAKBABAAIBBAEEAgMBAQEAAAAAAQARIRAxQVFhcYGR8CChscHx0TDh/9oACAEBAAE/EAVNYN4e1uouBKuNgaPWI5kGwxNmnQYaXqP5X+FzcIODWd4VCWVN8NjxzoQ0GZbam5a6puUjSUwOcMtdUwC7HESk9L0EIMIQ0GhkuZIZVw0CFAlHpBM++qiZsAaqo7iDyRhYhvdTLV7q6/CpUqJKla36wesMK4DuMJKo6KqWZ0BODQq096NIG9NXMjO734ih6RuM8KkhtLunUYOl6EHTnQgwdbrJEseHeJbmxKtbZvCDEJSt7RjQJgdojBew56jVBxuWYvyZQrJYO0LlsJHaemghCEINBpVL5ii2aCHQQhyY+aIopZTN1d8xTrvh1K80yC9QXdKXXeZTqVn03gSoGlSpUqJEjAAnGBUlJtEia0fwoGgJtjPSFllj5lltVe5YUsdXC/NfcAwOvWDDS4Ot/iH8A/gIaiE2QxBraEtcu8IaiEIQw0ENCGiaDQIECWtCuMEtpatbeIaVK121qJKuJEiRLjBhh/EgNkSk4Z+mH4XqGXpcuXB1DWgzJqU7lO4DzMS6alNDCBiBi+IFuIEDQSxfiG2pWYEqswIEDEOgQJhAzAgQhCEIQhKlQPyTVNEiRIkSJekUJ0C0xjx9Jc2IWSgLxAoRX3Ue5vDTCtWFg3mdcC+U5r+ShuAdlcRw67u+Aj2SXneAEPc3yRUElvq8QUi4eLja4rZ7ipYF4reGofyW3K7uEIwJW5t1Dd6ww3lxDez1m3bnqGNpdyt6YOIs9WwwcepUNNjYiX5PUK8EATj9VEUNGGJT1gRNzEOZWMdyJTg+IzChsmJSw7yhVA2yqU0ENAQIGgIECpUqeZVykgSsSpU5lRIlxIkSJDDBoYIIYVUK8RuggQ5KYFW1BVVxDYxisEWVxsnmyUFRe8mThxCAKxsptBSuNqpGr7xDgL7TJK+i29pmEVjeyzaAFY8NZIwoBxdZlw1GOmEDBl+35g6FuDBl3UFMXBTnQOKgps1Be5au8FNBd7YdQhFV5rqXYAURoYYQaxoNUIQhAhCEDSpVz0lSq0qVokYkMYkMS4YaghrQIOgwdL021vQYMHUg6noOg2rAOPXUgA2doZhoNBCGg0EIQ0ENJDQNAQhCEqB+AmfyVE0SoxLiRImg6RggmxKdEoJREvVUZV4mbkA1a4lwK9GYyRSm8jBJdguhXeLRdmrywYHkWF5ZeStrq8y8uClpc7QdTUQg6DnUmKoH4gfgIQlbQhCBCpjCENBCENY0ENBoEJUr8FStGJGJoYkSJDDDA0KMWeWCiod9j0iBFhmdIAbIFZlbVKzdu8CWU2QJQUJbXUGuoZWt0ocX3K97DhxtpeohrcGH4Kf2NmGoa3Nu9AGrvPUZLx/2DepSHvB+MRsWvRd4bWp31tjMGoNRK3HtN+doBCuWswKWXvWZSlLx+4FVLxCFtlfHEZLxGcx3r3gLRM9xnr3ldwCg3Czx7g7qYdQ/ACBAlMqEr8NvwdBhiTfDBhg0HQlwdBg6Xoa3oMvU0GhAKCrKp2hDTZ7dQguruzqN1d4/cKQW92Z2pjeDhOViBtWVulp6Rxfk+INeiIXYs352lKIuOKlOLfWUbpc/qXYBtAgl3m4zC3ZG6W7OpmDWbva5VNr1ABOO6m73KDbeIJndshFelMxillF428wIGg0Pw2nEr8TGMTiJmGGMMMMeGJXtLhTKHBC/WbbiQuGV4unGgy9SH4jqIaB0FfjDUW/vCGghCGIYhoIQIGohA0Yw1QgQ0ENBK0E2flUZ66JEjoMMeowwwxYy+5sStlTtnVAPqbTjk8EqXaHYbXyy5egfwGtCDoOgwghBLWZ4xCGgFc7d6DQQghCECENBA0NBCENBCb4QgQ0If+HH4c6h0MYxKIcQw6XrsgwdblwdN5cHQYMIQhCEJTvTWg0NBC79QhDWJiaA0BzxCEDQKhDWIQ3CGglJvDVz+FVpxpV7RKYkdE7jG60Ip6RIjDDKOWV4ahm8Z07wZfKbNPrDUCA3doVJ3cTZYBbh3ElUHuWoac7eY0BZe0QQULtK2qaboQdF1aKjI7aDQo9LQyqvG3MqWq81AVbW/Moi1ecQA+vMK2wIFl3o2I7YVjaC3MCizmEpis1KESqLiI7WdRriveEvDGVUJeIal1nuVBReN+4AGy6YAXBXniUFxYZqVzisbQkODF1GsVXtNn1nPvGrMVcQugrzEFmLJWQFUXcAcQuveYS6yQ0BSdMobx3rMrNvW0yVrH6jg4M8Si8LriU6arxCVQrQnFbf4nJcrgq/waDj5jAtIhgl2SgFrPcMJhTiUdEqbZVsl5SVQUNx0zgSmtRcZsL7S0KqqpBiCuz/AFhZY0r6wNhnPymOSi2KhgtyvvDVYSteszNk5OKnZaqL4JnNi/3HllVhKQLFbr58SlyGlb2zEBLo5eX8E0XFKpoNBPOgqhgBQxpsxjZqCu7AG7zBbu24Ld3mZd2GNoW5YXLN2CpS4m+8CMYGiC2ZjQw6LY4Vbd7xhwwV3eYLveCxnaW3MGWd2W7tkElKpBJS4lu9y1VeIIKGoUZ3oKbMFNmoq7sFNmpYbvMXd3FXdxODiXTiK3MVTPG0VcLGLivcips1FcZ2lpszOFNXPL+pbdLSW9u1S8hQZ33ZZ5cy0pdestyvcU7p9WWzlzvneCqra6uCKy428QRgj0dL8KHllkLVDbMFxlxt4l//AGndi8xW5vqw1jQ1IDBvedBodc7daCyZ3hIW1e0KV5alU1LeagOXwQrfiVUuVdQMU4YBzePSELXxAuFL8Ro3z6TZ59ISq2/1AEypYcNOfSAir8aEckg2MPFEGpyQjg8wWgTAMteSYc5dogxeZic2SneepVTL8aG+n1KgKLaubQLLWiUUt4Jm744ie8bx2Jm+5W07GNay5xkjhhvNQhgbZXbnHiOYt+Lq47qfaolGf1KJzXtDxDQzBhpt+Aw0XCEPwPxk54C4vQaW60DhszKqsutp3F5l23KgxKuOI7bwEMsdtpUGNplgKIvTMJywFymIVcolJ+4EeKS4U8ELON/MI4/cu8x03HTdXAXfwuFbhV75lj2e8aIyjx+5Z/rxEPFMom2fWItoz3AVSaADn7zh4i23AFEsnLGOo+EAjZxELtg4jFuv3EWAqZTG3mW0nm5dxT3LuP3o+PEsqv5yyqS4uGNo5V0JtXygFXzpv3RC6SJopBe2JtywvbG0tk3EKhrOSrrEZRQ2rGIY/RZkg6DU/AZ0BhCCCjxnbQaCr2hMxTh5juQsgOPMqMlhEuqzAS7NoFV5gW0R8WCEK3l/RLG5GlYplwyaBJdY0I7EZ2IjsSkL8zbeFXEZapiVwnrDaiFAMpKsljeXUcNRKvWe4KrrEFV1iCSwgUxA7JugLtBqnUbN9GMdHEdGOhjnQNS4aKiVkUtZZe05FXWWZEJsF1mFbAaoBvEIUqbFNoZVHSLgrKzQ0NDQhDUEJZUPV0GlOBt1CPMveMRmqgjlxTceZ3Axbyx+G3JDg2SpuzC+L5iKF+8wFDebuYu734ilUV8TFd9Sy3e+0IJONtBSFtVBELaqWN1rMYm9t5dtytItXAb2CXcMCMBu5UHrcRWE9iFSrn4zh9csc3sbQFDYJ2QF+ELl52qFVYM8kVrGU3V+YjLiqjQ4blxdLixjoxYxjqGEGENCDUIQ/EQhUAKvBM0g7UH7jOL1L+5v/sI/3CVGOUqFV1o2aBf3DQfgJBTnQQIECEGg0IMJcAFoPgXdUArsxyG2EBZgy3g59o70DBgwYMGXoOly5ely5ehZcYsvRYupjozMO2CtN0XpWRklrcSKhRWzEO6w37mSsL4dpmChvanDK9ap5G5ZSq4Ftj12oxa4iKpKTQajS6oVbcH97QGfFuwdr/swUSyjZ2dn4VUEFsKPBlKiiUjww0Chu7Q/IEIQ0IQ1EvQYQlTlW6/jj14CVSwYMIQYMGDB0vW5f4rFlxixY6LL86MGMM4gNyc3GWKtNhm8uqOK30y0WLC9sqtS1g01YCPZKoWC8+WNdeFcRrdpJjsgtmA2JLCtXoIQ0uiMeWP5/wDiIeBp8qBeg/t5hV3eHCw9q/p4/GqqIxdL8axCGghA50EIQ0JUIa4y7eIEwv0gvhi1JUl4H0CVpvR/W4hfHltQYMHRtMlXBgwYOlzfS9LlzdvGzpcWMLGLmMfwND8Aak30GhoNbJxFbVcCZNpWPcYRhvrx7rF2hV6P4VfTuNIgDbx3DWISlr7hFKdojj+5feEA7lGE2ZziOMdQqx+8LmAN9oUy+dKceL3hGbaaYkJLZuM39zH6uIfw5Vzc1Aveaq5eKv0jRVCL5i00cRyL6lMVzF2F33EATk87yszNhcKzMvrAKLd+bgCefWOrepeXrKHeCp5XvLrVrG8pldkslwWqt3zLq3xw4LGqneXki2Ltx1Lly9b0IbubdiWDJCCtm/SBOauwdCGq4ttzoQhQ60TLGG+cV17v/NKzdIS7MJSjlICNVjf4KloCEAWJVicdQMiSKrDp41FfHxKro/pRxCGgiRjV80f0LfE3uTSCerbX9SoGnLFhRQcMPJTUDhaOUdlYHsPrDcma+8egaCqsulyvskPlVFWlHcE+7cvnzHwGFaujke2NwqtWQXQ4YC3ApN6WYaVjshWA4XmMKHF0EKvNMwO/MDIpUd0Gi5cv2qA7fSo2gN4JXLofPmj5fSbXBlA/QEdqJi57xQ/uVyFPkgM5ormseI6fODE7B2eX4m7kGWl9ch+ptcuxH7GV5ktpt+j2fmW0O0lDcYOqw+pFRPV+R2Kz/OOx+4KALw79hD9Sx2etv7GcRlvZ85P3Nk2EdnyeIt6z1FY+Je7j9PiXWSO718RmvEWlMvS5cWLCFbo2vwbEat6NR1tWJkKAjm/mU3hoBHn1hn0wBzdvcTahEqmCKNit6t5lNjt3DBQrVFHmIWHGgS6IZNui+ye+/wAf+NVVLcxMhYwXBK4OC09gexHZcNFCGYOv5z2vLFDkehSwZXW114gZnApaw20K5R5P7NziWNGfNu0nkRPaCCjRGBcHjInrXEuGWP8AWkZL6wg4IqIz5SV+lXXFHeyDkq3DasWPcPSlFCPEqrT1/wCkNUC2Wr5Y/pcRvlBC1Dg3VL/yHG2AgXlcezPmL5Jf+qCQwYBHcTalm256N4qKOcItPcs+OodspamBjcz2GH3PMMBetx3vgZfY5lvMbHXxhgh1yXYt69nhlGR6RRt0OM4Tyd0VpwKD/Ufx6ESXiig0LyCr6xtNr9CUUUcDwp8x2dW2r6rOvFzvw9nhnjyELqweH+bgqFHb2h/s/bLiXFly4suXLlxly9AemU9QHqU9SnqA9QHqU9MB6YrYZ9JVtmA9Mp6ldID0wHpiINqA9ZthA+gV/wCFVUtxAVQDKvEvmtU8UAr2J9EdBVpgP1Yf6H5lmmSqbgOqcMMRqoljEvHGy+U+7KtiTeaWx/L2l3tj+pwi+zpCMXFCnCiezAZ4izLuRSNQVqOvp4j0ESOqkZthSkQXkFfplFciT8TGfEKpF8iP217Tbtg6ZD8fpCFkU4jFR+pyr9LH2gVV1bI4SKmrZd2S/wBS8MgVMwxxFLEU9yQeR/6lGfpctEuXL0uXjQsuXFly9QYvrUhAUULDfxoQ0NRCPbBfh+NUzw2Tw99v3G/S/cW/5/8AUX/z/wCo1Zq7Ff8AUarGTB9Sn0GO2KnLe+O6cr/w2NBg8+FD1RLjDIL3gPAyisty4VrJxXAQ53GO2Q+z/wBQ3M18DP8AUS5b1H9ThMvs2TasI1zA3wy4+YSuVfxw0niZyDal1UMf1+IxdXhIlRshlTLAfT3n2ziOEbMQm1hD0qNvKr2gENkcktU0Q9bJcLYGfuhccou1FzLJouPK4frd4vXP9bL0xMjVPpOapuNjyRELbMy7heEbLUhFm16ZnenRlPWdBmWCHBGhRpSvBkvmDNIGyN0QGBRV/cwNHFuEFXY8yzzb6SitaOIQ0JcThn2D+FWHdKtoott4Cy/HMGRgr08DYPB7rvAigz0T/JR/+ShawNkIx1AwkwD3smPGMw2Yncm7klxc5KZbSV5laabhWmSnyWf5I6YUDyh/aB024Yvu8IwK8/8ACNVkNeY/LEyeNCrlKvNsaakWERfOfWP7vEPmrCTEy2rPc9L5jLrM7frH9TiCVyQ4Vj8KLPmyImYA80QrtrPmDHp6+wIuXCKozsI/StKhdSZxndljWL7nMVBsf/eIWuuOZ3vGLlRNseZWzb2bixM8y4xpsrGIWVG+Is9H5m/LFS4Ci069Jjc8whoQhfdt1XtA0RFYl+7bgs5c7+ZRUQ3d3vKXTsLfGpoS5wrm039T+71o8ATnhBrSWo6gYYYYKsQs3ys9KKg0IbwhtPUWcuOihliikc8I3BaEulKuwHMsuPyqFewB63ALICOGwPq2+yVQWFUxw0s9myHdJDmAgTzi/fxBxHnHApt30SBe10OPEdwpfrHZUKT5SIZqjZypRYxucX1+IfxJPGXcw+3mP6nE+JlSFoLlVteifhH7WqhlW77IPosvnAjfCkbZCg9hX4lb0W9m5/Bb7HcqfSOUZzzBm/H9jmDTYf8AGEvaiXFuLUuO1y5cuXLly5S7S3ct3Be2C9wXcF7gvcF7gvbLe5buC9wXtgvbBe4L3A7sHjahgXdevGtKGrUdA6gdARA1CgG6vEut71MJf3IB4EFTg0PeZsr9Tex+pcW1mAwB4NWbjUWvHFR6NEy8DYN+wAHzljlYHLnD/Ifa5kzhVg6DoCg8EwCHxLDEEDTOfIc3wrw4qCSmQHCJ+kitCbugell/KznLiAPaj+4FMaYiq7cDkxdyge5lQnFdSwQJTtY3nxDgA7782cnTs/qfHwWoEyHimbjUhCNYmH38Q/iSefpBR29qn0/cf1OIX/NMmFkMJyJyJh9YfMZRleW2z99kZolpFvgsT5qHzDcl/dWcjMa9Lc28vuxpQdFs9XleXn0CfAxQhXhuY+nyXEAo+I/scw5J0scbS/Ga2l8GWLdErMUUvvqo3cVmDbOLENmMxowS4GMht1BMKMmdBHMIQYaCEIaGo1JZUobQsUMAAPSjpUHTu29q6wr2apVau2JvW5O6OeWG7ZTauuiCzMj7x7il/KQAfeUSYkF7gjlIl8y4Q+GEaRkbaGxi/BidAw2vyBiAmt1V2rAJMFXN9H4obXCe3Y/EcGflPkIhOjIey1LX2W/B/cJx2eBgFy3IpAVvo8JCNcxvPmzGfv3pMrF9jH0gunMFQCgAe6WJGsQfbEDZb4nYm0Rnh4f+8YBYE7QIjYnEK1zAYfplFR16L8gZat1vp6rDPEurD362cAMKjJl6OrYxuYlTFBxseqmEFs3XL9FlbllrvmW5YjuxTusz5uXF8y4WX7io2Rg7gwhBhCENDUhDRtEPEQIPYaA6BgG0+RazCS6sTZIdn7idacZA2XaDKtH0lRsx4jywbdS45qMwmNo4gFTNcQuAe0pSeINjzDfz4qUVha8Qm5a8VPHf7iUR0SsG0eMft1C6oA4QPlXxEnHraWUyMckLwW5uBO0pcGe4aaD3gzVVEBaupvUMRPaG0zlHMAFosZtYO9pW4Ml7TZXPiXErEcBCtkqveOY9LDe8EYpnklzPNXxBETN1cqtBYRQwcR2vpGjtt3HYoo8Qr9xs4LOpehKObIvBd9ote8wgXNS0vPtKAtXesQ0EGGgYQ1DQaGhiGkvEJKL1D6geqHOg6Bg1RdnZJQinsDtc7EceyN0ge6r948QYKqhBY2xKyqJU/MucMJySHm6biXfMuOrgqqCPPrBvhDtDgCOFwbug9lv9QZAZWfkq/R7xookRg4/s27YRwqCbB2H3KrMRRDGkH1hU2L70FSqH1l/3cybl7EPE9JfxtUFjbEzrBRxM+AmVeJkGAi04HlgxfMPEPMuCDizZmypc21dRuRbfmXMLjerBjldEEB4jYqgPENCuOa0NuD1m2qzDVDL2eJtpB9Y417w0EGDoIP4CEIQYaEOSK5NzqBPYFU+Vx7qfMrpbdy9UQdm5G/TFQAzgvxcNiOyqv2CvS4RLmSXsWeAD1lfDQU3G3cGABW89Rn7vHSGFOH5ZoV8E3W4OAiD8w2O2PMBupk3lWsMx7aD0lRAj9I2T0pghfsMRIun++HwE3iccnuyr2gw4tL94C5xAXOCXTUNi2fMCx2s5lNpiZJnSA3RTKStm+pnw+kpN6nW3tzKrM97mx29bgNXiXLF4yQL6hacQFvYruIl+JTdWEpuv3Eb4+Yiby7wRQbjnhiPZO/ERP5S2+Jar953wylzjPmUvXzGjXWhepBCDBg6ENBqIQhJC4QrjPjlQ3s8Q15vEAEGDMj26hAZt9IdBdV4laV/UJvUPHioCkLbgb9o3d79pU3L7PxK2JbG5sw3fnqGvG87T6m0rW9Y6lymPmBxd4jcPW9BF3zKAgsBb1RGzvftHTvAcessDSrQjsp56i8FigAuPE2HiXhtv0iuVblwg2ufEMfcytV5uCNuW3qILFe7lbX4gFxZUfcnW0srN+1R4x1TsDtVSgNXnuPz3YSOd/EvblLviqmWW5lfQg44fi46UhqQhDEHiDDUaiGtrFxitysKFAtRjj6S6XS6Bq/eDDne3ErbeEJzg9IVuoS61B7lly5cuCS5cMy5cuF1c4vQgt2g7S62l1Bg6DBg1CD8AupcuXLly4+UuXFlxYsvzLRYajQJeggwb0IMPwVGFRcG6AUBHjzB7ezFaNWmobu3cGFXtnzLrLw7Svfwwu+cesSXb9xNtufWNd25CKbSUK2BlbjZSXd4WUpYHf+Wc/wB31iu/2fMef7vmfUf7n33+4CzlA/K2ntHFBqrkLC+UXT4p4uwxdV3LhTqXG0g+mYM35uLNN74anViu/SVYv7g0mzO0bW1+8/8ArW4NNvMdivO13Fb69ZsD3Llw1FOpTqKS5cuLLdaLrUXLlxhpHCENBhOIacwwwYN6BgwdB0CVMoZwkk8Yc6xA0GgwYMHS5cYM18Sri3ax6W4l/U0OIp/p8y5cuXLly4xNyMVm8Tugnt1LMD0bdB4RE8JqXLlwZcuDBg4gwgZei5cuXqLl6l6MIsvRehhhY6BqIMH8RLhCDCEGDoQioRrDyxjZRRtxBgwYJXogwYMGDLmQNRoAtWPivuCwt17GXcZpRarauuPGzHc8Ef8AzQKMI4Ut44H8FUAUvZyvCWe8o8ahlXC8sj4eoLEuEDLlwYMuXLhAwi5cv8BcuXLly/wFy5cWXFixhdCGhBhBg6bwhoOlwgwgwZu1WFK1Lir1oMGC7gy4MGXLqFj30djfsOXnyiWXcXhv7nPpX4EQEkCsgzjeosSRz0U7lc9wxC2TlXc3LNtRgDZSUpfAv39Zd4HtE/IyvKlwYMuXBgy4argy5cuXqXcuXqXLl6HLQwwwsuMMEIaiEGDBgwYQ0HQQYMIMGDBmOhWYIpQ4xB0GbYOLgJBjNLAOWrlBlrNQrNu0Up3SprPR28EBKahqB3vcPBjj8EgXbtb189nY/UNd1h9UVSnwEE2Li7fgW/qJXHQeDAeyD5gaxPlwddm5OLMmiDBzbiNjCwlkCAbfQB5A5ZcS4RcIuDLgwgZZLg6Lly9S9F6ly4suXLly5cYYYNBg6EIMGDBgwfwGDDQZcGXLl5RStszIDYIMHQGH856JUrFsNtl1M6ebm5eRmCXhbDB+Xb/0RCEfFFsHtqLboIK5fYt9ofiamxBfcrfyp3N8hYP/ALWOCEsADtCv6gOAqIK0nkx43JUnVxib/Wl+zxBrUyg7z+NFrZi9a/7GPRlqjgD+mltninEuDAELnzgnhxBSgDt7ivVZfIR2X0lp0Ec5qXApvkPhcaaFpT0jkg9dwqPIuAeFZd122w70YfZgykP2gDrY9ukgazl2INkDYsfMoI1rsHbsfEubZJgh2LI9CLgkJB0JfTh8x+w9ayiuTTnxLjfDQAS1RaI1cZgJdpJ2dnkgp9sXB7XY945/tUvtoWPsy5cuXLly4wwwwwwuhqNBgwhBgwYMHUYMu5cuDnQlQbu8SvawvbGgwZcJcuDL2ErNK+2ife79tEom4StwCobrjY+IvbKQUCqON0syyxxbW/pMRBpQquj3PZHLGnmq0UFrGbxQVioug8rJYYep+hBOyF+rf3/MGrAhCUar2xMnTRiQsrrfiFII4dLYjW7gR6rvmUJcbTJCDMhd72jwMphtKoWXq3rojpnF3AE+Yl9JyBADZrmHxbboE7QN3rLbKyslQRuTb2+CKlLFagjyGyf9buDhBERV5KTeMS5bx3Z3g6hsWWxfvUDKCwaXb2LJW2YszlrgcQ63V0VLqtO6b2TZgwdQIbamAdU7HyjhpIQbC1aN3YL2qBVSCx63c1QfaoOdvTNpFWgUZppxiICgwutl2GkQ3vUuLLly5cYYWMLcYIaBhqGDCDDEJcGDL0GDBgwYMuOIqp4iac4rFNoTJUKvERaaJ46T9Qn1GfUZ9RlnX6408/VWo+AFeU6jsV1biNJEEpLGJrmANo6ihrktFa3wN+0TCR3FJfom7xA1Kkd1ZYwLZumyD1hWh9o0V+uIageQPujg5a5A7iVw7qD+T9kbtFWRtc+6/MaMoW4k2s5jLOY/RoZ7vxCtUGMAz+Xf7+Wb3+mFxYi2wd4jO175ALUc2v8ABOv5iEEfkj4g/OwjIZyXZjKPbMCN+gi212dtoMP0l7GbXY496LftaSsnyl2E7dubZ/l3Vr87Mrx+vqMSmHsliZCttOVzplFLbsFvPrMVIbgTFqWacidMvBqRm9HbE/GarEIbW7KIs72DfrBNFYrt1MmdmTEOuOy5Iw+SJNOwDBb234hJnd9DdLKDsn65p8iHc2qNjbOP7+oz6jPqM+sxX/4T6jPqE+ox/wAmfaYIplOmCh01GFgy6/A0IQZcGDCDCDquDBj0DFAWVcrLrR5euP5MvMD07qXL0umwKu6Bs5TA8g5j1VA2kWbtQr39ZcuAihY7wM4bjewHcUMF4Hnd3kNz6JWh4RruBFbZQE+X8TOgUFs8t07duCEPW4UltTpx254JcuXN2QVVbg/YXGDPDENsLyltdHRwYlHTdS9BC3V9F6Vg1v1FtxkV1be8KtGVi4p8XicCrvbNdsGDovRsHBxMbr0NBxhnzdwlgE33LzDJOC0+w8Dr+XQoRjC3UOGg8XzLrRei5cuXFuXpX5r/ADHVEIaDUMHQMu4MGDLgy9SPMGDGgo4bZdCApy7y9Ivnx0yYb9yyosLVm2Bha9zehV5wsnAKtuhdRbW/1DqpYrGHMu5TY8oJ4Q2i1yC8nCeEp99SWhVuiY23ApdF5PZmBhbHfhpBKPbMUeDj5uXLlx2rC3Y29zj0uE+V2Oi/Q4+ejDJK8tAxhBBVXgJdyTLt6JbtYtTG0LVAsGDnuLauDM7lQEVgGZimxxChVVLA7i2P3kq/Et0JbtrYlUKMM9COnhLRYASl2UKKQ/UvxsmUIHjKN76lGFFLXtilQZy44m+oC5f6hZZtWoabTlWAajXaZAE5ikrgY5iXwXb6xOSrvMuXGLly5cYfxR/NjCw0IZl/kMHS4MuDBgy9BjzoMF7g6b0L5MuXxLlwZ8w2RO4Vlgdk8BV4WN5VBil6SnYXv1+FFnjk/FaCKAWrFJMQu0Gade1hDSiq1W1Y6N4MFl68SXrxG4MGXLlzMupfmW9y2Wl+upfnULiVwXjxLly5csly4sWLH9vcfzYsXQ0GohjUYMGDB0GDLgwdHmDpZ8uxGrWlVgDaXHlK+TLl60aVVgGoh3SXQYynIpkdQuSgbTZZxRXoB8gMwtRXtjl29zZ9JcuXOF9T8DNsrXBs+H8Iuqjsirmnat7qnErS4MuDLg6Bly5cuDouXLly5cuXLly5cuXL0MMMOV/N/mLpDDUOgy/wuDBgwdBg6BgzfBlxQz+ktKgx5T+4ly5cuHgVjxDlYc3SXAizf6JmTG8kFSxOkYfA2xaKRNyizPW4wiAg5Mn4LbbbVrnc096jyoiHdIvxEpMN7mVTa2q/ojDxu4NS9Lly5egwZcGXLl6Lly5cuXLly5cuXL0XLlxhy/Nf5jottD8hl6jBgy4MGXBlwYOYOmTQSvO8ShtvWdFlK+bLgwZcuXLlzBFQ01UOVcj2eHEywTYb/wCZsqRDJgjV4EbxU3CRJOdb1ggm40/Awp7MXcFWJ5VcrHCUUvtHQcosOWVDA7XzFItxovmN0O5iCQTN3iCdwAC3KQ8xezCcYZ27gVoTFr1LVCPBIVg0YHmVIUIX6ytGGwziBaU3DiJFKtGo2aSNY5xL7bS+0uJ1WShv1l7zkUXzB2UI03ALvHPtKCpByxBi7IAy5Z9JaEEvAnEJUbsnpouXFiy4tT7XufNYusNQ6XrcNRlwYOgwdLgwYMcUArYnF9oR5Svmy9Bly9LlwO/opiptYSsbxrVUO4cGG9sNbUyjAVZG0Dm8xXW7hSo3j7iw9Jb32Jd42hcWVK3x6wim7HrMhE8g4ZUOlbWg7GzbPMw9Zu7hYBLqvFS4la2qFLNcjL+KVWXMcEq15SiLvIQyZdMp03UT2hOXd4XEbWBNrSK0G69zeZsmNXeJcMBSG/mXBaqxTLsd2TNlPhlmMmzOYlNECsERbUFwOWA1bACXLly5cYYcr+bGF141HQdFw/BcuXBlwdLgwYM2KFrepssLW5Bjy9UMlhVMz6En1JPqSfUk+xJ9iT7En0JPsSfYk+pJ53yTzvkn1JPqSfck+5J9iT6En0JD/YT6kh/uJ9iT70n3JD/YT6kn1JPoSfYk+9J9yTzfkn3JPrSfYk+5J9ST7kn3JH/YT7kn3pHufJPsSfYz7En3JPoSP+4j/oI/7iP1IncfzMWLqGPwHQl6jL0GXLgy4Og5gwYgVE7zvECpl3zLl9qdof4ifYEP8xPoCfQE+kT6RPpE+kJ9ATwPgn0BPoCfQE+kJ9IT6An0BPuCfQE+gJ9QQ/wE+gJ9AQ/xE+wJ9AT6An3BPuCH+An2BPoCfQE+gJ9BPoCfQT6gn0BPoCP+An0BPA+CfQE+gI/4ifUE+gI/4iP+Aj/iI/5CP+KIqvMcda7wm0MaXpeohqMGEGXBg6DKQFEO5YLRruXB+YMIuX+Fy4IIMbpcuXC1oyzdcvuF0BbKvi5QtYdwXMruYLwb3KUumjmDLjVDB5gtVnuy5cLWiGYlksfSXLihWL2ho1L8y5fmXLl6Lly5ei5f4BhhYsWosYXQ1vQ0vUl6XDQYMGDB0GjZu1d/E6gaysHS5S52L4/vCXklqvHcpuhs0vrMMm37l5h1xpRf4h2wUBm/vUKqsxyHe+pRLQ4KYPaNPBtNVV+0A8ReCrJcEJUirJcHbTatrgpqXtGyDIU+s30Q3HZhWwpWY4qGTDIMSs2XNs2Gre9PMxqrItOINqpSTl3ObIaHg8Jt7Sy0KPP9QoADDqYLS+poudbDuZkAqlVVkZhyq4jxcFB6VFj6f40XLl6Lly5cWXFjCy4wsuXGFjCxY/i3/C9BhmDregwYOggwl/N95d3V9YMuXMO323hpdAAq8RoFAKS94MMu1y5bVW11C+r8rzO6O7m1ryvMRtVpDO0Gqqq3iiJk5uYxHNLLNWmtvEtnLnfzKAtPWVFHXVzBV69ZbK2+4tN0rfO8HQqV07wNmDxAtmX5hvzfdwbdx7uXvfMyXe+7iyW2vMut233c2VeOpUncxfZKtEUBb3ly9Fy5cueqXLlxdC6rjDCxhYsX8b0NL0vQgwxNoakGXpuDLvInVTAN5zUGDB1uXHW9B4uX1q7EhBHYy+kr527qXLmdGwIWJkqoZcQ7GguRq4MjgMu4QpKoBswyszA2OMwFAULwKYeipvGJWVVr42ikcUrxKtctlbHrAwJvQlb32H/2XCXLly5cuXLly5cuXLly5cWXL8y5cvRcWMLFjC6Gpq2/8BBhj8CEegY24+vUGJbnzCDBl/gKkVydOlYzbz40IbBmqu4SoULddRQGGlQAAMN5mJoS6I4qNKqLbA3JDYdoVUck3ZZqlsgN01bkk3RDvfMqKAbXxLoqUKy4tht8y5cGXLly6ly5cvUvRcuLLly9DbQuhi4wsbRZceh+Yv8A8Bg/hf4abS8d8wht6uNCDASiKM3vLlxhZR6sbvEBrLHXFJjfaKLvjeDNY2uDxvziG1DLqIaLfmUVtnzEQTNtRssJ4bhqGjh06Xpcv8r0uXL7ly5cuXLl6XLly5cuXouXLjFy4suLFiwfw2m/4X+BoTeEIflKqpxxUDYWCs/gUdEGqe5QsaTgvc0Ja98IeNpm9rg1Xut8yg5lt4lmxRTYgWrYxvNw7QquLcob2hvlptuWgDfjGZ7steL0GXpely9d/wDwuXLly4xcuXLixdFxYtxZcWLFixYupjUx+I6Gh1rehB1L0WF2eadpcLUPH4WqrfmXB/G/Na3Ll/8Ahely5d6XUuXpcuXLl6ly5cuXFly5cuXLly4sWLosvQ0NR41D+B+BoPwCDFOFPbco2pSsPMGDpf4X+Vy9b1uXoP4DLly5cuXLiy5cvRcWXLiy5cWXL0uLLiy4sWLF/wDA/Af+IhDUPwNDQ/8AUfyH5MYc6XF0WXL03fmdFx0uOjoz/9k=)"
      ]
    },
    {
      "cell_type": "markdown",
      "metadata": {
        "id": "IP4ovjK-3Qxi"
      },
      "source": [
        " # **English to German language translator Apps Using the Python programming Language**\n",
        "\n",
        "\n",
        "\n",
        "\n",
        "\n"
      ]
    },
    {
      "cell_type": "markdown",
      "metadata": {
        "id": "xyetR3Dc2hs7"
      },
      "source": [
        "\n",
        "###   ***Install Dependencies***\n",
        "\n",
        "\n",
        "\n"
      ]
    },
    {
      "cell_type": "code",
      "metadata": {
        "colab": {
          "base_uri": "https://localhost:8080/"
        },
        "id": "a5KFz7VSm2gy",
        "outputId": "6f7d73f9-0f4d-4441-9c81-9638b851c311"
      },
      "source": [
        "!pip install torch==1.8.1+cu111 torchvision==0.9.1+cu111 torchaudio===0.8.1 -f https://download.pytorch.org/whl/lts/1.8/torch_lts.html"
      ],
      "execution_count": 1,
      "outputs": [
        {
          "output_type": "stream",
          "text": [
            "Looking in links: https://download.pytorch.org/whl/lts/1.8/torch_lts.html\n",
            "Collecting torch==1.8.1+cu111\n",
            "  Downloading https://download.pytorch.org/whl/lts/1.8/cu111/torch-1.8.1%2Bcu111-cp37-cp37m-linux_x86_64.whl (1982.2 MB)\n",
            "\u001b[K     |█████████████▌                  | 834.1 MB 1.5 MB/s eta 0:12:25tcmalloc: large alloc 1147494400 bytes == 0x560069fc6000 @  0x7fab8fd2f615 0x560030ea702c 0x560030f8717a 0x560030ea9e4d 0x560030f9bc0d 0x560030f1e0d8 0x560030f18c35 0x560030eab73a 0x560030f1df40 0x560030f18c35 0x560030eab73a 0x560030f1a93b 0x560030f9ca56 0x560030f19fb3 0x560030f9ca56 0x560030f19fb3 0x560030f9ca56 0x560030f19fb3 0x560030eabb99 0x560030eeee79 0x560030eaa7b2 0x560030f1de65 0x560030f18c35 0x560030eab73a 0x560030f1a93b 0x560030f18c35 0x560030eab73a 0x560030f19b0e 0x560030eab65a 0x560030f19d67 0x560030f18c35\n",
            "\u001b[K     |█████████████████               | 1055.7 MB 1.7 MB/s eta 0:09:16tcmalloc: large alloc 1434370048 bytes == 0x5600ae61c000 @  0x7fab8fd2f615 0x560030ea702c 0x560030f8717a 0x560030ea9e4d 0x560030f9bc0d 0x560030f1e0d8 0x560030f18c35 0x560030eab73a 0x560030f1df40 0x560030f18c35 0x560030eab73a 0x560030f1a93b 0x560030f9ca56 0x560030f19fb3 0x560030f9ca56 0x560030f19fb3 0x560030f9ca56 0x560030f19fb3 0x560030eabb99 0x560030eeee79 0x560030eaa7b2 0x560030f1de65 0x560030f18c35 0x560030eab73a 0x560030f1a93b 0x560030f18c35 0x560030eab73a 0x560030f19b0e 0x560030eab65a 0x560030f19d67 0x560030f18c35\n",
            "\u001b[K     |█████████████████████▋          | 1336.2 MB 1.4 MB/s eta 0:07:32tcmalloc: large alloc 1792966656 bytes == 0x56003344e000 @  0x7fab8fd2f615 0x560030ea702c 0x560030f8717a 0x560030ea9e4d 0x560030f9bc0d 0x560030f1e0d8 0x560030f18c35 0x560030eab73a 0x560030f1df40 0x560030f18c35 0x560030eab73a 0x560030f1a93b 0x560030f9ca56 0x560030f19fb3 0x560030f9ca56 0x560030f19fb3 0x560030f9ca56 0x560030f19fb3 0x560030eabb99 0x560030eeee79 0x560030eaa7b2 0x560030f1de65 0x560030f18c35 0x560030eab73a 0x560030f1a93b 0x560030f18c35 0x560030eab73a 0x560030f19b0e 0x560030eab65a 0x560030f19d67 0x560030f18c35\n",
            "\u001b[K     |███████████████████████████▎    | 1691.1 MB 1.2 MB/s eta 0:03:59tcmalloc: large alloc 2241208320 bytes == 0x56009e236000 @  0x7fab8fd2f615 0x560030ea702c 0x560030f8717a 0x560030ea9e4d 0x560030f9bc0d 0x560030f1e0d8 0x560030f18c35 0x560030eab73a 0x560030f1df40 0x560030f18c35 0x560030eab73a 0x560030f1a93b 0x560030f9ca56 0x560030f19fb3 0x560030f9ca56 0x560030f19fb3 0x560030f9ca56 0x560030f19fb3 0x560030eabb99 0x560030eeee79 0x560030eaa7b2 0x560030f1de65 0x560030f18c35 0x560030eab73a 0x560030f1a93b 0x560030f18c35 0x560030eab73a 0x560030f19b0e 0x560030eab65a 0x560030f19d67 0x560030f18c35\n",
            "\u001b[K     |████████████████████████████████| 1982.2 MB 1.4 MB/s eta 0:00:01tcmalloc: large alloc 1982177280 bytes == 0x560123b98000 @  0x7fab8fd2e1e7 0x560030edcae7 0x560030ea702c 0x560030f8717a 0x560030ea9e4d 0x560030f9bc0d 0x560030f1e0d8 0x560030f18c35 0x560030eab73a 0x560030f19d67 0x560030f18c35 0x560030eab73a 0x560030f19d67 0x560030f18c35 0x560030eab73a 0x560030f19d67 0x560030f18c35 0x560030eab73a 0x560030f19d67 0x560030f18c35 0x560030eab73a 0x560030f19d67 0x560030eab65a 0x560030f19d67 0x560030f18c35 0x560030eab73a 0x560030f1a93b 0x560030f18c35 0x560030eab73a 0x560030f1a93b 0x560030f18c35\n",
            "tcmalloc: large alloc 2477727744 bytes == 0x56020e276000 @  0x7fab8fd2f615 0x560030ea702c 0x560030f8717a 0x560030ea9e4d 0x560030f9bc0d 0x560030f1e0d8 0x560030f18c35 0x560030eab73a 0x560030f19d67 0x560030f18c35 0x560030eab73a 0x560030f19d67 0x560030f18c35 0x560030eab73a 0x560030f19d67 0x560030f18c35 0x560030eab73a 0x560030f19d67 0x560030f18c35 0x560030eab73a 0x560030f19d67 0x560030eab65a 0x560030f19d67 0x560030f18c35 0x560030eab73a 0x560030f1a93b 0x560030f18c35 0x560030eab73a 0x560030f1a93b 0x560030f18c35 0x560030eabdd1\n",
            "\u001b[K     |████████████████████████████████| 1982.2 MB 1.2 kB/s \n",
            "\u001b[?25hCollecting torchvision==0.9.1+cu111\n",
            "  Downloading https://download.pytorch.org/whl/lts/1.8/cu111/torchvision-0.9.1%2Bcu111-cp37-cp37m-linux_x86_64.whl (17.6 MB)\n",
            "\u001b[K     |████████████████████████████████| 17.6 MB 47 kB/s \n",
            "\u001b[?25hCollecting torchaudio===0.8.1\n",
            "  Downloading torchaudio-0.8.1-cp37-cp37m-manylinux1_x86_64.whl (1.9 MB)\n",
            "\u001b[K     |████████████████████████████████| 1.9 MB 11.8 MB/s \n",
            "\u001b[?25hRequirement already satisfied: numpy in /usr/local/lib/python3.7/dist-packages (from torch==1.8.1+cu111) (1.19.5)\n",
            "Requirement already satisfied: typing-extensions in /usr/local/lib/python3.7/dist-packages (from torch==1.8.1+cu111) (3.7.4.3)\n",
            "Requirement already satisfied: pillow>=4.1.1 in /usr/local/lib/python3.7/dist-packages (from torchvision==0.9.1+cu111) (7.1.2)\n",
            "Installing collected packages: torch, torchvision, torchaudio\n",
            "  Attempting uninstall: torch\n",
            "    Found existing installation: torch 1.9.0+cu102\n",
            "    Uninstalling torch-1.9.0+cu102:\n",
            "      Successfully uninstalled torch-1.9.0+cu102\n",
            "  Attempting uninstall: torchvision\n",
            "    Found existing installation: torchvision 0.10.0+cu102\n",
            "    Uninstalling torchvision-0.10.0+cu102:\n",
            "      Successfully uninstalled torchvision-0.10.0+cu102\n",
            "\u001b[31mERROR: pip's dependency resolver does not currently take into account all the packages that are installed. This behaviour is the source of the following dependency conflicts.\n",
            "torchtext 0.10.0 requires torch==1.9.0, but you have torch 1.8.1+cu111 which is incompatible.\u001b[0m\n",
            "Successfully installed torch-1.8.1+cu111 torchaudio-0.8.1 torchvision-0.9.1+cu111\n"
          ],
          "name": "stdout"
        }
      ]
    },
    {
      "cell_type": "code",
      "metadata": {
        "colab": {
          "base_uri": "https://localhost:8080/"
        },
        "id": "SIiXwxGVnFq1",
        "outputId": "6b276c4a-50ad-459c-b156-25bccd9b610d"
      },
      "source": [
        "!pip install transformers ipywidgets gradio --upgrade"
      ],
      "execution_count": 2,
      "outputs": [
        {
          "output_type": "stream",
          "text": [
            "Collecting transformers\n",
            "  Downloading transformers-4.9.1-py3-none-any.whl (2.6 MB)\n",
            "\u001b[K     |████████████████████████████████| 2.6 MB 13.3 MB/s \n",
            "\u001b[?25hRequirement already satisfied: ipywidgets in /usr/local/lib/python3.7/dist-packages (7.6.3)\n",
            "Collecting gradio\n",
            "  Downloading gradio-2.2.3-py3-none-any.whl (2.4 MB)\n",
            "\u001b[K     |████████████████████████████████| 2.4 MB 43.9 MB/s \n",
            "\u001b[?25hCollecting sacremoses\n",
            "  Downloading sacremoses-0.0.45-py3-none-any.whl (895 kB)\n",
            "\u001b[K     |████████████████████████████████| 895 kB 48.1 MB/s \n",
            "\u001b[?25hCollecting pyyaml>=5.1\n",
            "  Downloading PyYAML-5.4.1-cp37-cp37m-manylinux1_x86_64.whl (636 kB)\n",
            "\u001b[K     |████████████████████████████████| 636 kB 40.0 MB/s \n",
            "\u001b[?25hRequirement already satisfied: regex!=2019.12.17 in /usr/local/lib/python3.7/dist-packages (from transformers) (2019.12.20)\n",
            "Requirement already satisfied: packaging in /usr/local/lib/python3.7/dist-packages (from transformers) (21.0)\n",
            "Requirement already satisfied: requests in /usr/local/lib/python3.7/dist-packages (from transformers) (2.23.0)\n",
            "Requirement already satisfied: filelock in /usr/local/lib/python3.7/dist-packages (from transformers) (3.0.12)\n",
            "Requirement already satisfied: importlib-metadata in /usr/local/lib/python3.7/dist-packages (from transformers) (4.6.1)\n",
            "Requirement already satisfied: tqdm>=4.27 in /usr/local/lib/python3.7/dist-packages (from transformers) (4.41.1)\n",
            "Collecting tokenizers<0.11,>=0.10.1\n",
            "  Downloading tokenizers-0.10.3-cp37-cp37m-manylinux_2_5_x86_64.manylinux1_x86_64.manylinux_2_12_x86_64.manylinux2010_x86_64.whl (3.3 MB)\n",
            "\u001b[K     |████████████████████████████████| 3.3 MB 42.2 MB/s \n",
            "\u001b[?25hRequirement already satisfied: numpy>=1.17 in /usr/local/lib/python3.7/dist-packages (from transformers) (1.19.5)\n",
            "Collecting huggingface-hub==0.0.12\n",
            "  Downloading huggingface_hub-0.0.12-py3-none-any.whl (37 kB)\n",
            "Requirement already satisfied: typing-extensions in /usr/local/lib/python3.7/dist-packages (from huggingface-hub==0.0.12->transformers) (3.7.4.3)\n",
            "Requirement already satisfied: pyparsing>=2.0.2 in /usr/local/lib/python3.7/dist-packages (from packaging->transformers) (2.4.7)\n",
            "Requirement already satisfied: ipython>=4.0.0 in /usr/local/lib/python3.7/dist-packages (from ipywidgets) (5.5.0)\n",
            "Requirement already satisfied: ipykernel>=4.5.1 in /usr/local/lib/python3.7/dist-packages (from ipywidgets) (4.10.1)\n",
            "Requirement already satisfied: jupyterlab-widgets>=1.0.0 in /usr/local/lib/python3.7/dist-packages (from ipywidgets) (1.0.0)\n",
            "Requirement already satisfied: widgetsnbextension~=3.5.0 in /usr/local/lib/python3.7/dist-packages (from ipywidgets) (3.5.1)\n",
            "Requirement already satisfied: traitlets>=4.3.1 in /usr/local/lib/python3.7/dist-packages (from ipywidgets) (5.0.5)\n",
            "Requirement already satisfied: nbformat>=4.2.0 in /usr/local/lib/python3.7/dist-packages (from ipywidgets) (5.1.3)\n",
            "Requirement already satisfied: tornado>=4.0 in /usr/local/lib/python3.7/dist-packages (from ipykernel>=4.5.1->ipywidgets) (5.1.1)\n",
            "Requirement already satisfied: jupyter-client in /usr/local/lib/python3.7/dist-packages (from ipykernel>=4.5.1->ipywidgets) (5.3.5)\n",
            "Requirement already satisfied: pickleshare in /usr/local/lib/python3.7/dist-packages (from ipython>=4.0.0->ipywidgets) (0.7.5)\n",
            "Requirement already satisfied: pexpect in /usr/local/lib/python3.7/dist-packages (from ipython>=4.0.0->ipywidgets) (4.8.0)\n",
            "Requirement already satisfied: decorator in /usr/local/lib/python3.7/dist-packages (from ipython>=4.0.0->ipywidgets) (4.4.2)\n",
            "Requirement already satisfied: pygments in /usr/local/lib/python3.7/dist-packages (from ipython>=4.0.0->ipywidgets) (2.6.1)\n",
            "Requirement already satisfied: simplegeneric>0.8 in /usr/local/lib/python3.7/dist-packages (from ipython>=4.0.0->ipywidgets) (0.8.1)\n",
            "Requirement already satisfied: setuptools>=18.5 in /usr/local/lib/python3.7/dist-packages (from ipython>=4.0.0->ipywidgets) (57.2.0)\n",
            "Requirement already satisfied: prompt-toolkit<2.0.0,>=1.0.4 in /usr/local/lib/python3.7/dist-packages (from ipython>=4.0.0->ipywidgets) (1.0.18)\n",
            "Requirement already satisfied: jupyter-core in /usr/local/lib/python3.7/dist-packages (from nbformat>=4.2.0->ipywidgets) (4.7.1)\n",
            "Requirement already satisfied: ipython-genutils in /usr/local/lib/python3.7/dist-packages (from nbformat>=4.2.0->ipywidgets) (0.2.0)\n",
            "Requirement already satisfied: jsonschema!=2.5.0,>=2.4 in /usr/local/lib/python3.7/dist-packages (from nbformat>=4.2.0->ipywidgets) (2.6.0)\n",
            "Requirement already satisfied: wcwidth in /usr/local/lib/python3.7/dist-packages (from prompt-toolkit<2.0.0,>=1.0.4->ipython>=4.0.0->ipywidgets) (0.2.5)\n",
            "Requirement already satisfied: six>=1.9.0 in /usr/local/lib/python3.7/dist-packages (from prompt-toolkit<2.0.0,>=1.0.4->ipython>=4.0.0->ipywidgets) (1.15.0)\n",
            "Requirement already satisfied: notebook>=4.4.1 in /usr/local/lib/python3.7/dist-packages (from widgetsnbextension~=3.5.0->ipywidgets) (5.3.1)\n",
            "Requirement already satisfied: jinja2 in /usr/local/lib/python3.7/dist-packages (from notebook>=4.4.1->widgetsnbextension~=3.5.0->ipywidgets) (2.11.3)\n",
            "Requirement already satisfied: Send2Trash in /usr/local/lib/python3.7/dist-packages (from notebook>=4.4.1->widgetsnbextension~=3.5.0->ipywidgets) (1.7.1)\n",
            "Requirement already satisfied: nbconvert in /usr/local/lib/python3.7/dist-packages (from notebook>=4.4.1->widgetsnbextension~=3.5.0->ipywidgets) (5.6.1)\n",
            "Requirement already satisfied: terminado>=0.8.1 in /usr/local/lib/python3.7/dist-packages (from notebook>=4.4.1->widgetsnbextension~=3.5.0->ipywidgets) (0.10.1)\n",
            "Requirement already satisfied: python-dateutil>=2.1 in /usr/local/lib/python3.7/dist-packages (from jupyter-client->ipykernel>=4.5.1->ipywidgets) (2.8.1)\n",
            "Requirement already satisfied: pyzmq>=13 in /usr/local/lib/python3.7/dist-packages (from jupyter-client->ipykernel>=4.5.1->ipywidgets) (22.1.0)\n",
            "Requirement already satisfied: ptyprocess in /usr/local/lib/python3.7/dist-packages (from terminado>=0.8.1->notebook>=4.4.1->widgetsnbextension~=3.5.0->ipywidgets) (0.7.0)\n",
            "Collecting Flask-Cors>=3.0.8\n",
            "  Downloading Flask_Cors-3.0.10-py2.py3-none-any.whl (14 kB)\n",
            "Collecting analytics-python\n",
            "  Downloading analytics_python-1.4.0-py2.py3-none-any.whl (15 kB)\n",
            "Collecting pycryptodome\n",
            "  Downloading pycryptodome-3.10.1-cp35-abi3-manylinux2010_x86_64.whl (1.9 MB)\n",
            "\u001b[K     |████████████████████████████████| 1.9 MB 42.3 MB/s \n",
            "\u001b[?25hRequirement already satisfied: Flask>=1.1.1 in /usr/local/lib/python3.7/dist-packages (from gradio) (1.1.4)\n",
            "Collecting markdown2\n",
            "  Downloading markdown2-2.4.0-py2.py3-none-any.whl (34 kB)\n",
            "Requirement already satisfied: pillow in /usr/local/lib/python3.7/dist-packages (from gradio) (7.1.2)\n",
            "Requirement already satisfied: matplotlib in /usr/local/lib/python3.7/dist-packages (from gradio) (3.2.2)\n",
            "Collecting ffmpy\n",
            "  Downloading ffmpy-0.3.0.tar.gz (4.8 kB)\n",
            "Requirement already satisfied: scipy in /usr/local/lib/python3.7/dist-packages (from gradio) (1.4.1)\n",
            "Collecting flask-cachebuster\n",
            "  Downloading Flask-CacheBuster-1.0.0.tar.gz (3.1 kB)\n",
            "Requirement already satisfied: pandas in /usr/local/lib/python3.7/dist-packages (from gradio) (1.1.5)\n",
            "Collecting paramiko\n",
            "  Downloading paramiko-2.7.2-py2.py3-none-any.whl (206 kB)\n",
            "\u001b[K     |████████████████████████████████| 206 kB 50.3 MB/s \n",
            "\u001b[?25hCollecting Flask-Login\n",
            "  Downloading Flask_Login-0.5.0-py2.py3-none-any.whl (16 kB)\n",
            "Requirement already satisfied: click<8.0,>=5.1 in /usr/local/lib/python3.7/dist-packages (from Flask>=1.1.1->gradio) (7.1.2)\n",
            "Requirement already satisfied: Werkzeug<2.0,>=0.15 in /usr/local/lib/python3.7/dist-packages (from Flask>=1.1.1->gradio) (1.0.1)\n",
            "Requirement already satisfied: itsdangerous<2.0,>=0.24 in /usr/local/lib/python3.7/dist-packages (from Flask>=1.1.1->gradio) (1.1.0)\n",
            "Requirement already satisfied: MarkupSafe>=0.23 in /usr/local/lib/python3.7/dist-packages (from jinja2->notebook>=4.4.1->widgetsnbextension~=3.5.0->ipywidgets) (2.0.1)\n",
            "Collecting backoff==1.10.0\n",
            "  Downloading backoff-1.10.0-py2.py3-none-any.whl (31 kB)\n",
            "Collecting monotonic>=1.5\n",
            "  Downloading monotonic-1.6-py2.py3-none-any.whl (8.2 kB)\n",
            "Requirement already satisfied: certifi>=2017.4.17 in /usr/local/lib/python3.7/dist-packages (from requests->transformers) (2021.5.30)\n",
            "Requirement already satisfied: chardet<4,>=3.0.2 in /usr/local/lib/python3.7/dist-packages (from requests->transformers) (3.0.4)\n",
            "Requirement already satisfied: urllib3!=1.25.0,!=1.25.1,<1.26,>=1.21.1 in /usr/local/lib/python3.7/dist-packages (from requests->transformers) (1.24.3)\n",
            "Requirement already satisfied: idna<3,>=2.5 in /usr/local/lib/python3.7/dist-packages (from requests->transformers) (2.10)\n",
            "Requirement already satisfied: zipp>=0.5 in /usr/local/lib/python3.7/dist-packages (from importlib-metadata->transformers) (3.5.0)\n",
            "Requirement already satisfied: cycler>=0.10 in /usr/local/lib/python3.7/dist-packages (from matplotlib->gradio) (0.10.0)\n",
            "Requirement already satisfied: kiwisolver>=1.0.1 in /usr/local/lib/python3.7/dist-packages (from matplotlib->gradio) (1.3.1)\n",
            "Requirement already satisfied: testpath in /usr/local/lib/python3.7/dist-packages (from nbconvert->notebook>=4.4.1->widgetsnbextension~=3.5.0->ipywidgets) (0.5.0)\n",
            "Requirement already satisfied: bleach in /usr/local/lib/python3.7/dist-packages (from nbconvert->notebook>=4.4.1->widgetsnbextension~=3.5.0->ipywidgets) (3.3.0)\n",
            "Requirement already satisfied: mistune<2,>=0.8.1 in /usr/local/lib/python3.7/dist-packages (from nbconvert->notebook>=4.4.1->widgetsnbextension~=3.5.0->ipywidgets) (0.8.4)\n",
            "Requirement already satisfied: entrypoints>=0.2.2 in /usr/local/lib/python3.7/dist-packages (from nbconvert->notebook>=4.4.1->widgetsnbextension~=3.5.0->ipywidgets) (0.3)\n",
            "Requirement already satisfied: pandocfilters>=1.4.1 in /usr/local/lib/python3.7/dist-packages (from nbconvert->notebook>=4.4.1->widgetsnbextension~=3.5.0->ipywidgets) (1.4.3)\n",
            "Requirement already satisfied: defusedxml in /usr/local/lib/python3.7/dist-packages (from nbconvert->notebook>=4.4.1->widgetsnbextension~=3.5.0->ipywidgets) (0.7.1)\n",
            "Requirement already satisfied: webencodings in /usr/local/lib/python3.7/dist-packages (from bleach->nbconvert->notebook>=4.4.1->widgetsnbextension~=3.5.0->ipywidgets) (0.5.1)\n",
            "Requirement already satisfied: pytz>=2017.2 in /usr/local/lib/python3.7/dist-packages (from pandas->gradio) (2018.9)\n",
            "Collecting cryptography>=2.5\n",
            "  Downloading cryptography-3.4.7-cp36-abi3-manylinux2014_x86_64.whl (3.2 MB)\n",
            "\u001b[K     |████████████████████████████████| 3.2 MB 36.4 MB/s \n",
            "\u001b[?25hCollecting pynacl>=1.0.1\n",
            "  Downloading PyNaCl-1.4.0-cp35-abi3-manylinux1_x86_64.whl (961 kB)\n",
            "\u001b[K     |████████████████████████████████| 961 kB 36.4 MB/s \n",
            "\u001b[?25hCollecting bcrypt>=3.1.3\n",
            "  Downloading bcrypt-3.2.0-cp36-abi3-manylinux2010_x86_64.whl (63 kB)\n",
            "\u001b[K     |████████████████████████████████| 63 kB 2.5 MB/s \n",
            "\u001b[?25hRequirement already satisfied: cffi>=1.1 in /usr/local/lib/python3.7/dist-packages (from bcrypt>=3.1.3->paramiko->gradio) (1.14.6)\n",
            "Requirement already satisfied: pycparser in /usr/local/lib/python3.7/dist-packages (from cffi>=1.1->bcrypt>=3.1.3->paramiko->gradio) (2.20)\n",
            "Requirement already satisfied: joblib in /usr/local/lib/python3.7/dist-packages (from sacremoses->transformers) (1.0.1)\n",
            "Building wheels for collected packages: ffmpy, flask-cachebuster\n",
            "  Building wheel for ffmpy (setup.py) ... \u001b[?25l\u001b[?25hdone\n",
            "  Created wheel for ffmpy: filename=ffmpy-0.3.0-py3-none-any.whl size=4709 sha256=27ebcc363d29aa4a26023e975efb18cd465f0ba919b0b5e3664d53109940f4cf\n",
            "  Stored in directory: /root/.cache/pip/wheels/13/e4/6c/e8059816e86796a597c6e6b0d4c880630f51a1fcfa0befd5e6\n",
            "  Building wheel for flask-cachebuster (setup.py) ... \u001b[?25l\u001b[?25hdone\n",
            "  Created wheel for flask-cachebuster: filename=Flask_CacheBuster-1.0.0-py3-none-any.whl size=3372 sha256=466685f35890fc46a2f04fba37be3b0907adbbc44f6259fcda7456a4fe250a77\n",
            "  Stored in directory: /root/.cache/pip/wheels/28/c0/c4/44687421dab41455be93112bd1b0dee1f3c5a9aa27bee63708\n",
            "Successfully built ffmpy flask-cachebuster\n",
            "Installing collected packages: pynacl, monotonic, cryptography, bcrypt, backoff, tokenizers, sacremoses, pyyaml, pycryptodome, paramiko, markdown2, huggingface-hub, Flask-Login, Flask-Cors, flask-cachebuster, ffmpy, analytics-python, transformers, gradio\n",
            "  Attempting uninstall: pyyaml\n",
            "    Found existing installation: PyYAML 3.13\n",
            "    Uninstalling PyYAML-3.13:\n",
            "      Successfully uninstalled PyYAML-3.13\n",
            "Successfully installed Flask-Cors-3.0.10 Flask-Login-0.5.0 analytics-python-1.4.0 backoff-1.10.0 bcrypt-3.2.0 cryptography-3.4.7 ffmpy-0.3.0 flask-cachebuster-1.0.0 gradio-2.2.3 huggingface-hub-0.0.12 markdown2-2.4.0 monotonic-1.6 paramiko-2.7.2 pycryptodome-3.10.1 pynacl-1.4.0 pyyaml-5.4.1 sacremoses-0.0.45 tokenizers-0.10.3 transformers-4.9.1\n"
          ],
          "name": "stdout"
        }
      ]
    },
    {
      "cell_type": "markdown",
      "metadata": {
        "id": "K87TYSZY4Zpg"
      },
      "source": [
        " ### ***Load up Pipeline***"
      ]
    },
    {
      "cell_type": "code",
      "metadata": {
        "id": "thpro-ngoCag"
      },
      "source": [
        "import gradio as gf                     # UI library\n",
        "from transformers import pipeline       # Transformers pipeline"
      ],
      "execution_count": 3,
      "outputs": []
    },
    {
      "cell_type": "code",
      "metadata": {
        "id": "cGV9C2nAsIGi",
        "colab": {
          "base_uri": "https://localhost:8080/",
          "height": 213,
          "referenced_widgets": [
            "b0e8104bf3ee4d8c9f560b633a8fcc60",
            "f3370ae6a41e4f19895dcecdd16fe860",
            "b3d16724686e4e06800fe34efb52b15f",
            "3cd605933c7c460f86b4a0f213d579c5",
            "c1e29eb65de44376866ea77c444fd293",
            "58fbc25ee1fc418cac5172d7a1e91585",
            "73aace4eb08d45af8ad249ed469988a1",
            "dee27d12336d4ede9bebb97d92a11922",
            "134cb3ef7ffe49af8f62495432f16d5e",
            "5802215792a348379e51da8869a05a55",
            "00592b6e7b434a95b885953a159bc3b1",
            "320289fa626341f49467cf07a5d6e506",
            "cc2fa09ec1414593b1a189336fa496e0",
            "1872ab8de17149b383978fb5eae1df3f",
            "3bb83ec815fe456784269912ac124291",
            "ab8682e7d4554badaea24210121df6c6",
            "13444f5ec58d4ad7b221634ee8d10650",
            "0228309f91b8456e9d2ed58051fe0951",
            "edc6bd3aecfc44a3af1d256c829d5f1b",
            "6e94cf2db5064d8584b51192a78cd0c7",
            "87f9db9b93a146879975276b9bba3eae",
            "25462397a9c345d295b7c7abbba65995",
            "82467769f8f94a1d822b36712ea3fe96",
            "8aa849ea2dbc498099f5f691b2d2c0ec",
            "e83e0d79288b4bafa2a165db0c0cca88",
            "78d8ff6aa39443c09a2d2edaa008eff9",
            "4b8976f819a74c728b692e287f01fb54",
            "1fa4470e760745118fa3513f0d486e7e",
            "8701fa2231ee4eaf86d9309ff273392b",
            "6851843df43c440c9172aa709299f982",
            "279224f19a11469dad55c789cf1c2a9c",
            "d15dfd3ccde2466a9852caa3345ead4e"
          ]
        },
        "outputId": "df59460b-02fd-4286-bcdd-a965c30f3d3b"
      },
      "source": [
        "translation_pipeline = pipeline('translation_en_to_de')"
      ],
      "execution_count": 4,
      "outputs": [
        {
          "output_type": "display_data",
          "data": {
            "application/vnd.jupyter.widget-view+json": {
              "model_id": "b0e8104bf3ee4d8c9f560b633a8fcc60",
              "version_minor": 0,
              "version_major": 2
            },
            "text/plain": [
              "HBox(children=(FloatProgress(value=0.0, description='Downloading', max=1199.0, style=ProgressStyle(description…"
            ]
          },
          "metadata": {
            "tags": []
          }
        },
        {
          "output_type": "stream",
          "text": [
            "\n"
          ],
          "name": "stdout"
        },
        {
          "output_type": "display_data",
          "data": {
            "application/vnd.jupyter.widget-view+json": {
              "model_id": "134cb3ef7ffe49af8f62495432f16d5e",
              "version_minor": 0,
              "version_major": 2
            },
            "text/plain": [
              "HBox(children=(FloatProgress(value=0.0, description='Downloading', max=891691430.0, style=ProgressStyle(descri…"
            ]
          },
          "metadata": {
            "tags": []
          }
        },
        {
          "output_type": "stream",
          "text": [
            "\n"
          ],
          "name": "stdout"
        },
        {
          "output_type": "display_data",
          "data": {
            "application/vnd.jupyter.widget-view+json": {
              "model_id": "13444f5ec58d4ad7b221634ee8d10650",
              "version_minor": 0,
              "version_major": 2
            },
            "text/plain": [
              "HBox(children=(FloatProgress(value=0.0, description='Downloading', max=791656.0, style=ProgressStyle(descripti…"
            ]
          },
          "metadata": {
            "tags": []
          }
        },
        {
          "output_type": "stream",
          "text": [
            "\n"
          ],
          "name": "stdout"
        },
        {
          "output_type": "display_data",
          "data": {
            "application/vnd.jupyter.widget-view+json": {
              "model_id": "e83e0d79288b4bafa2a165db0c0cca88",
              "version_minor": 0,
              "version_major": 2
            },
            "text/plain": [
              "HBox(children=(FloatProgress(value=0.0, description='Downloading', max=1389353.0, style=ProgressStyle(descript…"
            ]
          },
          "metadata": {
            "tags": []
          }
        },
        {
          "output_type": "stream",
          "text": [
            "\n"
          ],
          "name": "stdout"
        }
      ]
    },
    {
      "cell_type": "code",
      "metadata": {
        "colab": {
          "base_uri": "https://localhost:8080/"
        },
        "id": "h5sMKybssHlt",
        "outputId": "09fc29e3-de17-465b-e42b-da7d5cfee592"
      },
      "source": [
        "translation_pipeline('My name is Sakib')"
      ],
      "execution_count": 5,
      "outputs": [
        {
          "output_type": "execute_result",
          "data": {
            "text/plain": [
              "[{'translation_text': 'Mein Name ist Sakib'}]"
            ]
          },
          "metadata": {
            "tags": []
          },
          "execution_count": 5
        }
      ]
    },
    {
      "cell_type": "code",
      "metadata": {
        "id": "GsIvlIMju_0Q"
      },
      "source": [
        "def translate_transformers(from_text):\n",
        "  results = translation_pipeline(from_text)\n",
        "  return results[0]['translation_text']"
      ],
      "execution_count": 6,
      "outputs": []
    },
    {
      "cell_type": "code",
      "metadata": {
        "id": "vebjIBzPv9Va"
      },
      "source": [
        "translate_transformers:('My name is Sakib')"
      ],
      "execution_count": 8,
      "outputs": []
    },
    {
      "cell_type": "code",
      "metadata": {
        "colab": {
          "base_uri": "https://localhost:8080/"
        },
        "id": "wGVCoPskyDOF",
        "outputId": "683dbe42-9458-4ba7-c558-ae8fe058eea8"
      },
      "source": [
        "pip install gradio"
      ],
      "execution_count": 7,
      "outputs": [
        {
          "output_type": "stream",
          "text": [
            "Requirement already satisfied: gradio in /usr/local/lib/python3.7/dist-packages (2.2.3)\n",
            "Requirement already satisfied: flask-cachebuster in /usr/local/lib/python3.7/dist-packages (from gradio) (1.0.0)\n",
            "Requirement already satisfied: analytics-python in /usr/local/lib/python3.7/dist-packages (from gradio) (1.4.0)\n",
            "Requirement already satisfied: scipy in /usr/local/lib/python3.7/dist-packages (from gradio) (1.4.1)\n",
            "Requirement already satisfied: matplotlib in /usr/local/lib/python3.7/dist-packages (from gradio) (3.2.2)\n",
            "Requirement already satisfied: ffmpy in /usr/local/lib/python3.7/dist-packages (from gradio) (0.3.0)\n",
            "Requirement already satisfied: Flask-Cors>=3.0.8 in /usr/local/lib/python3.7/dist-packages (from gradio) (3.0.10)\n",
            "Requirement already satisfied: paramiko in /usr/local/lib/python3.7/dist-packages (from gradio) (2.7.2)\n",
            "Requirement already satisfied: pillow in /usr/local/lib/python3.7/dist-packages (from gradio) (7.1.2)\n",
            "Requirement already satisfied: markdown2 in /usr/local/lib/python3.7/dist-packages (from gradio) (2.4.0)\n",
            "Requirement already satisfied: numpy in /usr/local/lib/python3.7/dist-packages (from gradio) (1.19.5)\n",
            "Requirement already satisfied: requests in /usr/local/lib/python3.7/dist-packages (from gradio) (2.23.0)\n",
            "Requirement already satisfied: Flask>=1.1.1 in /usr/local/lib/python3.7/dist-packages (from gradio) (1.1.4)\n",
            "Requirement already satisfied: Flask-Login in /usr/local/lib/python3.7/dist-packages (from gradio) (0.5.0)\n",
            "Requirement already satisfied: pycryptodome in /usr/local/lib/python3.7/dist-packages (from gradio) (3.10.1)\n",
            "Requirement already satisfied: pandas in /usr/local/lib/python3.7/dist-packages (from gradio) (1.1.5)\n",
            "Requirement already satisfied: click<8.0,>=5.1 in /usr/local/lib/python3.7/dist-packages (from Flask>=1.1.1->gradio) (7.1.2)\n",
            "Requirement already satisfied: Werkzeug<2.0,>=0.15 in /usr/local/lib/python3.7/dist-packages (from Flask>=1.1.1->gradio) (1.0.1)\n",
            "Requirement already satisfied: itsdangerous<2.0,>=0.24 in /usr/local/lib/python3.7/dist-packages (from Flask>=1.1.1->gradio) (1.1.0)\n",
            "Requirement already satisfied: Jinja2<3.0,>=2.10.1 in /usr/local/lib/python3.7/dist-packages (from Flask>=1.1.1->gradio) (2.11.3)\n",
            "Requirement already satisfied: Six in /usr/local/lib/python3.7/dist-packages (from Flask-Cors>=3.0.8->gradio) (1.15.0)\n",
            "Requirement already satisfied: MarkupSafe>=0.23 in /usr/local/lib/python3.7/dist-packages (from Jinja2<3.0,>=2.10.1->Flask>=1.1.1->gradio) (2.0.1)\n",
            "Requirement already satisfied: python-dateutil>2.1 in /usr/local/lib/python3.7/dist-packages (from analytics-python->gradio) (2.8.1)\n",
            "Requirement already satisfied: backoff==1.10.0 in /usr/local/lib/python3.7/dist-packages (from analytics-python->gradio) (1.10.0)\n",
            "Requirement already satisfied: monotonic>=1.5 in /usr/local/lib/python3.7/dist-packages (from analytics-python->gradio) (1.6)\n",
            "Requirement already satisfied: urllib3!=1.25.0,!=1.25.1,<1.26,>=1.21.1 in /usr/local/lib/python3.7/dist-packages (from requests->gradio) (1.24.3)\n",
            "Requirement already satisfied: idna<3,>=2.5 in /usr/local/lib/python3.7/dist-packages (from requests->gradio) (2.10)\n",
            "Requirement already satisfied: chardet<4,>=3.0.2 in /usr/local/lib/python3.7/dist-packages (from requests->gradio) (3.0.4)\n",
            "Requirement already satisfied: certifi>=2017.4.17 in /usr/local/lib/python3.7/dist-packages (from requests->gradio) (2021.5.30)\n",
            "Requirement already satisfied: pyparsing!=2.0.4,!=2.1.2,!=2.1.6,>=2.0.1 in /usr/local/lib/python3.7/dist-packages (from matplotlib->gradio) (2.4.7)\n",
            "Requirement already satisfied: cycler>=0.10 in /usr/local/lib/python3.7/dist-packages (from matplotlib->gradio) (0.10.0)\n",
            "Requirement already satisfied: kiwisolver>=1.0.1 in /usr/local/lib/python3.7/dist-packages (from matplotlib->gradio) (1.3.1)\n",
            "Requirement already satisfied: pytz>=2017.2 in /usr/local/lib/python3.7/dist-packages (from pandas->gradio) (2018.9)\n",
            "Requirement already satisfied: bcrypt>=3.1.3 in /usr/local/lib/python3.7/dist-packages (from paramiko->gradio) (3.2.0)\n",
            "Requirement already satisfied: cryptography>=2.5 in /usr/local/lib/python3.7/dist-packages (from paramiko->gradio) (3.4.7)\n",
            "Requirement already satisfied: pynacl>=1.0.1 in /usr/local/lib/python3.7/dist-packages (from paramiko->gradio) (1.4.0)\n",
            "Requirement already satisfied: cffi>=1.1 in /usr/local/lib/python3.7/dist-packages (from bcrypt>=3.1.3->paramiko->gradio) (1.14.6)\n",
            "Requirement already satisfied: pycparser in /usr/local/lib/python3.7/dist-packages (from cffi>=1.1->bcrypt>=3.1.3->paramiko->gradio) (2.20)\n"
          ],
          "name": "stdout"
        }
      ]
    },
    {
      "cell_type": "markdown",
      "metadata": {
        "id": "OBneUrQQ4neI"
      },
      "source": [
        " ###  ***Create Gradio Function and Interface***"
      ]
    },
    {
      "cell_type": "code",
      "metadata": {
        "colab": {
          "base_uri": "https://localhost:8080/",
          "height": 640
        },
        "id": "mdtnGmRB06SX",
        "outputId": "b5e5d489-8f3f-4b68-ab91-0354167619a4"
      },
      "source": [
        "import gradio as gr\n",
        "\n",
        "def greet(name):\n",
        "  return \"Hello \" + name + \"!!\"\n",
        "\n",
        "iface = gr.Interface(fn=greet, inputs=\"text\", outputs=\"text\")\n",
        "iface.launch()"
      ],
      "execution_count": 9,
      "outputs": [
        {
          "output_type": "stream",
          "text": [
            "Colab notebook detected. To show errors in colab notebook, set `debug=True` in `launch()`\n",
            "This share link will expire in 24 hours. If you need a permanent link, visit: https://gradio.app/introducing-hosted (NEW!)\n",
            "Running on External URL: https://15616.gradio.app\n",
            "Interface loading below...\n"
          ],
          "name": "stdout"
        },
        {
          "output_type": "display_data",
          "data": {
            "text/html": [
              "\n",
              "        <iframe\n",
              "            width=\"900\"\n",
              "            height=\"500\"\n",
              "            src=\"https://15616.gradio.app\"\n",
              "            frameborder=\"0\"\n",
              "            allowfullscreen\n",
              "        ></iframe>\n",
              "        "
            ],
            "text/plain": [
              "<IPython.lib.display.IFrame at 0x7f75d3943190>"
            ]
          },
          "metadata": {
            "tags": []
          }
        },
        {
          "output_type": "execute_result",
          "data": {
            "text/plain": [
              "(<Flask 'gradio.networking'>,\n",
              " 'http://127.0.0.1:7860/',\n",
              " 'https://15616.gradio.app')"
            ]
          },
          "metadata": {
            "tags": []
          },
          "execution_count": 9
        }
      ]
    },
    {
      "cell_type": "code",
      "metadata": {
        "id": "iTZGQziEwee7"
      },
      "source": [
        "interface = gr.Interface(fn=translate_transformers, \n",
        "                         inputs=gr.inputs.Textbox(lines=2, placeholder= 'Text to Translate'),\n",
        "                         outputs='text')"
      ],
      "execution_count": 10,
      "outputs": []
    },
    {
      "cell_type": "code",
      "metadata": {
        "colab": {
          "base_uri": "https://localhost:8080/",
          "height": 640
        },
        "id": "o5sIEwev1Q8W",
        "outputId": "6f5a02e0-960c-42c1-cd6d-43e97e5b83a0"
      },
      "source": [
        "interface.launch()"
      ],
      "execution_count": 11,
      "outputs": [
        {
          "output_type": "stream",
          "text": [
            "Colab notebook detected. To show errors in colab notebook, set `debug=True` in `launch()`\n",
            "This share link will expire in 24 hours. If you need a permanent link, visit: https://gradio.app/introducing-hosted (NEW!)\n",
            "Running on External URL: https://23864.gradio.app\n",
            "Interface loading below...\n"
          ],
          "name": "stdout"
        },
        {
          "output_type": "display_data",
          "data": {
            "text/html": [
              "\n",
              "        <iframe\n",
              "            width=\"900\"\n",
              "            height=\"500\"\n",
              "            src=\"https://23864.gradio.app\"\n",
              "            frameborder=\"0\"\n",
              "            allowfullscreen\n",
              "        ></iframe>\n",
              "        "
            ],
            "text/plain": [
              "<IPython.lib.display.IFrame at 0x7f75c955d1d0>"
            ]
          },
          "metadata": {
            "tags": []
          }
        },
        {
          "output_type": "execute_result",
          "data": {
            "text/plain": [
              "(<Flask 'gradio.networking'>,\n",
              " 'http://127.0.0.1:7861/',\n",
              " 'https://23864.gradio.app')"
            ]
          },
          "metadata": {
            "tags": []
          },
          "execution_count": 11
        }
      ]
    }
  ]
}