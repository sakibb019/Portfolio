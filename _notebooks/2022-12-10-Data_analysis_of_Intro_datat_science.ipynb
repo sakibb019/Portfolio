{
  "nbformat": 4,
  "nbformat_minor": 0,
  "metadata": {
    "colab": {
      "provenance": []
    },
    "kernelspec": {
      "name": "python3",
      "display_name": "Python 3"
    },
    "language_info": {
      "name": "python"
    }
  },
  "cells": [
    {
      "cell_type": "markdown",
      "source": [
        "####Multiple genres of entertainment (films, television, novels, comic books) focus on fictional stories based on the exploits of unusual beings known as superheroes (or, sometimes, supervillains). Your task is to write a program to do a preliminary check of two hypotheses:\n",
        "\n",
        "\n",
        "1. Superhero fiction is written for males (presumably, written by adult males for adolescent males, although that supposition is beyond the power of our data to determine). \n",
        "\n",
        "2. In an effort to accentuate the “differentness” of superheroes, authors exaggerate unusual Human characteristics. In this case, we’ll determine whether superheroes have eye colors that differ from the general population.\n",
        "\n"
      ],
      "metadata": {
        "id": "6ddXnkF8WZB8"
      }
    },
    {
      "cell_type": "markdown",
      "source": [
        "#### Import the important libraries"
      ],
      "metadata": {
        "id": "ksEv4gVqU3fz"
      }
    },
    {
      "cell_type": "code",
      "execution_count": 1,
      "metadata": {
        "id": "rJZ2pnZ3T0vR"
      },
      "outputs": [],
      "source": [
        "import pandas as pd\n",
        "import numpy as np\n",
        "import matplotlib.pyplot as plt"
      ]
    },
    {
      "cell_type": "markdown",
      "source": [
        "\n",
        "###Import the data"
      ],
      "metadata": {
        "id": "0Mg0MjJpU9n1"
      }
    },
    {
      "cell_type": "code",
      "source": [
        "hero_info = pd.read_csv (\"hero_info.csv\")"
      ],
      "metadata": {
        "id": "nZMs8WpYUHow"
      },
      "execution_count": 2,
      "outputs": []
    },
    {
      "cell_type": "markdown",
      "source": [
        "#### Determine whether superheroes have eye colors that differ from the general population. Print the number of male and female superheroes eyes."
      ],
      "metadata": {
        "id": "6Qj-aoMzVEVH"
      }
    },
    {
      "cell_type": "code",
      "source": [
        "print(hero_info[\"Eyes\"].value_counts())"
      ],
      "metadata": {
        "colab": {
          "base_uri": "https://localhost:8080/"
        },
        "id": "Uw6qbaQeUOn7",
        "outputId": "bcd225c0-d640-4be5-e288-8d7734b5236f"
      },
      "execution_count": 3,
      "outputs": [
        {
          "output_type": "stream",
          "name": "stdout",
          "text": [
            "Blue                       223\n",
            "-                          173\n",
            "Brown                      124\n",
            "Green                       73\n",
            "Red                         47\n",
            "Black                       24\n",
            "Yellow                      20\n",
            "White                       18\n",
            "blue                         6\n",
            "Hazel                        6\n",
            "Grey                         6\n",
            "Purple                       4\n",
            "Gold                         3\n",
            "Amber                        3\n",
            "brown                        2\n",
            "Yellow (without irises)      2\n",
            "Violet                       2\n",
            "Silver                       1\n",
            "Yellow / Red                 1\n",
            "Bown                         1\n",
            "Blue / White                 1\n",
            "Green / Blue                 1\n",
            "White / Red                  1\n",
            "Indigo                       1\n",
            "Yellow / Blue                1\n",
            "Name: Eyes, dtype: int64\n"
          ]
        }
      ]
    },
    {
      "cell_type": "markdown",
      "source": [
        "####List the number of male, number of female, and number of “eyes“, and their percentages"
      ],
      "metadata": {
        "id": "kIMbXDc_VP5l"
      }
    },
    {
      "cell_type": "code",
      "source": [
        "df = (hero_info[\"Eyes\"]\n",
        ".value_counts(normalize=True)).reset_index(name=\"Percentage\")\n",
        "df.columns = [\"Eyes\", \"Percentage\"] \n",
        "print(df)"
      ],
      "metadata": {
        "colab": {
          "base_uri": "https://localhost:8080/"
        },
        "id": "gVOf4ozpUW7m",
        "outputId": "23d678bb-9fe6-4d2d-e57d-aabeb5475387"
      },
      "execution_count": 4,
      "outputs": [
        {
          "output_type": "stream",
          "name": "stdout",
          "text": [
            "                       Eyes  Percentage\n",
            "0                      Blue    0.299731\n",
            "1                         -    0.232527\n",
            "2                     Brown    0.166667\n",
            "3                     Green    0.098118\n",
            "4                       Red    0.063172\n",
            "5                     Black    0.032258\n",
            "6                    Yellow    0.026882\n",
            "7                     White    0.024194\n",
            "8                      blue    0.008065\n",
            "9                     Hazel    0.008065\n",
            "10                     Grey    0.008065\n",
            "11                   Purple    0.005376\n",
            "12                     Gold    0.004032\n",
            "13                    Amber    0.004032\n",
            "14                    brown    0.002688\n",
            "15  Yellow (without irises)    0.002688\n",
            "16                   Violet    0.002688\n",
            "17                   Silver    0.001344\n",
            "18             Yellow / Red    0.001344\n",
            "19                     Bown    0.001344\n",
            "20             Blue / White    0.001344\n",
            "21             Green / Blue    0.001344\n",
            "22              White / Red    0.001344\n",
            "23                   Indigo    0.001344\n",
            "24            Yellow / Blue    0.001344\n"
          ]
        }
      ]
    },
    {
      "cell_type": "markdown",
      "source": [
        "####Print the number of superheroes with eye color \"blue\""
      ],
      "metadata": {
        "id": "UKrnokM0VWNU"
      }
    },
    {
      "cell_type": "code",
      "source": [
        "print(hero_info[hero_info[\"Eyes\"] == \"Blue\"].shape[0])"
      ],
      "metadata": {
        "colab": {
          "base_uri": "https://localhost:8080/"
        },
        "id": "e6x1BhiCUYug",
        "outputId": "0d46d54a-820d-4a07-961f-2f3babb4797d"
      },
      "execution_count": 5,
      "outputs": [
        {
          "output_type": "stream",
          "name": "stdout",
          "text": [
            "223\n"
          ]
        }
      ]
    },
    {
      "cell_type": "markdown",
      "source": [
        "####Print the number of superheroes with eye color \"blue\" and alignment \"good\""
      ],
      "metadata": {
        "id": "wCgAMYWGVYde"
      }
    },
    {
      "cell_type": "code",
      "source": [
        "df_blue_good = hero_info[\n",
        "(hero_info[\"Eyes\"] == \"Blue\") & (hero_info[\"Alignment\"] == \"good\")].shape[0]\n",
        "print(df_blue_good)"
      ],
      "metadata": {
        "colab": {
          "base_uri": "https://localhost:8080/"
        },
        "id": "Ja1oHrwUUeZV",
        "outputId": "865ec10b-624f-47bb-a2f2-1c54bd941ee6"
      },
      "execution_count": 6,
      "outputs": [
        {
          "output_type": "stream",
          "name": "stdout",
          "text": [
            "166\n"
          ]
        }
      ]
    },
    {
      "cell_type": "markdown",
      "source": [
        "####Print the number of superheroes with eye color \"blue\" and alignment \"bad\""
      ],
      "metadata": {
        "id": "BBxHq0O_VnRq"
      }
    },
    {
      "cell_type": "code",
      "source": [
        "df_blue_bad = hero_info[\n",
        "(hero_info[\"Eyes\"] == \"Blue\") & (hero_info[\"Alignment\"] == \"bad\")].shape[0]\n",
        "print(df_blue_bad)"
      ],
      "metadata": {
        "colab": {
          "base_uri": "https://localhost:8080/"
        },
        "id": "nrvi5-YGUhOH",
        "outputId": "a79e15fc-95b3-41d1-cb4d-abf075bc0427"
      },
      "execution_count": 7,
      "outputs": [
        {
          "output_type": "stream",
          "name": "stdout",
          "text": [
            "49\n"
          ]
        }
      ]
    },
    {
      "cell_type": "markdown",
      "source": [
        "####Print the number of superheroes with eye color \"blue\" and alignment \"neutral\""
      ],
      "metadata": {
        "id": "CGAYUGTCVoqs"
      }
    },
    {
      "cell_type": "code",
      "source": [
        "df_blue_neutral = hero_info[ (hero_info[\"Eyes\"] == \"Blue\") & (hero_info[\"Alignment\"] == \"neutral\")].shape[0]\n",
        "print(df_blue_neutral)"
      ],
      "metadata": {
        "colab": {
          "base_uri": "https://localhost:8080/"
        },
        "id": "GRcvZHL4Ujoa",
        "outputId": "16b2279d-402f-4950-dacc-e61609fc3fcd"
      },
      "execution_count": 8,
      "outputs": [
        {
          "output_type": "stream",
          "name": "stdout",
          "text": [
            "5\n"
          ]
        }
      ]
    },
    {
      "cell_type": "markdown",
      "source": [
        "####Print the number of superheroes with eye color \"blue\" and alignment \"-\""
      ],
      "metadata": {
        "id": "8ZXi_eCFVskq"
      }
    },
    {
      "cell_type": "code",
      "source": [
        "df_blue_dash = hero_info[(hero_info[\"Eyes\"] == \"Blue\") & (hero_info[\"Alignment\"] == \"-\")].shape[0]"
      ],
      "metadata": {
        "id": "qEW1urNwUmYA"
      },
      "execution_count": 9,
      "outputs": []
    },
    {
      "cell_type": "markdown",
      "source": [
        "####Print the number of superheroes with eye color \"black\""
      ],
      "metadata": {
        "id": "quE0SGodVvwC"
      }
    },
    {
      "cell_type": "code",
      "source": [
        "df_black = hero_info[hero_info[\"Eyes\"] == \"Black\"].shape[0]\n",
        "print(df_black)\n",
        "print(df_blue_dash)"
      ],
      "metadata": {
        "colab": {
          "base_uri": "https://localhost:8080/"
        },
        "id": "n164aKWiUo7Z",
        "outputId": "a28d869c-4f60-4487-90e8-1851a12c52f0"
      },
      "execution_count": 10,
      "outputs": [
        {
          "output_type": "stream",
          "name": "stdout",
          "text": [
            "24\n",
            "3\n"
          ]
        }
      ]
    },
    {
      "cell_type": "markdown",
      "source": [
        "####Print the number of male and female superheroes"
      ],
      "metadata": {
        "id": "xeQBAQilVztY"
      }
    },
    {
      "cell_type": "code",
      "source": [
        "print(hero_info[\"Gender\"].value_counts())"
      ],
      "metadata": {
        "colab": {
          "base_uri": "https://localhost:8080/"
        },
        "id": "qp7g2HzjUrTu",
        "outputId": "c325bacb-cba1-42dd-86b7-ba3a1b152ca8"
      },
      "execution_count": 11,
      "outputs": [
        {
          "output_type": "stream",
          "name": "stdout",
          "text": [
            "Male      513\n",
            "Female    203\n",
            "-          28\n",
            "Name: Gender, dtype: int64\n"
          ]
        }
      ]
    },
    {
      "cell_type": "markdown",
      "source": [
        "####List the number of male, number of female, and number of “-“, and their percentages"
      ],
      "metadata": {
        "id": "zRIcxS4cV4Kc"
      }
    },
    {
      "cell_type": "code",
      "source": [
        "df = (hero_info[\"Gender\"]\n",
        ".value_counts(normalize=True)).reset_index(name=\"Percentage\")\n",
        "df[\"Percentage\"] = df[\"Percentage\"].apply(lambda x: str(round(x*100, 2)) + \"%\")\n",
        "print(df)"
      ],
      "metadata": {
        "colab": {
          "base_uri": "https://localhost:8080/"
        },
        "id": "C8ikqJGqUuNn",
        "outputId": "605df177-42a1-444c-9527-604611285147"
      },
      "execution_count": 12,
      "outputs": [
        {
          "output_type": "stream",
          "name": "stdout",
          "text": [
            "    index Percentage\n",
            "0    Male     68.95%\n",
            "1  Female     27.28%\n",
            "2       -      3.76%\n"
          ]
        }
      ]
    },
    {
      "cell_type": "markdown",
      "source": [
        "####count eye color only for superheroes that identify as \"Human\" from the overall human population"
      ],
      "metadata": {
        "id": "KCDgjk2kV6-h"
      }
    },
    {
      "cell_type": "code",
      "source": [
        "df = (hero_info[hero_info[\"Race\"] == \"Human\"][\"Eyes\"]\n",
        ".value_counts(normalize=True)).reset_index(name=\"Percentage\")\n",
        "df[\"Human eyes color\"] = df[\"Percentage\"].apply(lambda x: str(round(x*100, 2)) + \"%\")\n",
        "print(df)"
      ],
      "metadata": {
        "colab": {
          "base_uri": "https://localhost:8080/"
        },
        "id": "e7vZJMatU0h4",
        "outputId": "fc8a62f8-2655-41b9-b19f-c213ccad98ee"
      },
      "execution_count": 13,
      "outputs": [
        {
          "output_type": "stream",
          "name": "stdout",
          "text": [
            "           index  Percentage Human eyes color\n",
            "0           Blue    0.369159           36.92%\n",
            "1          Brown    0.224299           22.43%\n",
            "2              -    0.154206           15.42%\n",
            "3          Green    0.140187           14.02%\n",
            "4           blue    0.018692            1.87%\n",
            "5          Hazel    0.018692            1.87%\n",
            "6         Yellow    0.014019             1.4%\n",
            "7            Red    0.014019             1.4%\n",
            "8          Black    0.009346            0.93%\n",
            "9           Grey    0.009346            0.93%\n",
            "10          Bown    0.004673            0.47%\n",
            "11  Blue / White    0.004673            0.47%\n",
            "12        Purple    0.004673            0.47%\n",
            "13        Indigo    0.004673            0.47%\n",
            "14        Violet    0.004673            0.47%\n",
            "15         Amber    0.004673            0.47%\n"
          ]
        }
      ]
    }
  ]
}