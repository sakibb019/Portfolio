{
  "nbformat": 4,
  "nbformat_minor": 0,
  "metadata": {
    "kernelspec": {
      "language": "python",
      "display_name": "Python 3",
      "name": "python3"
    },
    "language_info": {
      "pygments_lexer": "ipython3",
      "nbconvert_exporter": "python",
      "version": "3.6.4",
      "file_extension": ".py",
      "codemirror_mode": {
        "name": "ipython",
        "version": 3
      },
      "name": "python",
      "mimetype": "text/x-python"
    },
    "colab": {
      "name": "olympic-games-analysis-using-python.ipynb",
      "provenance": []
    }
  },
  "cells": [
    {
      "cell_type": "markdown",
      "metadata": {
        "execution": {
          "iopub.status.busy": "2021-06-10T16:07:31.191641Z",
          "iopub.execute_input": "2021-06-10T16:07:31.192327Z",
          "iopub.status.idle": "2021-06-10T16:07:31.199164Z",
          "shell.execute_reply.started": "2021-06-10T16:07:31.192273Z",
          "shell.execute_reply": "2021-06-10T16:07:31.197607Z"
        },
        "id": "1qE36DWtn6hM"
      },
      "source": [
        "![Alt text](https://cdn1.img.sputniknews.com/img/105872/94/1058729488_0:339:3161:2046_1000x541_80_0_0_071f83c13cdfdf01475883e69b1089f9.jpg \"Covid-19\")\n"
      ]
    },
    {
      "cell_type": "markdown",
      "metadata": {
        "id": "We7EhFpdn6hQ"
      },
      "source": [
        "# Explore a dataset on the modern Olympic Games, including all the Games from Athens 1896 to Rio 2016\n",
        "\n",
        "- comments: true\n",
        "- badges: true\n",
        "- catagories: [Python, Pandas, numpy]\n",
        "- image: images/Olympic.png\n",
        "\n",
        "##### The Olympic Games, which originated in ancient Greece as many as 3,000 years ago, were revived in the late 19th century and have become the world’s preeminent sporting competition. From the 8th century B.C. to the 4th century A.D., the Games were held every four years in Olympia, located in the western Peloponnese peninsula, in honor of the god Zeus. The first modern Olympics took place in 1896 in Athens, and featured 280 participants from 13 nations, competing in 43 events. Since 1994, the Summer and Winter Olympic Games have been held separately and have alternated every two years.\n",
        "\n",
        "##### **In this Project we have to analysis the data of olympic game by using python programing.**\n",
        "\n",
        "##### **Let’s Start with importing the libraries**"
      ]
    },
    {
      "cell_type": "code",
      "metadata": {
        "execution": {
          "iopub.status.busy": "2021-06-11T04:31:50.108911Z",
          "iopub.execute_input": "2021-06-11T04:31:50.109384Z",
          "iopub.status.idle": "2021-06-11T04:31:50.115214Z",
          "shell.execute_reply.started": "2021-06-11T04:31:50.109343Z",
          "shell.execute_reply": "2021-06-11T04:31:50.113826Z"
        },
        "trusted": true,
        "id": "gZlZCYO-n6hR"
      },
      "source": [
        "import numpy as np\n",
        "import pandas as pd\n",
        "import seaborn as sns\n",
        "from matplotlib import pyplot as plt"
      ],
      "execution_count": null,
      "outputs": []
    },
    {
      "cell_type": "markdown",
      "metadata": {
        "id": "0t7BVfKJn6hT"
      },
      "source": [
        "### Collecting information about both the data sets\n",
        "\n",
        "### We are going to:\n",
        "1. Review the first lines of the data;\n",
        "2. Use the describe and info functions to collect statistical information, datatypes, column names and other information"
      ]
    },
    {
      "cell_type": "code",
      "metadata": {
        "execution": {
          "iopub.status.busy": "2021-06-11T04:31:50.120644Z",
          "iopub.execute_input": "2021-06-11T04:31:50.121043Z",
          "iopub.status.idle": "2021-06-11T04:31:51.060671Z",
          "shell.execute_reply.started": "2021-06-11T04:31:50.121008Z",
          "shell.execute_reply": "2021-06-11T04:31:51.059458Z"
        },
        "trusted": true,
        "id": "wbvzYOx0n6hT"
      },
      "source": [
        "data = pd.read_csv('../input/athlete-events/athlete_events.csv')\n",
        "regions = pd.read_csv('../input/athlete-events/noc_regions.csv')"
      ],
      "execution_count": null,
      "outputs": []
    },
    {
      "cell_type": "code",
      "metadata": {
        "execution": {
          "iopub.status.busy": "2021-06-11T04:31:51.062483Z",
          "iopub.execute_input": "2021-06-11T04:31:51.062865Z",
          "iopub.status.idle": "2021-06-11T04:31:51.16534Z",
          "shell.execute_reply.started": "2021-06-11T04:31:51.062827Z",
          "shell.execute_reply": "2021-06-11T04:31:51.164288Z"
        },
        "trusted": true,
        "id": "7qMiKjvrn6hU"
      },
      "source": [
        "data.describe()"
      ],
      "execution_count": null,
      "outputs": []
    },
    {
      "cell_type": "code",
      "metadata": {
        "execution": {
          "iopub.status.busy": "2021-06-11T04:31:51.167186Z",
          "iopub.execute_input": "2021-06-11T04:31:51.167542Z",
          "iopub.status.idle": "2021-06-11T04:31:51.417865Z",
          "shell.execute_reply.started": "2021-06-11T04:31:51.167506Z",
          "shell.execute_reply": "2021-06-11T04:31:51.41659Z"
        },
        "trusted": true,
        "id": "celxbHS6n6hU"
      },
      "source": [
        "data.info()"
      ],
      "execution_count": null,
      "outputs": []
    },
    {
      "cell_type": "code",
      "metadata": {
        "execution": {
          "iopub.status.busy": "2021-06-11T04:31:51.419596Z",
          "iopub.execute_input": "2021-06-11T04:31:51.419912Z",
          "iopub.status.idle": "2021-06-11T04:31:51.436184Z",
          "shell.execute_reply.started": "2021-06-11T04:31:51.419881Z",
          "shell.execute_reply": "2021-06-11T04:31:51.434662Z"
        },
        "trusted": true,
        "id": "np6ydJu8n6hV"
      },
      "source": [
        "regions = pd.read_csv('../input/athlete-events/noc_regions.csv')\n",
        "regions.head()"
      ],
      "execution_count": null,
      "outputs": []
    },
    {
      "cell_type": "markdown",
      "metadata": {
        "id": "zj-UIpDln6hW"
      },
      "source": [
        "## Joining the data frames"
      ]
    },
    {
      "cell_type": "code",
      "metadata": {
        "execution": {
          "iopub.status.busy": "2021-06-11T04:31:51.437872Z",
          "iopub.execute_input": "2021-06-11T04:31:51.438273Z",
          "iopub.status.idle": "2021-06-11T04:31:51.660747Z",
          "shell.execute_reply.started": "2021-06-11T04:31:51.438218Z",
          "shell.execute_reply": "2021-06-11T04:31:51.65943Z"
        },
        "trusted": true,
        "id": "5NhIqyivn6hX"
      },
      "source": [
        "merged = pd.merge(data, regions, on='NOC', how='left')\n",
        "merged.head()"
      ],
      "execution_count": null,
      "outputs": []
    },
    {
      "cell_type": "markdown",
      "metadata": {
        "id": "CanfjCPGn6hX"
      },
      "source": [
        "## Distribution of the age of gold medalists\n",
        "### Let’s start creating a new data frame including only gold medalists."
      ]
    },
    {
      "cell_type": "code",
      "metadata": {
        "execution": {
          "iopub.status.busy": "2021-06-11T04:31:51.662123Z",
          "iopub.execute_input": "2021-06-11T04:31:51.662478Z",
          "iopub.status.idle": "2021-06-11T04:31:51.789671Z",
          "shell.execute_reply.started": "2021-06-11T04:31:51.662443Z",
          "shell.execute_reply": "2021-06-11T04:31:51.788279Z"
        },
        "trusted": true,
        "id": "ZCJWN0pbn6hY"
      },
      "source": [
        "goldMedals = merged[(merged.Medal == 'Gold')]\n",
        "goldMedals.head()"
      ],
      "execution_count": null,
      "outputs": []
    },
    {
      "cell_type": "markdown",
      "metadata": {
        "id": "12VBLC1rn6hY"
      },
      "source": [
        "### I would like to have a plot of the Age to see the distribution but I need to check first if the Age column contains NaN values."
      ]
    },
    {
      "cell_type": "code",
      "metadata": {
        "execution": {
          "iopub.status.busy": "2021-06-11T04:31:51.791326Z",
          "iopub.execute_input": "2021-06-11T04:31:51.791709Z",
          "iopub.status.idle": "2021-06-11T04:31:51.817123Z",
          "shell.execute_reply.started": "2021-06-11T04:31:51.791672Z",
          "shell.execute_reply": "2021-06-11T04:31:51.816001Z"
        },
        "trusted": true,
        "id": "952PmaiCn6hZ"
      },
      "source": [
        "goldMedals.isnull().any()"
      ],
      "execution_count": null,
      "outputs": []
    },
    {
      "cell_type": "markdown",
      "metadata": {
        "id": "WXJjE3vhn6hZ"
      },
      "source": [
        "### Let’s take only the values that are different from NaN."
      ]
    },
    {
      "cell_type": "code",
      "metadata": {
        "execution": {
          "iopub.status.busy": "2021-06-11T04:31:51.820118Z",
          "iopub.execute_input": "2021-06-11T04:31:51.820652Z",
          "iopub.status.idle": "2021-06-11T04:31:51.832588Z",
          "shell.execute_reply.started": "2021-06-11T04:31:51.820515Z",
          "shell.execute_reply": "2021-06-11T04:31:51.831379Z"
        },
        "trusted": true,
        "id": "dNDiLOLWn6ha"
      },
      "source": [
        "goldMedals = goldMedals[np.isfinite(goldMedals['Age'])]"
      ],
      "execution_count": null,
      "outputs": []
    },
    {
      "cell_type": "markdown",
      "metadata": {
        "id": "8MYxs6zGn6ha"
      },
      "source": [
        "### We can now create a countplot to see the result of our work:"
      ]
    },
    {
      "cell_type": "code",
      "metadata": {
        "execution": {
          "iopub.status.busy": "2021-06-11T04:31:51.834687Z",
          "iopub.execute_input": "2021-06-11T04:31:51.835213Z",
          "iopub.status.idle": "2021-06-11T04:31:52.945324Z",
          "shell.execute_reply.started": "2021-06-11T04:31:51.835162Z",
          "shell.execute_reply": "2021-06-11T04:31:52.944487Z"
        },
        "trusted": true,
        "id": "Wx63ByK3n6ha"
      },
      "source": [
        "plt.figure(figsize=(20, 10))\n",
        "plt.tight_layout()\n",
        "sns.countplot(goldMedals['Age'])\n",
        "plt.title('Distribution of Gold Medals')"
      ],
      "execution_count": null,
      "outputs": []
    },
    {
      "cell_type": "markdown",
      "metadata": {
        "id": "YxC_BtAxn6hb"
      },
      "source": [
        "### It seems that we have people with Age greater that 50 with a gold medal: Let’s know more about those people."
      ]
    },
    {
      "cell_type": "code",
      "metadata": {
        "execution": {
          "iopub.status.busy": "2021-06-11T04:31:52.946723Z",
          "iopub.execute_input": "2021-06-11T04:31:52.947255Z",
          "iopub.status.idle": "2021-06-11T04:31:52.957066Z",
          "shell.execute_reply.started": "2021-06-11T04:31:52.947195Z",
          "shell.execute_reply": "2021-06-11T04:31:52.955684Z"
        },
        "trusted": true,
        "id": "49nk16O1n6hb"
      },
      "source": [
        "goldMedals['ID'][goldMedals['Age'] > 50].count()"
      ],
      "execution_count": null,
      "outputs": []
    },
    {
      "cell_type": "markdown",
      "metadata": {
        "id": "ZbryZwJ0n6hc"
      },
      "source": [
        "### 65 people. Wonderul But which disciplines allows you to land a gold medal after your fifties?\n",
        "\n",
        "### We will now create a new dataframe called masterDisciplines in which we will insert this new set of people and then create a visualization with it."
      ]
    },
    {
      "cell_type": "code",
      "metadata": {
        "execution": {
          "iopub.status.busy": "2021-06-11T04:31:52.958891Z",
          "iopub.execute_input": "2021-06-11T04:31:52.959348Z",
          "iopub.status.idle": "2021-06-11T04:31:53.236522Z",
          "shell.execute_reply.started": "2021-06-11T04:31:52.95929Z",
          "shell.execute_reply": "2021-06-11T04:31:53.235258Z"
        },
        "trusted": true,
        "id": "7mLY1c1fn6hc"
      },
      "source": [
        "masterDisciplines = goldMedals['Sport'][goldMedals['Age'] > 50]\n",
        "plt.figure(figsize=(20, 10))\n",
        "plt.tight_layout()\n",
        "sns.countplot(masterDisciplines)\n",
        "plt.title('Gold Medals for Athletes Over 50')"
      ],
      "execution_count": null,
      "outputs": []
    },
    {
      "cell_type": "markdown",
      "metadata": {
        "id": "slXN3qLan6hc"
      },
      "source": [
        "### It seems that our senior gold medalists are shooters, archers, sailors and, above all, horse riders!\n",
        "\n",
        "### It makes sense: I cannot imagine a sprinter making 100 meters in 10 seconds at 55, but who knows!"
      ]
    },
    {
      "cell_type": "markdown",
      "metadata": {
        "id": "dg5PHZtpn6hd"
      },
      "source": [
        "## Women in Athletics\n",
        "### Studying the data we can try to understand how much medals we have only for women in the recent history of the Summer Games. Let’s create a filtered dataset :"
      ]
    },
    {
      "cell_type": "code",
      "metadata": {
        "execution": {
          "iopub.status.busy": "2021-06-11T04:31:53.238387Z",
          "iopub.execute_input": "2021-06-11T04:31:53.238851Z",
          "iopub.status.idle": "2021-06-11T04:31:53.359767Z",
          "shell.execute_reply.started": "2021-06-11T04:31:53.238799Z",
          "shell.execute_reply": "2021-06-11T04:31:53.358444Z"
        },
        "trusted": true,
        "id": "0k9nW4t2n6hd"
      },
      "source": [
        "womenInOlympics = merged[(merged.Sex == 'F') & (merged.Season == 'Summer')]\n",
        "womenInOlympics.head(10)"
      ],
      "execution_count": null,
      "outputs": []
    },
    {
      "cell_type": "markdown",
      "metadata": {
        "id": "5RGWKs_wn6he"
      },
      "source": [
        "### To plot the curve over time, let’s create a plot in which we put the year (on the x-axis) and count of the number of medals per edition of the games (consider that we will have more medals for the same athlete)."
      ]
    },
    {
      "cell_type": "code",
      "metadata": {
        "execution": {
          "iopub.status.busy": "2021-06-11T04:31:53.361652Z",
          "iopub.execute_input": "2021-06-11T04:31:53.362127Z",
          "iopub.status.idle": "2021-06-11T04:31:53.850379Z",
          "shell.execute_reply.started": "2021-06-11T04:31:53.362072Z",
          "shell.execute_reply": "2021-06-11T04:31:53.849059Z"
        },
        "trusted": true,
        "id": "HeU2_QZnn6he"
      },
      "source": [
        "sns.set(style=\"darkgrid\")\n",
        "plt.figure(figsize=(20, 10))\n",
        "sns.countplot(x='Year', data=womenInOlympics)\n",
        "plt.title('Women medals per edition of the Games')"
      ],
      "execution_count": null,
      "outputs": []
    },
    {
      "cell_type": "markdown",
      "metadata": {
        "id": "Xa-dfqrSn6he"
      },
      "source": [
        "### Usually I cross-check the data: below I tried to review only the medalists for the 1900 Summer edition to see if the visualization is correct."
      ]
    },
    {
      "cell_type": "code",
      "metadata": {
        "execution": {
          "iopub.status.busy": "2021-06-11T04:31:53.852285Z",
          "iopub.execute_input": "2021-06-11T04:31:53.85274Z",
          "iopub.status.idle": "2021-06-11T04:31:53.884472Z",
          "shell.execute_reply.started": "2021-06-11T04:31:53.852687Z",
          "shell.execute_reply": "2021-06-11T04:31:53.883296Z"
        },
        "trusted": true,
        "id": "Ky1Mw0Wfn6hf"
      },
      "source": [
        "womenInOlympics.loc[womenInOlympics['Year'] == 1900].head(10)"
      ],
      "execution_count": null,
      "outputs": []
    },
    {
      "cell_type": "markdown",
      "metadata": {
        "id": "YHGoPhDsn6hf"
      },
      "source": [
        "### Okay, let’s count the rows (same code as above adding the count() function and filtering only for ID)"
      ]
    },
    {
      "cell_type": "code",
      "metadata": {
        "execution": {
          "iopub.status.busy": "2021-06-11T04:31:53.886212Z",
          "iopub.execute_input": "2021-06-11T04:31:53.886603Z",
          "iopub.status.idle": "2021-06-11T04:31:53.896738Z",
          "shell.execute_reply.started": "2021-06-11T04:31:53.886566Z",
          "shell.execute_reply": "2021-06-11T04:31:53.895679Z"
        },
        "trusted": true,
        "id": "oA6bD0nYn6hf"
      },
      "source": [
        "womenInOlympics['ID'].loc[womenInOlympics['Year'] == 1900].count()"
      ],
      "execution_count": null,
      "outputs": []
    },
    {
      "cell_type": "markdown",
      "metadata": {
        "id": "Wce2lTQpn6hg"
      },
      "source": [
        "### So we have 33 records (with repetitions, for example ‘Marion Jones (-Farquhar)’ won a medal both for Tennis Women’s Singles and Tennis Mixed Doubles – To be sure I cross-checked also with Wikipedia and the outcome seems correct)."
      ]
    },
    {
      "cell_type": "markdown",
      "metadata": {
        "id": "HL1h5asCn6hg"
      },
      "source": [
        "## Medals per country\n",
        "### Let’s now review the top 5 gold medal countries:"
      ]
    },
    {
      "cell_type": "code",
      "metadata": {
        "execution": {
          "iopub.status.busy": "2021-06-11T04:31:53.898155Z",
          "iopub.execute_input": "2021-06-11T04:31:53.898532Z",
          "iopub.status.idle": "2021-06-11T04:31:53.922241Z",
          "shell.execute_reply.started": "2021-06-11T04:31:53.898496Z",
          "shell.execute_reply": "2021-06-11T04:31:53.921093Z"
        },
        "trusted": true,
        "id": "DevSqFa2n6hh"
      },
      "source": [
        "goldMedals.region.value_counts().reset_index(name='Medal').head()"
      ],
      "execution_count": null,
      "outputs": []
    },
    {
      "cell_type": "markdown",
      "metadata": {
        "id": "ygHH-no9n6hh"
      },
      "source": [
        "### Let’s plot this:"
      ]
    },
    {
      "cell_type": "code",
      "metadata": {
        "execution": {
          "iopub.status.busy": "2021-06-11T04:31:53.924228Z",
          "iopub.execute_input": "2021-06-11T04:31:53.924747Z",
          "iopub.status.idle": "2021-06-11T04:31:54.26215Z",
          "shell.execute_reply.started": "2021-06-11T04:31:53.924705Z",
          "shell.execute_reply": "2021-06-11T04:31:54.261306Z"
        },
        "trusted": true,
        "id": "ntiRqWNSn6hi"
      },
      "source": [
        "totalGoldMedals = goldMedals.region.value_counts().reset_index(name='Medal').head(5)\n",
        "g = sns.catplot(x=\"index\", y=\"Medal\", data=totalGoldMedals,\n",
        "                height=6, kind=\"bar\", palette=\"muted\")\n",
        "g.despine(left=True)\n",
        "g.set_xlabels(\"Top 5 countries\")\n",
        "g.set_ylabels(\"Number of Medals\")\n",
        "plt.title('Medals per Country')"
      ],
      "execution_count": null,
      "outputs": []
    },
    {
      "cell_type": "markdown",
      "metadata": {
        "id": "VIK_tUDGn6hi"
      },
      "source": [
        "### The USA seems to be the most winning country.\n",
        "### But which are the most awarded disciplines of American Athletes?\n",
        "\n",
        "\n",
        " \n",
        "# Disciplines with the greatest number of Gold Medals\n",
        "### Let’s create a dataframe to filter the gold medals only for the USA."
      ]
    },
    {
      "cell_type": "code",
      "metadata": {
        "execution": {
          "iopub.status.busy": "2021-06-11T04:31:54.263274Z",
          "iopub.execute_input": "2021-06-11T04:31:54.263642Z",
          "iopub.status.idle": "2021-06-11T04:31:54.274149Z",
          "shell.execute_reply.started": "2021-06-11T04:31:54.263607Z",
          "shell.execute_reply": "2021-06-11T04:31:54.272813Z"
        },
        "trusted": true,
        "id": "ifNkoFFsn6hk"
      },
      "source": [
        "goldMedalsUSA = goldMedals.loc[goldMedals['NOC'] == 'USA']"
      ],
      "execution_count": null,
      "outputs": []
    },
    {
      "cell_type": "markdown",
      "metadata": {
        "id": "yYm4fcOXn6hl"
      },
      "source": [
        "### Done! Now, we can count the medals per discipline"
      ]
    },
    {
      "cell_type": "code",
      "metadata": {
        "execution": {
          "iopub.status.busy": "2021-06-11T04:31:54.275907Z",
          "iopub.execute_input": "2021-06-11T04:31:54.276373Z",
          "iopub.status.idle": "2021-06-11T04:31:54.29859Z",
          "shell.execute_reply.started": "2021-06-11T04:31:54.276319Z",
          "shell.execute_reply": "2021-06-11T04:31:54.297664Z"
        },
        "trusted": true,
        "id": "uViSW-VQn6hl"
      },
      "source": [
        "goldMedalsUSA.Event.value_counts().reset_index(name='Medal').head(20)"
      ],
      "execution_count": null,
      "outputs": []
    },
    {
      "cell_type": "markdown",
      "metadata": {
        "id": "rPNLUYUnn6hm"
      },
      "source": [
        "### Let’s slice the dataframe using only the data of male athletes to better review it:"
      ]
    },
    {
      "cell_type": "code",
      "metadata": {
        "execution": {
          "iopub.status.busy": "2021-06-11T04:31:54.300096Z",
          "iopub.execute_input": "2021-06-11T04:31:54.300526Z",
          "iopub.status.idle": "2021-06-11T04:31:54.343716Z",
          "shell.execute_reply.started": "2021-06-11T04:31:54.300489Z",
          "shell.execute_reply": "2021-06-11T04:31:54.342525Z"
        },
        "trusted": true,
        "id": "pf97GctSn6hm"
      },
      "source": [
        "basketballGoldUSA = goldMedalsUSA.loc[(goldMedalsUSA['Sport'] == 'Basketball') & (goldMedalsUSA['Sex'] == 'M')].sort_values(['Year'])\n",
        "basketballGoldUSA.head(15)"
      ],
      "execution_count": null,
      "outputs": []
    },
    {
      "cell_type": "markdown",
      "metadata": {
        "id": "lz410_lFn6hm"
      },
      "source": [
        "### What we supposed is true: the medals are not grouped by Edition/Team but we were counting the gold medals of each member of the team!\n",
        "\n",
        "\n",
        "### Let’s proceed grouping by year the athletes – the idea is to create a new dataframe to make a pre-filter using only the first record for each member of the team."
      ]
    },
    {
      "cell_type": "code",
      "metadata": {
        "execution": {
          "iopub.status.busy": "2021-06-11T04:31:54.345001Z",
          "iopub.execute_input": "2021-06-11T04:31:54.345511Z",
          "iopub.status.idle": "2021-06-11T04:31:54.363679Z",
          "shell.execute_reply.started": "2021-06-11T04:31:54.345474Z",
          "shell.execute_reply": "2021-06-11T04:31:54.362421Z"
        },
        "trusted": true,
        "id": "SZ0jtxwzn6hm"
      },
      "source": [
        "groupedBasketUSA = basketballGoldUSA.groupby(['Year']).first()\n",
        "groupedBasketUSA\n",
        "groupedBasketUSA['ID'].count()"
      ],
      "execution_count": null,
      "outputs": []
    },
    {
      "cell_type": "markdown",
      "metadata": {
        "id": "1NoYcqS4n6hn"
      },
      "source": [
        "## What is the median height/weight of an Olympic medalist?\n",
        "\n",
        "### Let’s try to plot a scatterplot of height vs weight to see the distribution of values (without grouping by discipline).\n",
        "### First of all, we have to take again the goldMedals dataframe"
      ]
    },
    {
      "cell_type": "code",
      "metadata": {
        "execution": {
          "iopub.status.busy": "2021-06-11T04:31:54.365123Z",
          "iopub.execute_input": "2021-06-11T04:31:54.365476Z",
          "iopub.status.idle": "2021-06-11T04:31:54.393271Z",
          "shell.execute_reply.started": "2021-06-11T04:31:54.365442Z",
          "shell.execute_reply": "2021-06-11T04:31:54.392292Z"
        },
        "trusted": true,
        "id": "XvvEETnHn6hn"
      },
      "source": [
        "goldMedals.head()"
      ],
      "execution_count": null,
      "outputs": []
    },
    {
      "cell_type": "markdown",
      "metadata": {
        "id": "PmNZQV1ln6hn"
      },
      "source": [
        "### We can see that we have NaN values both in height and weight columns\n",
        "### At this point, we can act as follows:\n",
        "\n",
        "1. Using only the rows that has a value in the Height and Weight columns;\n",
        "1. Replace the value with the mean of the column.\n",
        "\n",
        "### Solution 2 in my opinion it is not the best way to go: we are talking about data of athletes of different ages and different disciplines (that have done different training).\n",
        "\n",
        "### Let’s go with solution 1.\n",
        "\n",
        "### The first thing to do is to collect general information about the dataframe that we have to use: goldMedals."
      ]
    },
    {
      "cell_type": "code",
      "metadata": {
        "execution": {
          "iopub.status.busy": "2021-06-11T04:31:54.397441Z",
          "iopub.execute_input": "2021-06-11T04:31:54.397964Z",
          "iopub.status.idle": "2021-06-11T04:31:54.435424Z",
          "shell.execute_reply.started": "2021-06-11T04:31:54.397923Z",
          "shell.execute_reply": "2021-06-11T04:31:54.43411Z"
        },
        "trusted": true,
        "id": "9YdpmRkUn6ho"
      },
      "source": [
        "goldMedals.info()"
      ],
      "execution_count": null,
      "outputs": []
    },
    {
      "cell_type": "markdown",
      "metadata": {
        "id": "0WRKlg1gn6ho"
      },
      "source": [
        "### Okay, we have more than 13.000 rows.\n",
        "\n",
        "### We will now create a dataframe filtering only the rows that has the column Height and Weight populated."
      ]
    },
    {
      "cell_type": "code",
      "metadata": {
        "execution": {
          "iopub.status.busy": "2021-06-11T04:31:54.437617Z",
          "iopub.execute_input": "2021-06-11T04:31:54.438114Z",
          "iopub.status.idle": "2021-06-11T04:31:54.446904Z",
          "shell.execute_reply.started": "2021-06-11T04:31:54.438078Z",
          "shell.execute_reply": "2021-06-11T04:31:54.445912Z"
        },
        "trusted": true,
        "id": "4oN2VQbsn6ho"
      },
      "source": [
        "notNullMedals = goldMedals[(goldMedals['Height'].notnull()) & (goldMedals['Weight'].notnull())]"
      ],
      "execution_count": null,
      "outputs": []
    },
    {
      "cell_type": "code",
      "metadata": {
        "execution": {
          "iopub.status.busy": "2021-06-11T04:31:54.448034Z",
          "iopub.execute_input": "2021-06-11T04:31:54.448537Z",
          "iopub.status.idle": "2021-06-11T04:31:54.733895Z",
          "shell.execute_reply.started": "2021-06-11T04:31:54.448503Z",
          "shell.execute_reply": "2021-06-11T04:31:54.732614Z"
        },
        "trusted": true,
        "id": "Gp4KM2Myn6hp"
      },
      "source": [
        "plt.figure(figsize=(12, 10))\n",
        "ax = sns.scatterplot(x=\"Height\", y=\"Weight\", data=notNullMedals)\n",
        "plt.title('Height vs Weight of Olympic Medalists')"
      ],
      "execution_count": null,
      "outputs": []
    },
    {
      "cell_type": "markdown",
      "metadata": {
        "id": "nbPQ-a0en6hp"
      },
      "source": [
        "### The vast majority of the samples show a linear relation between height and weight (the more the weight, the more the height).\n",
        "\n",
        "### We have exceptions and I am willing to know more!\n",
        "\n",
        "### For example, let’s see which is the athlete that weighs more than 160 kilograms."
      ]
    },
    {
      "cell_type": "code",
      "metadata": {
        "execution": {
          "iopub.status.busy": "2021-06-11T04:31:54.735592Z",
          "iopub.execute_input": "2021-06-11T04:31:54.736248Z",
          "iopub.status.idle": "2021-06-11T04:31:54.763592Z",
          "shell.execute_reply.started": "2021-06-11T04:31:54.736176Z",
          "shell.execute_reply": "2021-06-11T04:31:54.762368Z"
        },
        "trusted": true,
        "id": "BbHa6jqon6hp"
      },
      "source": [
        "notNullMedals.loc[notNullMedals['Weight'] > 160]"
      ],
      "execution_count": null,
      "outputs": []
    },
    {
      "cell_type": "code",
      "metadata": {
        "execution": {
          "iopub.status.busy": "2021-06-11T04:31:54.765122Z",
          "iopub.execute_input": "2021-06-11T04:31:54.765552Z",
          "iopub.status.idle": "2021-06-11T04:31:54.967464Z",
          "shell.execute_reply.started": "2021-06-11T04:31:54.765512Z",
          "shell.execute_reply": "2021-06-11T04:31:54.966106Z"
        },
        "trusted": true,
        "id": "RIHAfZsKn6hq"
      },
      "source": [
        "MenOverTime = merged[(merged.Sex == 'M') & (merged.Season == 'Summer')]\n",
        "WomenOverTime = merged[(merged.Sex == 'F') & (merged.Season == 'Summer')]"
      ],
      "execution_count": null,
      "outputs": []
    },
    {
      "cell_type": "code",
      "metadata": {
        "execution": {
          "iopub.status.busy": "2021-06-11T04:31:54.969152Z",
          "iopub.execute_input": "2021-06-11T04:31:54.969604Z",
          "iopub.status.idle": "2021-06-11T04:31:54.996798Z",
          "shell.execute_reply.started": "2021-06-11T04:31:54.969561Z",
          "shell.execute_reply": "2021-06-11T04:31:54.99547Z"
        },
        "trusted": true,
        "id": "yG0YCCxEn6hq"
      },
      "source": [
        "MenOverTime.head()"
      ],
      "execution_count": null,
      "outputs": []
    },
    {
      "cell_type": "code",
      "metadata": {
        "execution": {
          "iopub.status.busy": "2021-06-11T04:31:54.998663Z",
          "iopub.execute_input": "2021-06-11T04:31:54.999193Z",
          "iopub.status.idle": "2021-06-11T04:31:55.292964Z",
          "shell.execute_reply.started": "2021-06-11T04:31:54.99913Z",
          "shell.execute_reply": "2021-06-11T04:31:55.29165Z"
        },
        "trusted": true,
        "id": "NtrZnJtAn6hq"
      },
      "source": [
        "part = MenOverTime.groupby('Year')['Sex'].value_counts()\n",
        "plt.figure(figsize=(20, 10))\n",
        "part.loc[:,'M'].plot()\n",
        "plt.title('Variation of Male Athletes over time')"
      ],
      "execution_count": null,
      "outputs": []
    },
    {
      "cell_type": "code",
      "metadata": {
        "execution": {
          "iopub.status.busy": "2021-06-11T04:31:55.294613Z",
          "iopub.execute_input": "2021-06-11T04:31:55.294965Z",
          "iopub.status.idle": "2021-06-11T04:31:55.583711Z",
          "shell.execute_reply.started": "2021-06-11T04:31:55.29493Z",
          "shell.execute_reply": "2021-06-11T04:31:55.582386Z"
        },
        "trusted": true,
        "id": "-2fEVD_8n6hr"
      },
      "source": [
        "part = WomenOverTime.groupby('Year')['Sex'].value_counts()\n",
        "plt.figure(figsize=(20, 10))\n",
        "part.loc[:,'F'].plot()\n",
        "plt.title('Variation of Female Athletes over time')"
      ],
      "execution_count": null,
      "outputs": []
    },
    {
      "cell_type": "markdown",
      "metadata": {
        "id": "sNQsWVuHn6hr"
      },
      "source": [
        "### What I immediately saw is that for women:\n",
        "\n",
        "1. We have a steep increase in the population;\n",
        "1. The grow is constant.\n",
        "\n",
        "### On the other hand, the grow for men seems less strong:\n",
        "1. After the 1990 we can see a relevant decrease in the number of male athletes at the summer games;\n",
        "1. The growth has slowly restarted recently."
      ]
    },
    {
      "cell_type": "code",
      "metadata": {
        "execution": {
          "iopub.status.busy": "2021-06-11T04:31:55.585281Z",
          "iopub.execute_input": "2021-06-11T04:31:55.585613Z",
          "iopub.status.idle": "2021-06-11T04:31:56.459836Z",
          "shell.execute_reply.started": "2021-06-11T04:31:55.585578Z",
          "shell.execute_reply": "2021-06-11T04:31:56.458654Z"
        },
        "trusted": true,
        "id": "PP_D-P1In6hr"
      },
      "source": [
        "plt.figure(figsize=(20, 10))\n",
        "sns.boxplot('Year', 'Age', data=MenOverTime)\n",
        "plt.title('Variation of Age for Male Athletes over time')"
      ],
      "execution_count": null,
      "outputs": []
    },
    {
      "cell_type": "markdown",
      "metadata": {
        "id": "s6R1BYQin6hs"
      },
      "source": [
        "### What is strange for me is the age of some athletes in the games between the 1924 and the 1948: let’s check all the people with age greater than 80."
      ]
    },
    {
      "cell_type": "code",
      "metadata": {
        "execution": {
          "iopub.status.busy": "2021-06-11T04:31:56.461438Z",
          "iopub.execute_input": "2021-06-11T04:31:56.461903Z",
          "iopub.status.idle": "2021-06-11T04:31:56.491308Z",
          "shell.execute_reply.started": "2021-06-11T04:31:56.461828Z",
          "shell.execute_reply": "2021-06-11T04:31:56.490053Z"
        },
        "trusted": true,
        "id": "bMcbsrI0n6hs"
      },
      "source": [
        "MenOverTime.loc[MenOverTime['Age'] > 80].head(10)"
      ],
      "execution_count": null,
      "outputs": []
    },
    {
      "cell_type": "code",
      "metadata": {
        "execution": {
          "iopub.status.busy": "2021-06-11T04:31:56.492871Z",
          "iopub.execute_input": "2021-06-11T04:31:56.493389Z",
          "iopub.status.idle": "2021-06-11T04:31:57.776927Z",
          "shell.execute_reply.started": "2021-06-11T04:31:56.493325Z",
          "shell.execute_reply": "2021-06-11T04:31:57.775601Z"
        },
        "trusted": true,
        "id": "XEY5QCNjn6ht"
      },
      "source": [
        "plt.figure(figsize=(20, 10))\n",
        "sns.boxplot('Year', 'Age', data=WomenOverTime)\n",
        "plt.title('Variation of Age for Female Athletes over time')"
      ],
      "execution_count": null,
      "outputs": []
    },
    {
      "cell_type": "markdown",
      "metadata": {
        "id": "AadQsb3Cn6ht"
      },
      "source": [
        "### Interesting points for me:\n",
        "\n",
        "* Generally, the age distribution starts has a lower minimum and a lower maximum;\n",
        "* In 1904 the age distribution is strongly different from the other Olympics: let’s know more about this point:"
      ]
    },
    {
      "cell_type": "code",
      "metadata": {
        "execution": {
          "iopub.status.busy": "2021-06-11T04:31:57.778811Z",
          "iopub.execute_input": "2021-06-11T04:31:57.779185Z",
          "iopub.status.idle": "2021-06-11T04:31:57.814948Z",
          "shell.execute_reply.started": "2021-06-11T04:31:57.779147Z",
          "shell.execute_reply": "2021-06-11T04:31:57.813752Z"
        },
        "trusted": true,
        "id": "Q8_qofwGn6hu"
      },
      "source": [
        "WomenOverTime.loc[WomenOverTime['Year'] == 1904]"
      ],
      "execution_count": null,
      "outputs": []
    },
    {
      "cell_type": "markdown",
      "metadata": {
        "id": "DHFXbqZCn6hu"
      },
      "source": [
        "### We will now try using a pointplot to visualize the variation in weight over athletes.\n",
        "### The first graph will show data for men, the second for women:"
      ]
    },
    {
      "cell_type": "code",
      "metadata": {
        "execution": {
          "iopub.status.busy": "2021-06-11T04:31:57.816441Z",
          "iopub.execute_input": "2021-06-11T04:31:57.816762Z",
          "iopub.status.idle": "2021-06-11T04:32:00.169891Z",
          "shell.execute_reply.started": "2021-06-11T04:31:57.816729Z",
          "shell.execute_reply": "2021-06-11T04:32:00.168726Z"
        },
        "trusted": true,
        "id": "mnfw4f5gn6hv"
      },
      "source": [
        "plt.figure(figsize=(20, 10))\n",
        "sns.pointplot('Year', 'Weight', data=MenOverTime)\n",
        "plt.title('Variation of Weight for Male Athletes over time')"
      ],
      "execution_count": null,
      "outputs": []
    },
    {
      "cell_type": "code",
      "metadata": {
        "execution": {
          "iopub.status.busy": "2021-06-11T04:32:00.171561Z",
          "iopub.execute_input": "2021-06-11T04:32:00.171903Z",
          "iopub.status.idle": "2021-06-11T04:32:01.78442Z",
          "shell.execute_reply.started": "2021-06-11T04:32:00.171865Z",
          "shell.execute_reply": "2021-06-11T04:32:01.783002Z"
        },
        "trusted": true,
        "id": "KzPTuImqn6hw"
      },
      "source": [
        "plt.figure(figsize=(20, 10))\n",
        "sns.pointplot('Year', 'Weight', data=WomenOverTime)\n",
        "plt.title('Variation of Weight for Female Athletes over time')"
      ],
      "execution_count": null,
      "outputs": []
    },
    {
      "cell_type": "markdown",
      "metadata": {
        "id": "mypn4e1an6hw"
      },
      "source": [
        "### What we can see is that it seems that we do not have data for women before 1924. Let’s try filtering all the women athletes for that period to review this point:"
      ]
    },
    {
      "cell_type": "code",
      "metadata": {
        "execution": {
          "iopub.status.busy": "2021-06-11T04:32:01.786457Z",
          "iopub.execute_input": "2021-06-11T04:32:01.787041Z",
          "iopub.status.idle": "2021-06-11T04:32:01.829648Z",
          "shell.execute_reply.started": "2021-06-11T04:32:01.786966Z",
          "shell.execute_reply": "2021-06-11T04:32:01.828376Z"
        },
        "trusted": true,
        "id": "IBx0Nvuhn6hx"
      },
      "source": [
        "womenInOlympics.loc[womenInOlympics['Year'] < 1924].head(20)"
      ],
      "execution_count": null,
      "outputs": []
    },
    {
      "cell_type": "markdown",
      "metadata": {
        "id": "MSVV_Dn_n6hx"
      },
      "source": [
        "### Using the same pointplot (with a different palette) we can plot the weight change along time.\n",
        "\n",
        "### The first graph will show the information for men, the second for women:"
      ]
    },
    {
      "cell_type": "code",
      "metadata": {
        "execution": {
          "iopub.status.busy": "2021-06-11T04:32:01.831169Z",
          "iopub.execute_input": "2021-06-11T04:32:01.831548Z",
          "iopub.status.idle": "2021-06-11T04:32:01.871821Z",
          "shell.execute_reply.started": "2021-06-11T04:32:01.83151Z",
          "shell.execute_reply": "2021-06-11T04:32:01.870261Z"
        },
        "trusted": true,
        "id": "wvtCDQSgn6hy"
      },
      "source": [
        "womenInOlympics.loc[womenInOlympics['Year'] < 1924].head(20)"
      ],
      "execution_count": null,
      "outputs": []
    },
    {
      "cell_type": "code",
      "metadata": {
        "execution": {
          "iopub.status.busy": "2021-06-11T04:32:01.87391Z",
          "iopub.execute_input": "2021-06-11T04:32:01.874454Z",
          "iopub.status.idle": "2021-06-11T04:32:03.539279Z",
          "shell.execute_reply.started": "2021-06-11T04:32:01.874385Z",
          "shell.execute_reply": "2021-06-11T04:32:03.537391Z"
        },
        "trusted": true,
        "id": "GlA_lA_En6hy"
      },
      "source": [
        "plt.figure(figsize=(20, 10))\n",
        "sns.pointplot('Year', 'Height', data=WomenOverTime, palette='Set2')\n",
        "plt.title('Variation of Height for Female Athletes over time')"
      ],
      "execution_count": null,
      "outputs": []
    },
    {
      "cell_type": "markdown",
      "metadata": {
        "id": "p72c6HPgn6hy"
      },
      "source": [
        "### What we may see:\n",
        "\n",
        "* For both men and women, the height is incrementing over time but it is decreasing between the 2012 and the 2016.\n",
        "* For women we have a peak between 1928 and 1948, let’s deepen this point:"
      ]
    },
    {
      "cell_type": "code",
      "metadata": {
        "execution": {
          "iopub.status.busy": "2021-06-11T04:32:03.542164Z",
          "iopub.execute_input": "2021-06-11T04:32:03.542737Z",
          "iopub.status.idle": "2021-06-11T04:32:03.583755Z",
          "shell.execute_reply.started": "2021-06-11T04:32:03.542666Z",
          "shell.execute_reply": "2021-06-11T04:32:03.582264Z"
        },
        "trusted": true,
        "id": "tSTghQVjn6hz"
      },
      "source": [
        "WomenOverTime.loc[(WomenOverTime['Year'] > 1924) & (WomenOverTime['Year'] < 1952)].head(10)"
      ],
      "execution_count": null,
      "outputs": []
    },
    {
      "cell_type": "code",
      "metadata": {
        "execution": {
          "iopub.status.busy": "2021-06-11T04:32:03.58584Z",
          "iopub.execute_input": "2021-06-11T04:32:03.586287Z",
          "iopub.status.idle": "2021-06-11T04:32:03.618713Z",
          "shell.execute_reply.started": "2021-06-11T04:32:03.58622Z",
          "shell.execute_reply": "2021-06-11T04:32:03.617618Z"
        },
        "trusted": true,
        "id": "-EcRCSEbn6hz"
      },
      "source": [
        "MenOverTime.head()"
      ],
      "execution_count": null,
      "outputs": []
    },
    {
      "cell_type": "code",
      "metadata": {
        "execution": {
          "iopub.status.busy": "2021-06-11T04:32:03.620445Z",
          "iopub.execute_input": "2021-06-11T04:32:03.620841Z",
          "iopub.status.idle": "2021-06-11T04:32:03.659498Z",
          "shell.execute_reply.started": "2021-06-11T04:32:03.620789Z",
          "shell.execute_reply": "2021-06-11T04:32:03.658351Z"
        },
        "trusted": true,
        "id": "-Ckzjuf3n6hz"
      },
      "source": [
        "itMenOverTime = MenOverTime.loc[MenOverTime['region'] == 'Italy']"
      ],
      "execution_count": null,
      "outputs": []
    },
    {
      "cell_type": "code",
      "metadata": {
        "execution": {
          "iopub.status.busy": "2021-06-11T04:32:03.663592Z",
          "iopub.execute_input": "2021-06-11T04:32:03.663963Z",
          "iopub.status.idle": "2021-06-11T04:32:04.154057Z",
          "shell.execute_reply.started": "2021-06-11T04:32:03.663929Z",
          "shell.execute_reply": "2021-06-11T04:32:04.15271Z"
        },
        "trusted": true,
        "id": "6qYyPHEBn6h0"
      },
      "source": [
        "sns.set(style=\"darkgrid\")\n",
        "plt.figure(figsize=(20, 10))\n",
        "sns.countplot(x='Year', data=itMenOverTime, palette='Set2')\n",
        "plt.title('Variation of Age for Italian Male Athletes over time')"
      ],
      "execution_count": null,
      "outputs": []
    },
    {
      "cell_type": "markdown",
      "metadata": {
        "id": "GsXZ9k4bn6h0"
      },
      "source": [
        "### now we can plot the change over time:"
      ]
    },
    {
      "cell_type": "code",
      "metadata": {
        "execution": {
          "iopub.status.busy": "2021-06-11T04:32:04.155665Z",
          "iopub.execute_input": "2021-06-11T04:32:04.156027Z",
          "iopub.status.idle": "2021-06-11T04:32:04.59085Z",
          "shell.execute_reply.started": "2021-06-11T04:32:04.155986Z",
          "shell.execute_reply": "2021-06-11T04:32:04.589687Z"
        },
        "trusted": true,
        "id": "QJ1WU_dkn6h0"
      },
      "source": [
        "itWomenOverTime = WomenOverTime.loc[WomenOverTime['region'] == 'Italy']\n",
        "sns.set(style=\"darkgrid\")\n",
        "plt.figure(figsize=(20, 10))\n",
        "sns.countplot(x='Year', data=itWomenOverTime, palette='Set2')\n",
        "plt.title('Variation of Age for Italian Female Athletes over time')"
      ],
      "execution_count": null,
      "outputs": []
    },
    {
      "cell_type": "markdown",
      "metadata": {
        "id": "8LwEPHwMn6h0"
      },
      "source": [
        "### Let’s first of all isolate all the discipline of the Olympics dataframe.\n",
        "\n",
        "### My idea is to see if Gymnastics is called differently or if there is any type."
      ]
    },
    {
      "cell_type": "code",
      "metadata": {
        "execution": {
          "iopub.status.busy": "2021-06-11T04:32:04.592533Z",
          "iopub.execute_input": "2021-06-11T04:32:04.592922Z",
          "iopub.status.idle": "2021-06-11T04:32:04.614674Z",
          "shell.execute_reply.started": "2021-06-11T04:32:04.59288Z",
          "shell.execute_reply": "2021-06-11T04:32:04.613372Z"
        },
        "trusted": true,
        "id": "o_-zITNDn6h1"
      },
      "source": [
        "MenOverTime['Sport'].unique().tolist()"
      ],
      "execution_count": null,
      "outputs": []
    },
    {
      "cell_type": "markdown",
      "metadata": {
        "id": "7RCUJ5Xwn6h1"
      },
      "source": [
        "### Okay, the string to use to filter is ‘Gymnastics’: let’s create two new dataframes for men and women."
      ]
    },
    {
      "cell_type": "code",
      "metadata": {
        "execution": {
          "iopub.status.busy": "2021-06-11T04:32:04.616438Z",
          "iopub.execute_input": "2021-06-11T04:32:04.616845Z",
          "iopub.status.idle": "2021-06-11T04:32:04.666746Z",
          "shell.execute_reply.started": "2021-06-11T04:32:04.616809Z",
          "shell.execute_reply": "2021-06-11T04:32:04.665546Z"
        },
        "trusted": true,
        "id": "GBkucnTQn6h1"
      },
      "source": [
        "gymMenOverTime = MenOverTime.loc[MenOverTime['Sport'] == 'Gymnastics']\n",
        "gymWomenOverTime = WomenOverTime.loc[WomenOverTime['Sport'] == 'Gymnastics']"
      ],
      "execution_count": null,
      "outputs": []
    },
    {
      "cell_type": "markdown",
      "metadata": {
        "id": "wSv7HmEMn6h2"
      },
      "source": [
        "### Okay: let’s now create our plot for male and female athletes and then we can make our observations"
      ]
    },
    {
      "cell_type": "code",
      "metadata": {
        "execution": {
          "iopub.status.busy": "2021-06-11T04:32:04.668635Z",
          "iopub.execute_input": "2021-06-11T04:32:04.669037Z",
          "iopub.status.idle": "2021-06-11T04:32:06.176748Z",
          "shell.execute_reply.started": "2021-06-11T04:32:04.668994Z",
          "shell.execute_reply": "2021-06-11T04:32:06.175437Z"
        },
        "trusted": true,
        "id": "VF__mfp-n6h2"
      },
      "source": [
        "plt.figure(figsize=(20, 10))\n",
        "sns.barplot('Year', 'Weight', data=gymMenOverTime)\n",
        "plt.title('Weight over year for Male Gymnasts')"
      ],
      "execution_count": null,
      "outputs": []
    },
    {
      "cell_type": "markdown",
      "metadata": {
        "id": "BP7KTe12n6h2"
      },
      "source": [
        "### A few things I noticed:\n",
        "\n",
        "1. The weight for female Gymnasts has go down for 60 to 50 kilograms on average;\n",
        "1. The weight for men has been more or less stable since 1964;\n",
        "1. The height is more stable for both men and women.\n",
        "### Also, men weight data from 1924 seems missing: let’s check."
      ]
    },
    {
      "cell_type": "code",
      "metadata": {
        "execution": {
          "iopub.status.busy": "2021-06-11T04:32:06.178634Z",
          "iopub.execute_input": "2021-06-11T04:32:06.179107Z",
          "iopub.status.idle": "2021-06-11T04:32:07.786698Z",
          "shell.execute_reply.started": "2021-06-11T04:32:06.179051Z",
          "shell.execute_reply": "2021-06-11T04:32:07.785317Z"
        },
        "trusted": true,
        "id": "tqV8IzkJn6h2"
      },
      "source": [
        "plt.figure(figsize=(20, 10))\n",
        "sns.barplot('Year', 'Height', data=gymMenOverTime)\n",
        "plt.title('Height over year for Male Gymnasts')"
      ],
      "execution_count": null,
      "outputs": []
    },
    {
      "cell_type": "code",
      "metadata": {
        "execution": {
          "iopub.status.busy": "2021-06-11T04:32:07.788586Z",
          "iopub.execute_input": "2021-06-11T04:32:07.789096Z",
          "iopub.status.idle": "2021-06-11T04:32:08.849954Z",
          "shell.execute_reply.started": "2021-06-11T04:32:07.789038Z",
          "shell.execute_reply": "2021-06-11T04:32:08.848718Z"
        },
        "trusted": true,
        "id": "OVf_Tzz-n6h3"
      },
      "source": [
        "plt.figure(figsize=(20, 10))\n",
        "sns.barplot('Year', 'Weight', data=gymWomenOverTime)\n",
        "plt.title('Weight over year for Female Gymnasts')"
      ],
      "execution_count": null,
      "outputs": []
    },
    {
      "cell_type": "code",
      "metadata": {
        "execution": {
          "iopub.status.busy": "2021-06-11T04:32:08.851637Z",
          "iopub.execute_input": "2021-06-11T04:32:08.852031Z",
          "iopub.status.idle": "2021-06-11T04:32:09.912546Z",
          "shell.execute_reply.started": "2021-06-11T04:32:08.851995Z",
          "shell.execute_reply": "2021-06-11T04:32:09.911321Z"
        },
        "trusted": true,
        "id": "nxpas_DQn6h6"
      },
      "source": [
        "plt.figure(figsize=(20, 10))\n",
        "sns.barplot('Year', 'Height', data=gymWomenOverTime)\n",
        "plt.title('Height over year for Female Gymnasts')"
      ],
      "execution_count": null,
      "outputs": []
    },
    {
      "cell_type": "code",
      "metadata": {
        "execution": {
          "iopub.status.busy": "2021-06-11T04:32:09.913822Z",
          "iopub.execute_input": "2021-06-11T04:32:09.914145Z",
          "iopub.status.idle": "2021-06-11T04:32:09.92388Z",
          "shell.execute_reply.started": "2021-06-11T04:32:09.914113Z",
          "shell.execute_reply": "2021-06-11T04:32:09.922661Z"
        },
        "trusted": true,
        "id": "KNS2RjEMn6h6"
      },
      "source": [
        "gymMenOverTime['Weight'].loc[gymMenOverTime['Year'] == 1924].isnull().all()"
      ],
      "execution_count": null,
      "outputs": []
    },
    {
      "cell_type": "markdown",
      "metadata": {
        "id": "-NhVqm-zn6h6"
      },
      "source": [
        "## Weightlifting\n",
        "### Let’s work on an analysis similar to what we have done for Gymnastics also for the Lifters.\n",
        "### We can start creating a new, dedicated dataframe"
      ]
    },
    {
      "cell_type": "code",
      "metadata": {
        "execution": {
          "iopub.status.busy": "2021-06-11T04:32:09.925564Z",
          "iopub.execute_input": "2021-06-11T04:32:09.925928Z",
          "iopub.status.idle": "2021-06-11T04:32:09.978697Z",
          "shell.execute_reply.started": "2021-06-11T04:32:09.925895Z",
          "shell.execute_reply": "2021-06-11T04:32:09.977315Z"
        },
        "trusted": true,
        "id": "HMipOkQsn6h7"
      },
      "source": [
        "wlMenOverTime = MenOverTime.loc[MenOverTime['Sport'] == 'Weightlifting']\n",
        "wlWomenOverTime = WomenOverTime.loc[WomenOverTime['Sport'] == 'Weightlifting']"
      ],
      "execution_count": null,
      "outputs": []
    },
    {
      "cell_type": "markdown",
      "metadata": {
        "id": "hDJ7UDgDn6h7"
      },
      "source": [
        "### Okay: let’s now create our plot for male and female athletes and then we can make our observations"
      ]
    },
    {
      "cell_type": "code",
      "metadata": {
        "execution": {
          "iopub.status.busy": "2021-06-11T04:32:09.980221Z",
          "iopub.execute_input": "2021-06-11T04:32:09.980621Z",
          "iopub.status.idle": "2021-06-11T04:32:11.29287Z",
          "shell.execute_reply.started": "2021-06-11T04:32:09.980581Z",
          "shell.execute_reply": "2021-06-11T04:32:11.291614Z"
        },
        "trusted": true,
        "id": "qV9ZwsDLn6h7"
      },
      "source": [
        "plt.figure(figsize=(20, 10))\n",
        "sns.pointplot('Year', 'Weight', data=wlMenOverTime, palette='Set2')\n",
        "plt.title('Weight over year for Male Lifters')"
      ],
      "execution_count": null,
      "outputs": []
    },
    {
      "cell_type": "code",
      "metadata": {
        "execution": {
          "iopub.status.busy": "2021-06-11T04:32:11.294378Z",
          "iopub.execute_input": "2021-06-11T04:32:11.294691Z",
          "iopub.status.idle": "2021-06-11T04:32:12.595262Z",
          "shell.execute_reply.started": "2021-06-11T04:32:11.294659Z",
          "shell.execute_reply": "2021-06-11T04:32:12.594123Z"
        },
        "trusted": true,
        "id": "zUT1Jufin6h8"
      },
      "source": [
        "plt.figure(figsize=(20, 10))\n",
        "sns.pointplot('Year', 'Height', data=wlMenOverTime, palette='Set2')\n",
        "plt.title('Height over year for Male Lifters')"
      ],
      "execution_count": null,
      "outputs": []
    },
    {
      "cell_type": "code",
      "metadata": {
        "execution": {
          "iopub.status.busy": "2021-06-11T04:32:12.59649Z",
          "iopub.execute_input": "2021-06-11T04:32:12.596788Z",
          "iopub.status.idle": "2021-06-11T04:32:12.978417Z",
          "shell.execute_reply.started": "2021-06-11T04:32:12.596757Z",
          "shell.execute_reply": "2021-06-11T04:32:12.977197Z"
        },
        "trusted": true,
        "id": "UZYP-sJln6h8"
      },
      "source": [
        "plt.figure(figsize=(20, 10))\n",
        "sns.pointplot('Year', 'Weight', data=wlWomenOverTime)\n",
        "plt.title('Weight over year for Female Lifters')"
      ],
      "execution_count": null,
      "outputs": []
    },
    {
      "cell_type": "code",
      "metadata": {
        "execution": {
          "iopub.status.busy": "2021-06-11T04:32:12.979761Z",
          "iopub.execute_input": "2021-06-11T04:32:12.980054Z",
          "iopub.status.idle": "2021-06-11T04:32:13.379467Z",
          "shell.execute_reply.started": "2021-06-11T04:32:12.980025Z",
          "shell.execute_reply": "2021-06-11T04:32:13.378163Z"
        },
        "trusted": true,
        "id": "uS0VBq1Vn6h9"
      },
      "source": [
        "plt.figure(figsize=(20, 10))\n",
        "sns.pointplot('Year', 'Height', data=wlWomenOverTime)\n",
        "plt.title('Height over year for Female Lifters')"
      ],
      "execution_count": null,
      "outputs": []
    }
  ]
}