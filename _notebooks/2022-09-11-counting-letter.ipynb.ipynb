{
  "cells": [
    {
      "cell_type": "markdown",
      "source": [
        "#*Counting letter using the python language*#\n",
        "\n",
        "\n",
        "*  comments: true\n",
        "*  badges: true\n",
        "\n"
      ],
      "metadata": {
        "id": "Uz81CubvhRgv"
      }
    },
    {
      "cell_type": "code",
      "execution_count": 1,
      "metadata": {
        "id": "aiNZpQbXgI3k"
      },
      "outputs": [],
      "source": [
        "from collections import Counter\n",
        "\n",
        "fname = \"Wordle_MysteryWords.csv\"\n",
        "\n",
        "def readfile(fname):\n",
        "    '''Reads a file and return the contents as a string'''\n",
        "    f = open(fname, 'r')  \n",
        "    text = f.read()       \n",
        "    f.close()             \n",
        "    return text    "
      ]
    },
    {
      "cell_type": "code",
      "execution_count": 3,
      "metadata": {
        "id": "ei9TsEH3gI3o"
      },
      "outputs": [],
      "source": [
        "def count_letters(words):\n",
        "    '''Returns a dictionary with letters and their counts'''\n",
        "    pass\n",
        "    d = {}\n",
        "    for word in words:\n",
        "        for char in word:\n",
        "            if char not in d:\n",
        "                d[char] = 1\n",
        "            else:\n",
        "                d[char] += 1\n",
        "    return d"
      ]
    },
    {
      "cell_type": "code",
      "execution_count": 5,
      "metadata": {
        "id": "eTEbp0migI3q"
      },
      "outputs": [],
      "source": [
        "def count_words(words):\n",
        "    '''Returns a dictionary with letters and the number of words each\n",
        "       letter occurs in'''\n",
        "    d = {}\n",
        "    for word in words:\n",
        "        chars = set(word)\n",
        "        for char in chars:\n",
        "            if char not in d:\n",
        "                d[char] = 1\n",
        "            else:\n",
        "                d[char] += 1\n",
        "    return d"
      ]
    },
    {
      "cell_type": "code",
      "execution_count": 7,
      "metadata": {
        "id": "EFB7cWaBgI3r"
      },
      "outputs": [],
      "source": [
        "def count_mult(words):\n",
        "    '''Returns a dictionary with the number of times a letter\n",
        "       occurs multiple times in a word'''\n",
        "    d = {}\n",
        "    for word in words:\n",
        "        c = Counter(word)\n",
        "        for char in c:\n",
        "            if c[char] > 1:\n",
        "                if char not in d:\n",
        "                    d[char] = 1\n",
        "                else:\n",
        "                    d[char] += 1\n",
        "    return d"
      ]
    },
    {
      "cell_type": "code",
      "execution_count": 12,
      "metadata": {
        "id": "54jOO5TugI3s"
      },
      "outputs": [],
      "source": [
        "def count_pos(words):\n",
        "    '''Returns a dictionary with the number of times each letter occurs\n",
        "       in each position in a word'''\n",
        "    d = {}\n",
        "    for word in words:\n",
        "        for i in range(len(word)):\n",
        "            char = word[i]\n",
        "            if char not in d:\n",
        "                d[char] = [0] * 5\n",
        "            d[char][i] += 1 \n",
        "    return d"
      ]
    },
    {
      "cell_type": "code",
      "execution_count": 8,
      "metadata": {
        "id": "_twSGrGagI3u"
      },
      "outputs": [],
      "source": [
        "def count_letters2(words):\n",
        "    '''Use a Counter; functionally the same as count_letters()'''\n",
        "    c = Counter()\n",
        "    for word in words:\n",
        "        c.update(word)\n",
        "    return c"
      ]
    },
    {
      "cell_type": "code",
      "execution_count": 13,
      "metadata": {
        "id": "Vld5EeNLgI3w"
      },
      "outputs": [],
      "source": [
        "def show_counts(d, title):\n",
        "    '''Print the keys and values from dictionary d'''\n",
        "    print(title)\n",
        "    keylist = list(d)\n",
        "    keylist.sort()\n",
        "    for key in keylist:\n",
        "        print(key, d[key])"
      ]
    },
    {
      "cell_type": "code",
      "source": [],
      "metadata": {
        "id": "uY6Ch8x9hQJv"
      },
      "execution_count": null,
      "outputs": []
    },
    {
      "cell_type": "code",
      "execution_count": null,
      "metadata": {
        "id": "cHC5cNS2gI3z",
        "outputId": "0f37fc8f-ef19-47fc-abbc-c057b1431e72"
      },
      "outputs": [
        {
          "name": "stdout",
          "output_type": "stream",
          "text": [
            "abhor\n",
            "abide\n",
            "abled\n",
            "abode\n",
            "abort\n",
            "\n",
            "['abhor', 'abide', 'abled', 'abode', 'abort', 'about', 'above', 'abuse', 'abyss', 'acorn', 'acrid', 'actor', 'acute', 'adage', 'adapt', 'adept', 'admin', 'admit', 'adobe', 'adopt']\n",
            "['wrath', 'wreak', 'wreck', 'wrest', 'wring', 'wrist', 'write', 'wrong', 'wrote', 'wrung', 'wryly', 'yacht', 'yearn', 'yeast', 'yield', 'young', 'youth', 'zebra', 'zesty', 'zonal']\n",
            "{'a': 971, 'b': 274, 'h': 389, 'o': 753, 'r': 899, 'i': 671, 'd': 393, 'e': 1230, 'l': 719, 't': 727, 'u': 467, 'v': 153, 's': 668, 'y': 424, 'c': 476, 'n': 575, 'g': 311, 'p': 367, 'm': 316, 'f': 230, 'x': 37, 'w': 195, 'k': 209, 'z': 40, 'j': 27, 'q': 29} Number of times each letter occurs\n",
            "Counter({'e': 1230, 'a': 971, 'r': 899, 'o': 753, 't': 727, 'l': 719, 'i': 671, 's': 668, 'n': 575, 'c': 476, 'u': 467, 'y': 424, 'd': 393, 'h': 389, 'p': 367, 'm': 316, 'g': 311, 'b': 274, 'f': 230, 'k': 209, 'w': 195, 'v': 153, 'z': 40, 'x': 37, 'q': 29, 'j': 27}) Number of times each letter occurs\n",
            "{'a': 904, 'o': 672, 'r': 837, 'b': 262, 'h': 379, 'i': 647, 'e': 1053, 'd': 370, 'l': 648, 't': 665, 'u': 457, 'v': 149, 's': 617, 'y': 416, 'n': 550, 'c': 447, 'g': 300, 'p': 346, 'm': 298, 'f': 207, 'x': 37, 'w': 194, 'k': 201, 'z': 35, 'j': 27, 'q': 29} Number of words each letter occurs in\n",
            "{'s': 49, 'a': 67, 'f': 22, 'o': 81, 'g': 11, 'e': 172, 'i': 24, 'l': 71, 'n': 23, 'p': 19, 'r': 60, 't': 61, 'u': 10, 'b': 11, 'd': 22, 'c': 29, 'm': 15, 'y': 8, 'z': 5, 'h': 10, 'k': 8, 'v': 4, 'w': 1} Counts of letters in multiple words\n",
            "{'a': [136, 304, 304, 163, 64], 'b': [173, 11, 55, 24, 11], 'h': [69, 144, 9, 28, 139], 'o': [41, 279, 244, 131, 58], 'r': [105, 267, 163, 152, 212], 'i': [34, 202, 266, 158, 11], 'd': [111, 20, 75, 69, 118], 'e': [72, 242, 177, 317, 422], 'l': [88, 201, 112, 162, 156], 't': [149, 77, 111, 138, 252], 'u': [33, 186, 165, 82, 1], 'v': [43, 15, 49, 46, 0], 's': [366, 16, 80, 170, 36], 'y': [6, 23, 29, 3, 363], 'c': [198, 40, 56, 151, 31], 'n': [37, 87, 139, 182, 130], 'g': [115, 12, 67, 76, 41], 'p': [142, 61, 58, 50, 56], 'm': [107, 38, 61, 68, 42], 'f': [136, 8, 25, 35, 26], 'x': [0, 14, 12, 3, 8], 'w': [83, 44, 26, 25, 17], 'k': [20, 10, 12, 55, 112], 'z': [3, 2, 11, 20, 4], 'j': [20, 2, 3, 2, 0], 'q': [23, 5, 1, 0, 0]} Number of times each letter occurs in each position\n"
          ]
        }
      ],
      "source": [
        "def main():\n",
        "    wordstr = readfile(fname)\n",
        "    print(wordstr[:30])  \n",
        "    wordlist = wordstr.split()  \n",
        "    print(wordlist[:20])  \n",
        "    print(wordlist[-20:])\n",
        "    print(count_letters(wordlist), \"Number of times each letter occurs\")\n",
        "    print(count_letters2(wordlist), \"Number of times each letter occurs\")\n",
        "    print(count_words(wordlist), \"Number of words each letter occurs in\")\n",
        "    print(count_mult(wordlist), \"Counts of letters in multiple words\")\n",
        "    print(count_pos(wordlist),\"Number of times each letter occurs in each position\")\n",
        "main()"
      ]
    }
  ],
  "metadata": {
    "kernelspec": {
      "display_name": "Python 3.10.6 64-bit (microsoft store)",
      "language": "python",
      "name": "python3"
    },
    "language_info": {
      "codemirror_mode": {
        "name": "ipython",
        "version": 3
      },
      "file_extension": ".py",
      "mimetype": "text/x-python",
      "name": "python",
      "nbconvert_exporter": "python",
      "pygments_lexer": "ipython3",
      "version": "3.10.6"
    },
    "orig_nbformat": 4,
    "vscode": {
      "interpreter": {
        "hash": "760ad77f43ad07abf362501572049a52389ba57c19b20c033f6e2f9e6db4c737"
      }
    },
    "colab": {
      "provenance": []
    }
  },
  "nbformat": 4,
  "nbformat_minor": 0
}